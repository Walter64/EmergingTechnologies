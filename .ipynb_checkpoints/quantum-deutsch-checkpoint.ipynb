{
 "cells": [
  {
   "cell_type": "markdown",
   "id": "c08303ac-5cee-42c2-9235-8192ec777d59",
   "metadata": {},
   "source": [
    "# The quantum-deutsch Notebook by Walter Regan\n",
    "\n",
    "***\n",
    "### An explanation of Deutsch’s algorithm and code simulating it using qiskit\n",
    "\n",
    "[Deutsch-Jozsa Algorithm](https://qiskit.org/textbook/ch-algorithms/deutsch-jozsa.html)"
   ]
  },
  {
   "cell_type": "code",
   "execution_count": 38,
   "id": "d3ac6c40-0c91-4fc2-831d-2af48891ce3c",
   "metadata": {},
   "outputs": [],
   "source": [
    "import qiskit as q\n",
    "\n",
    "%matplotlib inline"
   ]
  },
  {
   "cell_type": "code",
   "execution_count": 39,
   "id": "f7b3dce3-a69a-45d8-b987-5dd86850db79",
   "metadata": {},
   "outputs": [
    {
     "data": {
      "text/plain": [
       "<qiskit.circuit.instructionset.InstructionSet at 0x7f82d33d5c40>"
      ]
     },
     "execution_count": 39,
     "metadata": {},
     "output_type": "execute_result"
    }
   ],
   "source": [
    "circuit = q.QuantumCircuit(2,2)  # 2 qubits, 2 classical bits \n",
    "circuit.x(0) # \"x\" is a \"not\" gate. It flips the value. Starting value is a 0, so this flips to a 1. \n",
    "circuit.cx(0, 1) #cnot, controlled not, Flips 2nd qubit's value if first qubit is 1\n",
    "circuit.measure([0,1], [0,1])  # ([qbitregister], [classicalbitregister]) Measure qubit 0 and 1 to classical bits 0 and 1"
   ]
  },
  {
   "cell_type": "code",
   "execution_count": 40,
   "id": "3e25adbf-b028-4ece-8ea9-df11552b8028",
   "metadata": {},
   "outputs": [
    {
     "data": {
      "text/html": [
       "<pre style=\"word-wrap: normal;white-space: pre;background: #fff0;line-height: 1.1;font-family: &quot;Courier New&quot;,Courier,monospace\">     ┌───┐     ┌─┐   \n",
       "q_0: ┤ X ├──■──┤M├───\n",
       "     └───┘┌─┴─┐└╥┘┌─┐\n",
       "q_1: ─────┤ X ├─╫─┤M├\n",
       "          └───┘ ║ └╥┘\n",
       "c: 2/═══════════╩══╩═\n",
       "                0  1 </pre>"
      ],
      "text/plain": [
       "     ┌───┐     ┌─┐   \n",
       "q_0: ┤ X ├──■──┤M├───\n",
       "     └───┘┌─┴─┐└╥┘┌─┐\n",
       "q_1: ─────┤ X ├─╫─┤M├\n",
       "          └───┘ ║ └╥┘\n",
       "c: 2/═══════════╩══╩═\n",
       "                0  1 "
      ]
     },
     "execution_count": 40,
     "metadata": {},
     "output_type": "execute_result"
    }
   ],
   "source": [
    "# need to install qiskit: pip install qiskit\n",
    "circuit.draw()  # text-based visualization. (pretty cool ...actually! Nice job whoever did this.)"
   ]
  },
  {
   "cell_type": "code",
   "execution_count": 41,
   "id": "c61fc46a-3702-4897-b60d-51b485b66546",
   "metadata": {},
   "outputs": [
    {
     "data": {
      "image/png": "[encoded data removed]",
      "text/plain": [
       "<Figure size 327.252x204.68 with 1 Axes>"
      ]
     },
     "execution_count": 41,
     "metadata": {},
     "output_type": "execute_result"
    }
   ],
   "source": [
    "# need to install circuit.visualization: pip install circuit.visualization\n",
    "circuit.draw(output=\"mpl\")  # matplotlib-based visualization."
   ]
  },
  {
   "cell_type": "code",
   "execution_count": null,
   "id": "453cd71e-b1a7-472a-83eb-a4e33e6cf779",
   "metadata": {},
   "outputs": [],
   "source": []
  },
  {
   "cell_type": "markdown",
   "id": "b69310d2-def1-4965-b9a3-1985032dc0d0",
   "metadata": {},
   "source": [
    "<br />\n",
    "\n",
    "## Complex Numbers\n",
    "\n",
    "***"
   ]
  },
  {
   "cell_type": "markdown",
   "id": "8ad1d34c-9843-47bf-9092-9274366794a0",
   "metadata": {},
   "source": [
    "$$a + bi \\qquad a, b \\in \\mathbb{R} \\qquad i^2 = -1 \\qquad \\mathrm{e.g} -2.0 + 5.0i$$"
   ]
  },
  {
   "cell_type": "markdown",
   "id": "54b25486-d1ab-451d-a30c-a204d9a517f8",
   "metadata": {},
   "source": [
    "## Setup\n",
    "***"
   ]
  },
  {
   "cell_type": "code",
   "execution_count": 42,
   "id": "8fca9183-7e7d-4e75-b6c3-e992849d1083",
   "metadata": {},
   "outputs": [],
   "source": [
    "# plotting\n",
    "import matplotlib.pyplot as plt\n",
    "\n",
    "# numerical arrays\n",
    "import numpy as np"
   ]
  },
  {
   "cell_type": "code",
   "execution_count": 43,
   "id": "ef1dc3f7-0217-4461-9e19-b2ed50c247e1",
   "metadata": {},
   "outputs": [],
   "source": [
    "# plot size\n",
    "plt.rcParams['figure.figsize'] = (20, 10)\n",
    "\n",
    "# plot style\n",
    "plt.style.use('seaborn-whitegrid')"
   ]
  },
  {
   "cell_type": "markdown",
   "id": "975b6950-e25d-4ed3-b8ee-1cb98f51df53",
   "metadata": {},
   "source": [
    "<br />\n",
    "\n",
    "## Built-in in Python\n",
    "***"
   ]
  },
  {
   "cell_type": "code",
   "execution_count": 44,
   "id": "78157eab-1daa-4297-adb4-173fa8f8f50f",
   "metadata": {},
   "outputs": [
    {
     "data": {
      "text/plain": [
       "(-1+0j)"
      ]
     },
     "execution_count": 44,
     "metadata": {},
     "output_type": "execute_result"
    }
   ],
   "source": [
    "# multiply two complex numbers\n",
    "1.0j * 1.0j"
   ]
  },
  {
   "cell_type": "code",
   "execution_count": 45,
   "id": "b8a573bb-df8c-439b-ac2f-186cca288b58",
   "metadata": {},
   "outputs": [
    {
     "data": {
      "text/plain": [
       "(-2+5j)"
      ]
     },
     "execution_count": 45,
     "metadata": {},
     "output_type": "execute_result"
    }
   ],
   "source": [
    "# assign complex number to x\n",
    "x = -2.0 + 5.0j\n",
    "x"
   ]
  },
  {
   "cell_type": "code",
   "execution_count": 46,
   "id": "04e4c244-1bae-46a6-8c0c-14f76d3fef23",
   "metadata": {},
   "outputs": [
    {
     "data": {
      "text/plain": [
       "(-21-20j)"
      ]
     },
     "execution_count": 46,
     "metadata": {},
     "output_type": "execute_result"
    }
   ],
   "source": [
    "# raise to power of 2\n",
    "x**2"
   ]
  },
  {
   "cell_type": "code",
   "execution_count": 47,
   "id": "67bc30ea-fdc6-4c30-92d6-ac2b94eac7df",
   "metadata": {},
   "outputs": [
    {
     "data": {
      "text/plain": [
       "(3+1.5j)"
      ]
     },
     "execution_count": 47,
     "metadata": {},
     "output_type": "execute_result"
    }
   ],
   "source": [
    "# assign complex number to y\n",
    "y = 3.0 + 1.5j\n",
    "y"
   ]
  },
  {
   "cell_type": "code",
   "execution_count": 48,
   "id": "a98f93be-4708-4e02-abe7-8ac30feb3dac",
   "metadata": {},
   "outputs": [
    {
     "data": {
      "text/plain": [
       "(1+6.5j)"
      ]
     },
     "execution_count": 48,
     "metadata": {},
     "output_type": "execute_result"
    }
   ],
   "source": [
    "# add x and y\n",
    "x + y"
   ]
  },
  {
   "cell_type": "code",
   "execution_count": 49,
   "id": "62e20c24-9916-48fe-9a64-ffb368a6bad8",
   "metadata": {},
   "outputs": [
    {
     "data": {
      "text/plain": [
       "(-13.5+12j)"
      ]
     },
     "execution_count": 49,
     "metadata": {},
     "output_type": "execute_result"
    }
   ],
   "source": [
    "# multiply x and y\n",
    "x * y"
   ]
  },
  {
   "cell_type": "markdown",
   "id": "821353c7-efaa-4d67-a972-c8c847924e82",
   "metadata": {
    "tags": []
   },
   "source": [
    "<br />\n",
    "\n",
    "## As pairs\n",
    "***"
   ]
  },
  {
   "cell_type": "code",
   "execution_count": 58,
   "id": "43c74076-0c1a-4661-861e-1538f03af9a9",
   "metadata": {},
   "outputs": [
    {
     "data": {
      "text/plain": [
       "[-2.0, 5.0]"
      ]
     },
     "execution_count": 58,
     "metadata": {},
     "output_type": "execute_result"
    }
   ],
   "source": [
    "# array x of real/floating point numbers\n",
    "x = [-2.0, 5.0]\n",
    "x"
   ]
  },
  {
   "cell_type": "code",
   "execution_count": 59,
   "id": "a2effbc5-7576-4cb6-b6d9-dd8c3e3dac6a",
   "metadata": {},
   "outputs": [
    {
     "data": {
      "text/plain": [
       "[3.0, 1.5]"
      ]
     },
     "execution_count": 59,
     "metadata": {},
     "output_type": "execute_result"
    }
   ],
   "source": [
    "# array y of real/floating point numbers\n",
    "y = [3.0, 1.5]\n",
    "y"
   ]
  },
  {
   "cell_type": "code",
   "execution_count": 60,
   "id": "97b8e0da-24a6-456e-85c0-e1eb1e15e47f",
   "metadata": {},
   "outputs": [],
   "source": [
    "# add method, returns sum of first elements in u and v, and sum of second elements in u and v\n",
    "def add(u, v):\n",
    "    return [u[0] + v[0], + u[1] + v[1]]"
   ]
  },
  {
   "cell_type": "code",
   "execution_count": 61,
   "id": "885a7229-89b8-439d-b1d0-490228a69156",
   "metadata": {},
   "outputs": [
    {
     "data": {
      "text/plain": [
       "[1.0, 6.5]"
      ]
     },
     "execution_count": 61,
     "metadata": {},
     "output_type": "execute_result"
    }
   ],
   "source": [
    "add(x, y)"
   ]
  },
  {
   "cell_type": "code",
   "execution_count": 62,
   "id": "4b06ebee-9deb-48a1-a4b6-5dcc787607b1",
   "metadata": {},
   "outputs": [],
   "source": [
    "# multiplication method\n",
    "def mult(u, v):\n",
    "    a, b = u\n",
    "    c, d = v\n",
    "    return [(a * c) - (b * d), (b * c) + (a * d)]"
   ]
  },
  {
   "cell_type": "code",
   "execution_count": 63,
   "id": "c895be36-7b2f-4596-aee0-d8e72eef73bb",
   "metadata": {},
   "outputs": [
    {
     "data": {
      "text/plain": [
       "[-13.5, 12.0]"
      ]
     },
     "execution_count": 63,
     "metadata": {},
     "output_type": "execute_result"
    }
   ],
   "source": [
    "mult(x, y)"
   ]
  },
  {
   "cell_type": "markdown",
   "id": "4b343ad6-5ca8-4f3b-a640-1a78cbcb15a9",
   "metadata": {},
   "source": [
    "<br />\n",
    "\n",
    "## Origins\n",
    "***"
   ]
  },
  {
   "cell_type": "markdown",
   "id": "7b69752a-f5af-480a-ae81-4db449794c5f",
   "metadata": {},
   "source": [
    "$$a x^2 + bx + c \\qquad \\textrm{e.g.} \\ x^2 - 5x + 6 \\qquad \\textrm{e.g.} \\ 2x^2 + 5x + 10 \\qquad x = \\frac{-b \\pm \\sqrt{b^2 - 4ac}}{2a}$$"
   ]
  },
  {
   "cell_type": "code",
   "execution_count": 65,
   "id": "83556704-129d-45e9-bbb0-540d1beea28c",
   "metadata": {},
   "outputs": [],
   "source": [
    "# function that returns a function\n",
    "class quadratic:\n",
    "    def __init__(self, a, b, c):\n",
    "        self.a = a\n",
    "        self.b = b\n",
    "        self.c = c\n",
    "        \n",
    "    def __call__(self, x):\n",
    "        return self.a * x**2 + self.b * x + self.c"
   ]
  },
  {
   "cell_type": "code",
   "execution_count": 66,
   "id": "cb8c5118-f7bd-47aa-bd15-f76d7789077b",
   "metadata": {},
   "outputs": [
    {
     "data": {
      "text/plain": [
       "<__main__.quadratic at 0x7f82a351ef40>"
      ]
     },
     "execution_count": 66,
     "metadata": {},
     "output_type": "execute_result"
    }
   ],
   "source": [
    "# create instance of quadratic\n",
    "p = quadratic(a=1.0, b=-5.0, c=6.0)\n",
    "p"
   ]
  },
  {
   "cell_type": "code",
   "execution_count": 67,
   "id": "5cdfe8ef-f8ff-4db6-bc30-2d3d4ee697ff",
   "metadata": {},
   "outputs": [
    {
     "data": {
      "text/plain": [
       "2.0"
      ]
     },
     "execution_count": 67,
     "metadata": {},
     "output_type": "execute_result"
    }
   ],
   "source": [
    "# call p with value of 1.0\n",
    "p(1.0)"
   ]
  },
  {
   "cell_type": "code",
   "execution_count": 68,
   "id": "8039344e-c999-4485-86f0-9076d1550cbc",
   "metadata": {},
   "outputs": [],
   "source": [
    "# create an array of 1000 evenly spaced values between 0 and 5\n",
    "x = np.linspace(0.0, 5.0, 1000)"
   ]
  },
  {
   "cell_type": "code",
   "execution_count": 74,
   "id": "87e60b9f-10c9-402e-a1c8-17b0faa9decd",
   "metadata": {},
   "outputs": [
    {
     "data": {
      "text/plain": [
       "<matplotlib.lines.Line2D at 0x7f82a33bad30>"
      ]
     },
     "execution_count": 74,
     "metadata": {},
     "output_type": "execute_result"
    },
    {
     "data": {
      "image/png": "[encoded data removed]",
      "text/plain": [
       "<Figure size 1440x720 with 1 Axes>"
      ]
     },
     "metadata": {},
     "output_type": "display_data"
    }
   ],
   "source": [
    "# plot p(x)\n",
    "fig, ax = plt.subplots()\n",
    "ax.plot(x, p(x))\n",
    "ax.axhline(y=0, color='k')\n",
    "ax.axvline(x=0, color='k')"
   ]
  },
  {
   "cell_type": "code",
   "execution_count": 78,
   "id": "1c509255-1be6-4955-9073-748eb5e04b62",
   "metadata": {},
   "outputs": [],
   "source": [
    "# solve with the formula\n",
    "def solve(p):\n",
    "    a, b, c = p.a, p.b, p.c\n",
    "    x1 = (-b - (b**2 - 4 * a * c)**0.5) / (2 * a)\n",
    "    x2 = (-b + (b**2 - 4 * a * c)**0.5) / (2 * a)\n",
    "    return [x1, x2]"
   ]
  },
  {
   "cell_type": "code",
   "execution_count": 79,
   "id": "a4c8ba87-0014-4cfa-9048-adf10098e0ea",
   "metadata": {},
   "outputs": [
    {
     "data": {
      "text/plain": [
       "[2.0, 3.0]"
      ]
     },
     "execution_count": 79,
     "metadata": {},
     "output_type": "execute_result"
    }
   ],
   "source": [
    "solve(p)"
   ]
  },
  {
   "cell_type": "markdown",
   "id": "886cf69b-1ce9-404f-b9b4-dc44a95e5805",
   "metadata": {},
   "source": [
    "<br />\n",
    "\n",
    "## Not hitting x\n",
    "***\n",
    "\n",
    "$$ax^2 + bx + c = (1.0)x^2 +(0.0)x + (1.0) = x^2 + 1$$"
   ]
  },
  {
   "cell_type": "code",
   "execution_count": 83,
   "id": "d423019f-4932-4592-864f-c1a3051e0561",
   "metadata": {},
   "outputs": [],
   "source": [
    "# create instance of quadratic\n",
    "p = quadratic(a=1.0, b=0.0, c=1.0)"
   ]
  },
  {
   "cell_type": "code",
   "execution_count": 84,
   "id": "2279e436-370c-4e5c-a96a-ddaa08733e90",
   "metadata": {},
   "outputs": [],
   "source": [
    "# create an array of 1000 evenly spaced values between -2.0 and 2.0\n",
    "x = np.linspace(-2.0, 2.0, 1000)"
   ]
  },
  {
   "cell_type": "code",
   "execution_count": 92,
   "id": "302946b5-d4eb-41a5-9243-b26de199565c",
   "metadata": {},
   "outputs": [
    {
     "data": {
      "text/plain": [
       "<matplotlib.lines.Line2D at 0x7f82a312cc70>"
      ]
     },
     "execution_count": 92,
     "metadata": {},
     "output_type": "execute_result"
    },
    {
     "data": {
      "image/png": "[encoded data removed]",
      "text/plain": [
       "<Figure size 1440x720 with 1 Axes>"
      ]
     },
     "metadata": {},
     "output_type": "display_data"
    }
   ],
   "source": [
    "# plot p(x)\n",
    "fig, ax = plt.subplots()\n",
    "ax.plot(x, p(x))\n",
    "ax.axhline(y=0, color='k')\n",
    "ax.axvline(x=0, color='k')"
   ]
  },
  {
   "cell_type": "code",
   "execution_count": 91,
   "id": "dac0ec08-93da-4d45-a1f3-a624463c2af0",
   "metadata": {},
   "outputs": [
    {
     "data": {
      "text/plain": [
       "((-1.2500000000000002-1.8540496217739157j),\n",
       " (-1.2499999999999998+1.8540496217739157j))"
      ]
     },
     "execution_count": 91,
     "metadata": {},
     "output_type": "execute_result"
    }
   ],
   "source": [
    "# solve\n",
    "x1, x2 = solve(p)\n",
    "x1, x2"
   ]
  },
  {
   "cell_type": "markdown",
   "id": "851b189b-7cf9-447e-b184-8e7627ca7b8d",
   "metadata": {},
   "source": [
    "The resultant above real values are essentially zero so output would be (0 - j), (0 + j). Therefore -j and +j are the roots of the equation."
   ]
  },
  {
   "cell_type": "code",
   "execution_count": 88,
   "id": "da696c70-b7a9-4e0e-895f-a5569de5a505",
   "metadata": {},
   "outputs": [
    {
     "data": {
      "text/plain": [
       "'x1 = -0.0-1.0j, x2 = 0.0+1.0j'"
      ]
     },
     "execution_count": 88,
     "metadata": {},
     "output_type": "execute_result"
    }
   ],
   "source": [
    "# reformat x1 and x2 to round to 1 decimal place\n",
    "f\"x1 = {x1:.1f}, x2 = {x2:.1f}\""
   ]
  },
  {
   "cell_type": "code",
   "execution_count": 89,
   "id": "abce06cb-b9f6-4abf-8d70-85f756aec2ef",
   "metadata": {},
   "outputs": [],
   "source": [
    "# create instance of quadratic\n",
    "p = quadratic(a=2.0, b=5.0, c=10.0)"
   ]
  },
  {
   "cell_type": "code",
   "execution_count": 90,
   "id": "a825593c-4efc-4840-9a9a-f4dc36833d84",
   "metadata": {},
   "outputs": [],
   "source": [
    "# create an array of 1000 evenly spaced values between -4.5 and 2.0\n",
    "x = np.linspace(-4.5, 2.0, 1000)"
   ]
  },
  {
   "cell_type": "code",
   "execution_count": 93,
   "id": "c6dd8b33-d090-42fc-a2f8-8f5427246fc9",
   "metadata": {},
   "outputs": [
    {
     "data": {
      "text/plain": [
       "<matplotlib.lines.Line2D at 0x7f82a30fcbe0>"
      ]
     },
     "execution_count": 93,
     "metadata": {},
     "output_type": "execute_result"
    },
    {
     "data": {
      "image/png": "[encoded data removed]",
      "text/plain": [
       "<Figure size 1440x720 with 1 Axes>"
      ]
     },
     "metadata": {},
     "output_type": "display_data"
    }
   ],
   "source": [
    "# plot p(x)\n",
    "fig, ax = plt.subplots()\n",
    "ax.plot(x, p(x))\n",
    "ax.axhline(y=0, color='k')\n",
    "ax.axvline(x=0, color='k')"
   ]
  },
  {
   "cell_type": "code",
   "execution_count": 94,
   "id": "984112dc-ea22-406e-9523-cc503926cd13",
   "metadata": {},
   "outputs": [
    {
     "data": {
      "text/plain": [
       "((-1.2500000000000002-1.8540496217739157j),\n",
       " (-1.2499999999999998+1.8540496217739157j))"
      ]
     },
     "execution_count": 94,
     "metadata": {},
     "output_type": "execute_result"
    }
   ],
   "source": [
    "# solve\n",
    "x1, x2 = solve(p)\n",
    "x1, x2"
   ]
  },
  {
   "cell_type": "code",
   "execution_count": 95,
   "id": "19f38b87-664a-4a02-b95c-b246d2d33f32",
   "metadata": {},
   "outputs": [
    {
     "data": {
      "text/plain": [
       "'x1 = -1.3-1.9j, x2 = -1.2+1.9j'"
      ]
     },
     "execution_count": 95,
     "metadata": {},
     "output_type": "execute_result"
    }
   ],
   "source": [
    "# reformat x1 and x2 to round to 1 decimal place\n",
    "f\"x1 = {x1:.1f}, x2 = {x2:.1f}\""
   ]
  },
  {
   "cell_type": "markdown",
   "id": "c735fb29-f561-4688-9b15-bc26bc475cf8",
   "metadata": {},
   "source": [
    "## End Complex Numbers"
   ]
  },
  {
   "cell_type": "markdown",
   "id": "e685b11b-6642-4337-a99f-c56a2e4cfbf0",
   "metadata": {},
   "source": [
    "<br />\n",
    "\n",
    "## Balanced Functions or Constant Functions\n",
    "***"
   ]
  },
  {
   "cell_type": "code",
   "execution_count": 1,
   "id": "0c0c900a-f70a-440a-a412-14fd8acefbfb",
   "metadata": {},
   "outputs": [],
   "source": [
    "# random selections\n",
    "import random\n",
    "\n",
    "# permutations and combinations\n",
    "import itertools"
   ]
  },
  {
   "cell_type": "markdown",
   "id": "5cc2be00-dd2d-481c-8ea1-385fc7588225",
   "metadata": {},
   "source": [
    "<br />\n",
    "\n",
    "## One bit inputs\n",
    "***"
   ]
  },
  {
   "cell_type": "markdown",
   "id": "02856f40-c59f-460e-a3a3-7941da1f02a8",
   "metadata": {},
   "source": [
    "$x$ is a bit.\n",
    "\n",
    "It's possible values are 0 and 1."
   ]
  },
  {
   "cell_type": "code",
   "execution_count": 4,
   "id": "a33dacac-e55f-4588-8248-78c3e353d3c7",
   "metadata": {},
   "outputs": [],
   "source": [
    "# constant function - returns 1\n",
    "def f_a(x):\n",
    "    return 1"
   ]
  },
  {
   "cell_type": "code",
   "execution_count": 5,
   "id": "d87788f6-eb31-4175-aa66-ebff9778b386",
   "metadata": {},
   "outputs": [
    {
     "data": {
      "text/plain": [
       "1"
      ]
     },
     "execution_count": 5,
     "metadata": {},
     "output_type": "execute_result"
    }
   ],
   "source": [
    "# pass 0\n",
    "f_a(0)"
   ]
  },
  {
   "cell_type": "code",
   "execution_count": 8,
   "id": "04ebe682-9dce-4ef8-bc1f-b3d32f9e0c00",
   "metadata": {},
   "outputs": [
    {
     "data": {
      "text/plain": [
       "1"
      ]
     },
     "execution_count": 8,
     "metadata": {},
     "output_type": "execute_result"
    }
   ],
   "source": [
    "# pass 1\n",
    "f_a(1)"
   ]
  },
  {
   "cell_type": "code",
   "execution_count": 6,
   "id": "4dee7b2a-51b3-4279-9a2e-5e452a42f850",
   "metadata": {},
   "outputs": [],
   "source": [
    "# constant function - returns 0\n",
    "def f_b(x):\n",
    "    return 0"
   ]
  },
  {
   "cell_type": "code",
   "execution_count": 7,
   "id": "388c5fd8-411f-4f63-83ce-159e9e96b5c2",
   "metadata": {},
   "outputs": [
    {
     "data": {
      "text/plain": [
       "0"
      ]
     },
     "execution_count": 7,
     "metadata": {},
     "output_type": "execute_result"
    }
   ],
   "source": [
    "# pass 0\n",
    "f_b(0)"
   ]
  },
  {
   "cell_type": "code",
   "execution_count": 9,
   "id": "c572073c-cb65-4a06-ba2b-8571b8a3d925",
   "metadata": {},
   "outputs": [
    {
     "data": {
      "text/plain": [
       "0"
      ]
     },
     "execution_count": 9,
     "metadata": {},
     "output_type": "execute_result"
    }
   ],
   "source": [
    "# pass 1\n",
    "f_b(1)"
   ]
  },
  {
   "cell_type": "code",
   "execution_count": 20,
   "id": "272f7140-8c6b-4d78-8c37-59302db3b54e",
   "metadata": {},
   "outputs": [],
   "source": [
    "# balaced function - returns passed value (half of inputs give 0 and half give 1)\n",
    "def f_c(x):\n",
    "    return x"
   ]
  },
  {
   "cell_type": "code",
   "execution_count": 12,
   "id": "6dde58b0-f9ec-4fd8-9ae9-c82e5a9427bb",
   "metadata": {},
   "outputs": [
    {
     "data": {
      "text/plain": [
       "0"
      ]
     },
     "execution_count": 12,
     "metadata": {},
     "output_type": "execute_result"
    }
   ],
   "source": [
    "# pass 0\n",
    "f_c(0)"
   ]
  },
  {
   "cell_type": "code",
   "execution_count": 13,
   "id": "ce55ef14-9272-4afd-b226-9301bc3e34c4",
   "metadata": {},
   "outputs": [
    {
     "data": {
      "text/plain": [
       "1"
      ]
     },
     "execution_count": 13,
     "metadata": {},
     "output_type": "execute_result"
    }
   ],
   "source": [
    "# pass 1\n",
    "f_c(1)"
   ]
  },
  {
   "cell_type": "code",
   "execution_count": 33,
   "id": "0fda3c5e-9338-4571-91bb-5717c5d89f5c",
   "metadata": {},
   "outputs": [],
   "source": [
    "# balaced function - returns remainder which flips the input and returns this value\n",
    "def f_d(x):\n",
    "    return ((x + 1) % 2)"
   ]
  },
  {
   "cell_type": "code",
   "execution_count": 34,
   "id": "2005a3cd-0581-47b9-b0d9-ea981cd2ced6",
   "metadata": {},
   "outputs": [
    {
     "data": {
      "text/plain": [
       "1"
      ]
     },
     "execution_count": 34,
     "metadata": {},
     "output_type": "execute_result"
    }
   ],
   "source": [
    "# pass 0\n",
    "f_d(0)"
   ]
  },
  {
   "cell_type": "code",
   "execution_count": 35,
   "id": "9310feef-d9c0-4fcd-96f6-d9edb061a2d3",
   "metadata": {},
   "outputs": [
    {
     "data": {
      "text/plain": [
       "0"
      ]
     },
     "execution_count": 35,
     "metadata": {},
     "output_type": "execute_result"
    }
   ],
   "source": [
    "# pass 1\n",
    "f_d(1)"
   ]
  },
  {
   "cell_type": "markdown",
   "id": "729b8d4b-bf4e-47da-944e-4fb9de8c9d9f",
   "metadata": {},
   "source": [
    "__4 possible outcomes for the both inputs.__\n",
    "\n",
    "|  x | f_a(x) | f_b(x) | f_c(x) | f_d(x) |\n",
    "|----|--------|--------|--------|--------|\n",
    "|  **0** |    1   |    0   |    0   |    1   |\n",
    "|  **1** |    1   |    0   |    1   |    0   |"
   ]
  },
  {
   "cell_type": "markdown",
   "id": "16079311-e7b6-4435-a604-8feb471a00a2",
   "metadata": {},
   "source": [
    "\n",
    "## Pick one of the functions at random"
   ]
  },
  {
   "cell_type": "code",
   "execution_count": 24,
   "id": "9afb2684-ce3f-447b-bcaa-67c366d58caa",
   "metadata": {},
   "outputs": [],
   "source": [
    "# put the four functions in a list (the functions themselves not a call to the function)\n",
    "funcs = [f_a, f_b, f_c, f_d]"
   ]
  },
  {
   "cell_type": "code",
   "execution_count": 30,
   "id": "0c29543d-973c-4070-9aa1-3bb7a82e1db6",
   "metadata": {},
   "outputs": [
    {
     "data": {
      "text/plain": [
       "<function __main__.f_a(x)>"
      ]
     },
     "execution_count": 30,
     "metadata": {},
     "output_type": "execute_result"
    }
   ],
   "source": [
    "# select a function from the list at random (run multiple times to see random selections)\n",
    "random.choice(funcs)"
   ]
  },
  {
   "cell_type": "code",
   "execution_count": 32,
   "id": "a6d96ae3-79d6-4a41-a498-35b0f7d8a646",
   "metadata": {},
   "outputs": [],
   "source": [
    "# assign to f, but not look at value of f, which function has been randomly assigned to f\n",
    "f = random.choice(funcs)"
   ]
  },
  {
   "cell_type": "markdown",
   "id": "8044ca5e-9f1d-49f3-98cd-8e70025e7dac",
   "metadata": {},
   "source": [
    "<br />\n",
    "\n",
    "## Test for balanced or constant\n",
    "***"
   ]
  },
  {
   "cell_type": "code",
   "execution_count": 36,
   "id": "6d0aa254-9e30-40c7-a89e-4fedbfc0224b",
   "metadata": {},
   "outputs": [
    {
     "data": {
      "text/plain": [
       "1"
      ]
     },
     "execution_count": 36,
     "metadata": {},
     "output_type": "execute_result"
    }
   ],
   "source": [
    "# testing for 0\n",
    "f(0)"
   ]
  },
  {
   "cell_type": "code",
   "execution_count": 37,
   "id": "9fa050cd-531c-4a39-9e52-9ed7caf1d192",
   "metadata": {},
   "outputs": [
    {
     "data": {
      "text/plain": [
       "0"
      ]
     },
     "execution_count": 37,
     "metadata": {},
     "output_type": "execute_result"
    }
   ],
   "source": [
    "# testing for 1\n",
    "f(1)"
   ]
  },
  {
   "cell_type": "markdown",
   "id": "31784e77-210c-4b42-9e71-e2fe23a38305",
   "metadata": {},
   "source": [
    "In the above testing, use 2 inputs to determine whether the function was balanced or constant. In the initial test the correct answer was f_d(x) which is a balance function, but this can change on subsequent executions."
   ]
  },
  {
   "cell_type": "markdown",
   "id": "032c61b4-ed0b-4954-b6af-9482cda466ac",
   "metadata": {},
   "source": [
    "<br />\n",
    "\n",
    "## Two bits\n",
    "***"
   ]
  },
  {
   "cell_type": "markdown",
   "id": "62c80db2-ea68-494a-85fa-5ee41cc149c2",
   "metadata": {},
   "source": [
    "There are only 2 possibilities for constant functions here, the first f which is all 0's and last f which is all 1's. There are 6 functions that are balanced, return 0 or 1 half the time. In the Deutsch's Algorithm we are only the constant and balanced functions, not ones that are neither balanced or constant.\n",
    "\n",
    "|  x1   |  x2   | f | f | f | f | f | f | f | f | f | f | f | f | f | f | f | f |\n",
    "|-------|-------|---|---|---|---|---|---|---|---|---|---|---|---|---|---|---|---|\n",
    "| **0** | **0** | 0 | 0 | 0 | 0 | 0 | 0 | 0 | 0 | 1 | 1 | 1 | 1 | 1 | 1 | 1 | 1 |\n",
    "| **0** | **1** | 0 | 0 | 0 | 0 | 1 | 1 | 1 | 1 | 0 | 0 | 0 | 0 | 1 | 1 | 1 | 1 |\n",
    "| **1** | **0** | 0 | 0 | 1 | 1 | 0 | 0 | 1 | 1 | 0 | 0 | 1 | 1 | 0 | 0 | 1 | 1 |\n",
    "| **1** | **1** | 0 | 1 | 0 | 1 | 0 | 1 | 0 | 1 | 0 | 1 | 0 | 1 | 0 | 1 | 0 | 1 |"
   ]
  },
  {
   "cell_type": "markdown",
   "id": "0ffae4bb-7e1a-4111-be6d-3f47204b8b0c",
   "metadata": {},
   "source": [
    "In next video, will show a technique for writing a general set up for this so it is not necessary to specify the functions ahead of time. We can just write an algorithm that will initially pick a function at random from the constant or balanced functions, then look at a general algorithm that might try figure out whether the function is conatant or balanced. The goal is to use as little investigation as possible meaning, calling the function as little as possible.\n",
    "\n",
    "The reason for interest in this scenario is because David Deutsch realised, as to whether quantum computers can do things that classical computers can't. Do things more quickly than classical computers. The hardware side of this is really the main problem whether things can be physically done. But on the software side, Deutsch realised that where the best classical computer algorithm to check if the function was balanced or constant needs to make two calls to the function, whereas with the quantum computer only needs to make a single call to the function.\n",
    "\n",
    "Presently this is about 99% true. Can design a quantum computer that solve this problem, based on a single call. Therefore a quantum computer is supposed to solve this problem more efficiently than a classical computer. Can be shown theoretically that this is true. There is no doubt about the mathematics about this. Can you keep a qubit alive long enough to show this. \n",
    "\n",
    "The more bits you add as inputs, the number of function calls a classical computer needs to make goes up exponentially, whereas a quantum computer still solves it with that algorithm with a single function call."
   ]
  },
  {
   "cell_type": "code",
   "execution_count": null,
   "id": "7b252a2a-ae29-422a-8109-22d1cbe3e399",
   "metadata": {},
   "outputs": [],
   "source": []
  },
  {
   "cell_type": "code",
   "execution_count": 38,
   "id": "e1b2884a-e4e3-401a-97ee-be4467af2766",
   "metadata": {},
   "outputs": [],
   "source": [
    "# number of input bits\n",
    "n = 2"
   ]
  },
  {
   "cell_type": "code",
   "execution_count": 42,
   "id": "446b7e89-190b-483f-9654-17ff50abafd1",
   "metadata": {},
   "outputs": [
    {
     "data": {
      "text/plain": [
       "[0, 0, 0, 0]"
      ]
     },
     "execution_count": 42,
     "metadata": {},
     "output_type": "execute_result"
    }
   ],
   "source": [
    "# the zeros constant function - takes the contents of list [0], replicates 2**n times\n",
    "[0] * 2**n"
   ]
  },
  {
   "cell_type": "code",
   "execution_count": 40,
   "id": "35768641-44ac-4096-b66a-fa7a679a3a91",
   "metadata": {},
   "outputs": [
    {
     "data": {
      "text/plain": [
       "[1, 1, 1, 1]"
      ]
     },
     "execution_count": 40,
     "metadata": {},
     "output_type": "execute_result"
    }
   ],
   "source": [
    "# the ones constant function\n",
    "[1] * 2**n"
   ]
  },
  {
   "cell_type": "code",
   "execution_count": 47,
   "id": "3cb6b178-6403-4e3f-80dc-8dbb14f2e762",
   "metadata": {},
   "outputs": [
    {
     "data": {
      "text/plain": [
       "[[1, 1, 0, 0],\n",
       " [1, 0, 1, 0],\n",
       " [1, 0, 0, 1],\n",
       " [0, 1, 1, 0],\n",
       " [0, 1, 0, 1],\n",
       " [0, 0, 1, 1]]"
      ]
     },
     "execution_count": 47,
     "metadata": {},
     "output_type": "execute_result"
    }
   ],
   "source": [
    "# generate the balanced functions\n",
    "# adopted from https://stackoverflow.com/a/43817007\n",
    "def balanced_functions(noinputbits):\n",
    "    # length of the list is 2 to power of noinputbits\n",
    "    size = 2**noinputbits\n",
    "    # number of ones is half the length of that list\n",
    "    count = size // 2\n",
    "    # generate all positions for 1's\n",
    "    for positions in itertools.combinations(range(size), count):\n",
    "        # create a list of zeros\n",
    "        p = [0] * size\n",
    "        # set positions to 1's\n",
    "        for i in positions:\n",
    "            p[i] = 1\n",
    "        # generate list\n",
    "        yield p\n",
    "\n",
    "list(balanced_functions(2))"
   ]
  },
  {
   "cell_type": "code",
   "execution_count": null,
   "id": "19eb8cd7-bc04-46e4-a9c7-4c439bc5ca38",
   "metadata": {},
   "outputs": [],
   "source": []
  },
  {
   "cell_type": "code",
   "execution_count": null,
   "id": "95c8eecd-0f49-4f4c-8068-a73984e72bc3",
   "metadata": {},
   "outputs": [],
   "source": []
  },
  {
   "cell_type": "code",
   "execution_count": null,
   "id": "a6910e46-ebb0-4569-8687-90db9bac59fe",
   "metadata": {},
   "outputs": [],
   "source": []
  },
  {
   "cell_type": "code",
   "execution_count": null,
   "id": "2a92efb3-b96b-4392-aa9c-075bea019481",
   "metadata": {},
   "outputs": [],
   "source": []
  },
  {
   "cell_type": "code",
   "execution_count": null,
   "id": "6eaa6a63-6cbd-4fe6-a77c-e21981fcded8",
   "metadata": {},
   "outputs": [],
   "source": []
  },
  {
   "cell_type": "code",
   "execution_count": null,
   "id": "1ce08812-c7f5-46f3-87d6-088740465221",
   "metadata": {},
   "outputs": [],
   "source": []
  },
  {
   "cell_type": "code",
   "execution_count": null,
   "id": "3a27078f-c040-4038-b874-3f9bc5c3bab4",
   "metadata": {},
   "outputs": [],
   "source": []
  },
  {
   "cell_type": "code",
   "execution_count": null,
   "id": "31ee3cde-b133-485c-842c-29f4c135f5d2",
   "metadata": {},
   "outputs": [],
   "source": []
  },
  {
   "cell_type": "code",
   "execution_count": null,
   "id": "db16c8b6-0c1f-44bc-b6ea-15438afe2948",
   "metadata": {},
   "outputs": [],
   "source": []
  },
  {
   "cell_type": "code",
   "execution_count": null,
   "id": "3695a339-7c5d-4397-a914-591d3502468d",
   "metadata": {},
   "outputs": [],
   "source": []
  },
  {
   "cell_type": "markdown",
   "id": "4c3ef083-99a4-41a5-bc1e-ac594b139518",
   "metadata": {},
   "source": [
    "## References\n"
   ]
  },
  {
   "cell_type": "markdown",
   "id": "dd9db52d-250d-47de-897e-2ed57fde37ab",
   "metadata": {},
   "source": [
    "***\n",
    "\n",
    "## End"
   ]
  }
 ],
 "metadata": {
  "kernelspec": {
   "display_name": "Python 3 (ipykernel)",
   "language": "python",
   "name": "python3"
  },
  "language_info": {
   "codemirror_mode": {
    "name": "ipython",
    "version": 3
   },
   "file_extension": ".py",
   "mimetype": "text/x-python",
   "name": "python",
   "nbconvert_exporter": "python",
   "pygments_lexer": "ipython3",
   "version": "3.9.7"
  }
 },
 "nbformat": 4,
 "nbformat_minor": 5
}
