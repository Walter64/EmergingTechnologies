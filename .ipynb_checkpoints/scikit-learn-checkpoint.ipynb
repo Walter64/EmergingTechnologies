{
 "cells": [
  {
   "cell_type": "markdown",
   "id": "a11874ed-7348-4c7e-b95f-9a7a4a6b9d65",
   "metadata": {},
   "source": [
    "## The scikit-learn Notebook by Walter Regan\n",
    "\n",
    "***\n",
    "\n",
    "### This notebook will contain a clear and concise overview of the scikit-learn Python library, demonstrating at least three interesting scikit-learn algorithms of your choice. You may choose to have an overall spread of examples across the library or pick a particular part that you find interesting. <b />\n",
    "**Edit into first person present tense when I decide on which examples to do.**"
   ]
  },
  {
   "cell_type": "code",
   "execution_count": 8,
   "id": "0bbce793-7cd2-439f-bbb4-ab2aac457b94",
   "metadata": {},
   "outputs": [],
   "source": [
    "# Efficient numerical arrays\n",
    "import numpy as np\n",
    "\n",
    "# plotting\n",
    "import matplotlib.pyplot as plt"
   ]
  },
  {
   "cell_type": "code",
   "execution_count": 2,
   "id": "55364444-0c9f-496a-b486-b71ac1b38e70",
   "metadata": {},
   "outputs": [],
   "source": [
    "# change default style sheet\n",
    "#plt.style.use('ggplot')\n",
    "plt.style.use('fivethirtyeight')\n",
    "\n",
    "# change default figure size\n",
    "plt.rcParams['figure.figsize'] = [10, 5]"
   ]
  },
  {
   "cell_type": "markdown",
   "id": "53f20fa3-5e27-47a0-952f-6151bcbd86cb",
   "metadata": {},
   "source": [
    "<b />\n",
    "\n",
    "### numpy.random.normal\n",
    "\n",
    "https://numpy.org/doc/stable/reference/random/generated/numpy.random.normal.html\n",
    "\n",
    "***"
   ]
  },
  {
   "cell_type": "code",
   "execution_count": 3,
   "id": "ab3fdace-ea38-4fcd-80c6-23ef46bcb33c",
   "metadata": {},
   "outputs": [],
   "source": [
    " # mean and standard deviation\n",
    "mu, sigma = 0, 0.1\n",
    "\n",
    "# draw random samples from a normal (Gaussian) distribution\n",
    "s = np.random.normal(mu, sigma, 1000)"
   ]
  },
  {
   "cell_type": "code",
   "execution_count": 4,
   "id": "7b983301-3ac0-4721-bd9d-9810d79316dc",
   "metadata": {},
   "outputs": [
    {
     "data": {
      "text/plain": [
       "0.0008101983223560143"
      ]
     },
     "execution_count": 4,
     "metadata": {},
     "output_type": "execute_result"
    }
   ],
   "source": [
    "# verify the mean and the variance\n",
    "abs(mu - np.mean(s))"
   ]
  },
  {
   "cell_type": "code",
   "execution_count": 5,
   "id": "0af5e544-0086-436d-a34e-b4341c41a4a7",
   "metadata": {},
   "outputs": [
    {
     "data": {
      "text/plain": [
       "0.002190571315690462"
      ]
     },
     "execution_count": 5,
     "metadata": {},
     "output_type": "execute_result"
    }
   ],
   "source": [
    "abs(sigma - np.std(s, ddof=1))"
   ]
  },
  {
   "cell_type": "code",
   "execution_count": 6,
   "id": "3a5c52eb-a36e-4c03-a973-a4af4130d0e4",
   "metadata": {},
   "outputs": [
    {
     "data": {
      "image/png": "[encoded data removed]",
      "text/plain": [
       "<Figure size 720x360 with 1 Axes>"
      ]
     },
     "metadata": {},
     "output_type": "display_data"
    }
   ],
   "source": [
    "# Verify the mean and the variance\n",
    "count, bins, ignored = plt.hist(s, 30, density=True)\n",
    "f = 1/(sigma * np.sqrt(2 * np.pi)) * np.exp(-(bins - mu)**2/(2 * sigma**2))\n",
    "plt.plot(bins, f, linewidth=2)\n",
    "plt.show()"
   ]
  },
  {
   "cell_type": "markdown",
   "id": "1b4e0349-3db5-4ce5-8596-1682f48efad1",
   "metadata": {},
   "source": [
    "## End Section 1\n",
    "***\n",
    "***"
   ]
  },
  {
   "cell_type": "markdown",
   "id": "b74e65cd-4de9-41aa-bd5a-db1f7bc02e25",
   "metadata": {},
   "source": [
    "## scikit-learn Tutorials Examples\n",
    "https://scikit-learn.org/stable/tutorial/index.html\n",
    "***"
   ]
  },
  {
   "cell_type": "markdown",
   "id": "7f77772b-0ffd-4725-87d3-3b3d5032f6a1",
   "metadata": {},
   "source": [
    "## An introduction to machine learning with scikit-learn"
   ]
  },
  {
   "cell_type": "markdown",
   "id": "0ec49480-a26b-4f90-9586-3ba6b57be8b6",
   "metadata": {},
   "source": [
    "### Loading an example dataset"
   ]
  },
  {
   "cell_type": "code",
   "execution_count": 52,
   "id": "2f319ff0-e980-45ab-9543-2f734df219fa",
   "metadata": {},
   "outputs": [],
   "source": [
    "#import sklearn.datasets as datasets\n",
    "from sklearn import datasets"
   ]
  },
  {
   "cell_type": "code",
   "execution_count": 53,
   "id": "ba4f171e-9b49-4d06-8cdb-ba597be09fb9",
   "metadata": {},
   "outputs": [],
   "source": [
    "iris = datasets.load_iris()"
   ]
  },
  {
   "cell_type": "code",
   "execution_count": 54,
   "id": "28282436-1c36-439a-9eeb-4b0c9244af2d",
   "metadata": {},
   "outputs": [],
   "source": [
    "digits = datasets.load_digits()"
   ]
  },
  {
   "cell_type": "code",
   "execution_count": 55,
   "id": "32a83845-0547-44a2-aa8c-518dfada443e",
   "metadata": {},
   "outputs": [
    {
     "name": "stdout",
     "output_type": "stream",
     "text": [
      "[[ 0.  0.  5. ...  0.  0.  0.]\n",
      " [ 0.  0.  0. ... 10.  0.  0.]\n",
      " [ 0.  0.  0. ... 16.  9.  0.]\n",
      " ...\n",
      " [ 0.  0.  1. ...  6.  0.  0.]\n",
      " [ 0.  0.  2. ... 12.  0.  0.]\n",
      " [ 0.  0. 10. ... 12.  1.  0.]]\n"
     ]
    }
   ],
   "source": [
    "print(digits.data)"
   ]
  },
  {
   "cell_type": "code",
   "execution_count": 56,
   "id": "2ce8971d-9dd1-425d-8daf-83535211acc3",
   "metadata": {},
   "outputs": [
    {
     "data": {
      "text/plain": [
       "array([0, 1, 2, ..., 8, 9, 8])"
      ]
     },
     "execution_count": 56,
     "metadata": {},
     "output_type": "execute_result"
    }
   ],
   "source": [
    "digits.target"
   ]
  },
  {
   "cell_type": "code",
   "execution_count": 57,
   "id": "48a58964-c331-4b29-ae49-27805dca4e25",
   "metadata": {},
   "outputs": [
    {
     "name": "stdout",
     "output_type": "stream",
     "text": [
      "[0 1 2 ... 8 9 8]\n"
     ]
    }
   ],
   "source": [
    "print(digits.target)"
   ]
  },
  {
   "cell_type": "markdown",
   "id": "5073acab-c2a1-4dbf-baae-669368e1e96c",
   "metadata": {},
   "source": [
    "### Learning and predicting"
   ]
  },
  {
   "cell_type": "code",
   "execution_count": 58,
   "id": "ac5b919a-5613-4cd4-86d3-0237ec957000",
   "metadata": {},
   "outputs": [],
   "source": [
    "# estimator class\n",
    "from sklearn import svm\n",
    "#import sklearn.svm as svm"
   ]
  },
  {
   "cell_type": "code",
   "execution_count": 59,
   "id": "bd09d4ef-82a4-498c-ba4c-30441a1ede37",
   "metadata": {},
   "outputs": [],
   "source": [
    "# clf - for classifier, here is an estimator instance\n",
    "clf = svm.SVC(gamma=0.001, C=100)"
   ]
  },
  {
   "cell_type": "markdown",
   "id": "94ad25dc-d658-48cd-af42-6708bd7a5758",
   "metadata": {},
   "source": [
    "__Choosing the parameters of the mode__"
   ]
  },
  {
   "cell_type": "code",
   "execution_count": 60,
   "id": "e6b722cf-5422-46d3-abf1-1fd3d815e599",
   "metadata": {},
   "outputs": [
    {
     "data": {
      "text/plain": [
       "SVC(C=100, gamma=0.001)"
      ]
     },
     "execution_count": 60,
     "metadata": {},
     "output_type": "execute_result"
    }
   ],
   "source": [
    "clf.fit(digits.data[:-1], digits.target[:-1])"
   ]
  },
  {
   "cell_type": "code",
   "execution_count": 62,
   "id": "e16c1e65-c65c-4ab7-9e27-5485f297040b",
   "metadata": {},
   "outputs": [
    {
     "data": {
      "text/plain": [
       "array([8])"
      ]
     },
     "execution_count": 62,
     "metadata": {},
     "output_type": "execute_result"
    }
   ],
   "source": [
    "# predict new values\n",
    "clf.predict(digits.data[-1:])"
   ]
  },
  {
   "cell_type": "markdown",
   "id": "83da219a-e341-4f7f-9638-f1f7ad4e5ff3",
   "metadata": {},
   "source": [
    "### Conventions\n",
    "scikit-learn estimators follow certain rules to make their behavior more predictive. These are described in more detail in the Glossary of Common Terms and API Elements.\n",
    "https://scikit-learn.org/stable/glossary.html#glossary"
   ]
  },
  {
   "cell_type": "markdown",
   "id": "61ea0643-2ea4-4b1f-bbba-fb22478ef07f",
   "metadata": {},
   "source": [
    "__Type Casting__"
   ]
  },
  {
   "cell_type": "code",
   "execution_count": 63,
   "id": "7a802785-9cb6-417f-ba7d-531909b8f90c",
   "metadata": {},
   "outputs": [],
   "source": [
    "import numpy as np"
   ]
  },
  {
   "cell_type": "code",
   "execution_count": 64,
   "id": "c5125c3f-68ea-434b-922b-6017e5ee70da",
   "metadata": {},
   "outputs": [],
   "source": [
    "from sklearn import random_projection"
   ]
  },
  {
   "cell_type": "code",
   "execution_count": 65,
   "id": "85912ee5-f5a3-4974-ad63-8aab5ef6fb95",
   "metadata": {},
   "outputs": [],
   "source": [
    "rng = np.random.RandomState(0)"
   ]
  },
  {
   "cell_type": "code",
   "execution_count": 66,
   "id": "826f5c59-9e0d-4703-b2c6-e6d2efd8726c",
   "metadata": {},
   "outputs": [],
   "source": [
    "X = rng.rand(10, 2000)"
   ]
  },
  {
   "cell_type": "code",
   "execution_count": 67,
   "id": "0517ddf7-8155-40f9-8d88-fa60a228c1a4",
   "metadata": {},
   "outputs": [],
   "source": [
    "X = np.array(X, dtype='float32')"
   ]
  },
  {
   "cell_type": "code",
   "execution_count": 68,
   "id": "dbfde54b-07b5-418c-8cd8-d7a12d79dd81",
   "metadata": {},
   "outputs": [
    {
     "data": {
      "text/plain": [
       "dtype('float32')"
      ]
     },
     "execution_count": 68,
     "metadata": {},
     "output_type": "execute_result"
    }
   ],
   "source": [
    "X.dtype"
   ]
  },
  {
   "cell_type": "code",
   "execution_count": 69,
   "id": "4495b693-fa7f-4aa1-8197-eb8003f6fc8f",
   "metadata": {},
   "outputs": [],
   "source": [
    "transformer = random_projection.GaussianRandomProjection()"
   ]
  },
  {
   "cell_type": "code",
   "execution_count": 70,
   "id": "8649f66b-9140-4c43-a98c-853e4dca4da9",
   "metadata": {},
   "outputs": [],
   "source": [
    "X_new = transformer.fit_transform(X)"
   ]
  },
  {
   "cell_type": "code",
   "execution_count": 71,
   "id": "2e1b5d99-cbe1-484d-8f72-30b3371cda06",
   "metadata": {},
   "outputs": [
    {
     "data": {
      "text/plain": [
       "dtype('float64')"
      ]
     },
     "execution_count": 71,
     "metadata": {},
     "output_type": "execute_result"
    }
   ],
   "source": [
    "X_new.dtype"
   ]
  },
  {
   "cell_type": "code",
   "execution_count": 74,
   "id": "f8f6d9e6-6f05-4e66-b61e-33d11a6cf5cc",
   "metadata": {},
   "outputs": [],
   "source": [
    "#from sklearn import datasets"
   ]
  },
  {
   "cell_type": "code",
   "execution_count": 75,
   "id": "3b4b4cd0-f235-4613-9efc-ec2a79539546",
   "metadata": {},
   "outputs": [],
   "source": [
    "from sklearn.svm import SVC"
   ]
  },
  {
   "cell_type": "code",
   "execution_count": null,
   "id": "d0a715a6-4a5d-4d19-9c72-66f6200af7fa",
   "metadata": {},
   "outputs": [],
   "source": [
    "#iris = datasets.load_iris()"
   ]
  },
  {
   "cell_type": "code",
   "execution_count": 66,
   "id": "444527eb-73bd-4a0f-a7ce-aa6f583e4636",
   "metadata": {},
   "outputs": [],
   "source": [
    "#clf = SVC()"
   ]
  },
  {
   "cell_type": "code",
   "execution_count": 76,
   "id": "89f64866-9fcc-41ac-8f7a-91bf0fe91326",
   "metadata": {},
   "outputs": [],
   "source": [
    "clf = svm.SVC()"
   ]
  },
  {
   "cell_type": "code",
   "execution_count": 77,
   "id": "319f738a-67fd-47fb-ab25-3160cc09c3b0",
   "metadata": {},
   "outputs": [
    {
     "data": {
      "text/plain": [
       "SVC()"
      ]
     },
     "execution_count": 77,
     "metadata": {},
     "output_type": "execute_result"
    }
   ],
   "source": [
    "clf.fit(iris.data, iris.target)"
   ]
  },
  {
   "cell_type": "code",
   "execution_count": 78,
   "id": "0cda0209-0fcd-4e3f-b690-fdfd68a8fb89",
   "metadata": {},
   "outputs": [
    {
     "data": {
      "text/plain": [
       "[0, 0, 0]"
      ]
     },
     "execution_count": 78,
     "metadata": {},
     "output_type": "execute_result"
    }
   ],
   "source": [
    "# returns an integer arrayas iris.target an integer array was used to fit\n",
    "list(clf.predict(iris.data[:3]))"
   ]
  },
  {
   "cell_type": "code",
   "execution_count": 79,
   "id": "1564b9ef-d46e-4d08-9d79-55355d19c64f",
   "metadata": {},
   "outputs": [
    {
     "data": {
      "text/plain": [
       "SVC()"
      ]
     },
     "execution_count": 79,
     "metadata": {},
     "output_type": "execute_result"
    }
   ],
   "source": [
    "clf.fit(iris.data, iris.target_names[iris.target])"
   ]
  },
  {
   "cell_type": "code",
   "execution_count": 80,
   "id": "a938cc25-52f2-4032-9747-fa104e5e6033",
   "metadata": {},
   "outputs": [
    {
     "data": {
      "text/plain": [
       "['setosa', 'setosa', 'setosa']"
      ]
     },
     "execution_count": 80,
     "metadata": {},
     "output_type": "execute_result"
    }
   ],
   "source": [
    "# returns a string, as iris.target_names was used for fitting\n",
    "list(clf.predict(iris.data[:3]))"
   ]
  },
  {
   "cell_type": "markdown",
   "id": "0df29975-be7e-4bf4-b10e-134b20b0b386",
   "metadata": {},
   "source": [
    "__Refitting and updating parameters__"
   ]
  },
  {
   "cell_type": "code",
   "execution_count": null,
   "id": "fdda62d6-2eff-4259-b343-d582cf519100",
   "metadata": {},
   "outputs": [],
   "source": [
    "#import numpy as np"
   ]
  },
  {
   "cell_type": "code",
   "execution_count": null,
   "id": "4c907f93-5bf8-484e-a465-7cd5ea746c9b",
   "metadata": {},
   "outputs": [],
   "source": [
    "#from sklearn.datasets import load_iris"
   ]
  },
  {
   "cell_type": "code",
   "execution_count": null,
   "id": "617b9509-e864-42e4-8c26-9afbbadcefc4",
   "metadata": {},
   "outputs": [],
   "source": [
    "#from sklearn.svm import SVC"
   ]
  },
  {
   "cell_type": "code",
   "execution_count": 77,
   "id": "7fe88c53-be1d-47e4-af48-a4cddc2e8d6c",
   "metadata": {},
   "outputs": [],
   "source": [
    "X, y = datasets.load_iris(return_X_y= True)"
   ]
  },
  {
   "cell_type": "code",
   "execution_count": 79,
   "id": "add5195c-d47f-4f98-a7c2-58d47ebd798c",
   "metadata": {},
   "outputs": [],
   "source": [
    "clf= svm.SVC()"
   ]
  },
  {
   "cell_type": "code",
   "execution_count": 81,
   "id": "eeac1733-513c-4901-94e0-835165e508bc",
   "metadata": {},
   "outputs": [
    {
     "data": {
      "text/plain": [
       "SVC(kernel='linear')"
      ]
     },
     "execution_count": 81,
     "metadata": {},
     "output_type": "execute_result"
    }
   ],
   "source": [
    "# change default kernel 'rbf' to linear\n",
    "clf.set_params(kernel='linear').fit(X, y)"
   ]
  },
  {
   "cell_type": "code",
   "execution_count": 82,
   "id": "55524109-0c47-46b2-8de4-48afed1944e8",
   "metadata": {},
   "outputs": [
    {
     "data": {
      "text/plain": [
       "array([0, 0, 0, 0, 0])"
      ]
     },
     "execution_count": 82,
     "metadata": {},
     "output_type": "execute_result"
    }
   ],
   "source": [
    "# make prediction\n",
    "clf.predict(X[:5])"
   ]
  },
  {
   "cell_type": "code",
   "execution_count": 83,
   "id": "00e4c90b-5092-44a1-809b-091406b8b1cd",
   "metadata": {},
   "outputs": [
    {
     "data": {
      "text/plain": [
       "SVC()"
      ]
     },
     "execution_count": 83,
     "metadata": {},
     "output_type": "execute_result"
    }
   ],
   "source": [
    "# change kernel back to 'rbf' to refit the estimator\n",
    "clf.set_params(kernel='rbf').fit(X, y)"
   ]
  },
  {
   "cell_type": "code",
   "execution_count": 84,
   "id": "bc2f0730-bf28-46bd-a3be-5d6336b0366b",
   "metadata": {},
   "outputs": [
    {
     "data": {
      "text/plain": [
       "array([0, 0, 0, 0, 0])"
      ]
     },
     "execution_count": 84,
     "metadata": {},
     "output_type": "execute_result"
    }
   ],
   "source": [
    "# make second prediction\n",
    "clf.predict(X[:5])"
   ]
  },
  {
   "cell_type": "markdown",
   "id": "615fe7e1-c7c3-4ea6-8e21-37e9b5701502",
   "metadata": {},
   "source": [
    "__Multiclass vs. multilabel fitting__"
   ]
  },
  {
   "cell_type": "code",
   "execution_count": 85,
   "id": "fd976e92-094d-4ae0-a455-e8b21028e9eb",
   "metadata": {},
   "outputs": [],
   "source": [
    "#from sklearn.svm import SVC"
   ]
  },
  {
   "cell_type": "code",
   "execution_count": 89,
   "id": "f2cf3cfd-60c0-4a51-8711-07e72157643b",
   "metadata": {},
   "outputs": [],
   "source": [
    "#from sklearn.multiclass import OneVsRestClassifier\n",
    "import sklearn.multiclass as multiclass\n",
    "OneVsRestClassifier = multiclass.OneVsRestClassifier"
   ]
  },
  {
   "cell_type": "code",
   "execution_count": 90,
   "id": "47df1308-b200-428f-b017-a820203d7b44",
   "metadata": {},
   "outputs": [],
   "source": [
    "from sklearn.preprocessing import LabelBinarizer"
   ]
  },
  {
   "cell_type": "code",
   "execution_count": 91,
   "id": "d4701d52-1cff-40ea-81ad-2e4ab50d7b39",
   "metadata": {},
   "outputs": [],
   "source": [
    " X = [[1, 2], [2, 4], [4, 5], [3, 2], [3, 1]]"
   ]
  },
  {
   "cell_type": "code",
   "execution_count": 92,
   "id": "4d01fb18-bf9a-45fe-9f2f-87ead4747d02",
   "metadata": {},
   "outputs": [],
   "source": [
    "y = [0, 0, 1, 1, 2]"
   ]
  },
  {
   "cell_type": "code",
   "execution_count": 93,
   "id": "c1d6e2ed-96ac-42d7-ad01-bc76f4441c57",
   "metadata": {},
   "outputs": [],
   "source": [
    "classif = OneVsRestClassifier(estimator=SVC(random_state=0))"
   ]
  },
  {
   "cell_type": "code",
   "execution_count": 94,
   "id": "10e547b0-1350-49d3-9c81-3c8c95625ef2",
   "metadata": {},
   "outputs": [
    {
     "data": {
      "text/plain": [
       "array([0, 0, 1, 1, 2])"
      ]
     },
     "execution_count": 94,
     "metadata": {},
     "output_type": "execute_result"
    }
   ],
   "source": [
    "classif.fit(X, y).predict(X)"
   ]
  },
  {
   "cell_type": "code",
   "execution_count": 95,
   "id": "121f777f-634e-471b-be74-246225b10ee0",
   "metadata": {},
   "outputs": [],
   "source": [
    "y = LabelBinarizer().fit_transform(y)"
   ]
  },
  {
   "cell_type": "code",
   "execution_count": 96,
   "id": "abbc357a-5ba4-47dc-9674-f80ad6e79134",
   "metadata": {},
   "outputs": [
    {
     "data": {
      "text/plain": [
       "array([[1, 0, 0],\n",
       "       [1, 0, 0],\n",
       "       [0, 1, 0],\n",
       "       [0, 0, 0],\n",
       "       [0, 0, 0]])"
      ]
     },
     "execution_count": 96,
     "metadata": {},
     "output_type": "execute_result"
    }
   ],
   "source": [
    "classif.fit(X,y).predict(X)"
   ]
  },
  {
   "cell_type": "code",
   "execution_count": 110,
   "id": "ffbc75e9-875a-4f0a-9d78-f96db5f47434",
   "metadata": {},
   "outputs": [],
   "source": [
    "from sklearn.preprocessing import MultiLabelBinarizer\n",
    "#import sklearn.preprocessing as preprocessing\n",
    "#MultiLabelBinarizer = preprocessing.MultiLabelBinarizer"
   ]
  },
  {
   "cell_type": "code",
   "execution_count": 111,
   "id": "c6e4d0cb-6843-4070-8672-174a8ccfec87",
   "metadata": {},
   "outputs": [],
   "source": [
    "y = [[0, 1], [0, 2], [1, 3], [0, 2, 3], [2, 4]]"
   ]
  },
  {
   "cell_type": "code",
   "execution_count": 112,
   "id": "1ff1e43f-c948-4ee1-a47b-fd80d4310b94",
   "metadata": {},
   "outputs": [],
   "source": [
    "y = MultiLabelBinarizer().fit_transform(y)"
   ]
  },
  {
   "cell_type": "code",
   "execution_count": 113,
   "id": "bc244a60-93cc-4cb9-825b-bb8736f522d8",
   "metadata": {},
   "outputs": [
    {
     "data": {
      "text/plain": [
       "array([[1, 1, 0, 0, 0],\n",
       "       [1, 0, 1, 0, 0],\n",
       "       [0, 1, 0, 1, 0],\n",
       "       [1, 0, 1, 0, 0],\n",
       "       [1, 0, 1, 0, 0]])"
      ]
     },
     "execution_count": 113,
     "metadata": {},
     "output_type": "execute_result"
    }
   ],
   "source": [
    "classif.fit(X, y).predict(X)"
   ]
  },
  {
   "cell_type": "code",
   "execution_count": null,
   "id": "272b0a13-20a7-44a7-9f64-76f67a20d3b7",
   "metadata": {},
   "outputs": [],
   "source": []
  },
  {
   "cell_type": "markdown",
   "id": "e9d71339-dd9c-4be0-aeb3-d44555bc1203",
   "metadata": {},
   "source": [
    "### End - Introduction to machine learning with scikit-learn\n",
    "***"
   ]
  },
  {
   "cell_type": "markdown",
   "id": "0cd2a9b4-6f46-4b41-a862-915ad20cc8d4",
   "metadata": {},
   "source": [
    "***\n",
    "### A tutorial on statistical-learning for scientific data processing\n",
    "***"
   ]
  },
  {
   "cell_type": "markdown",
   "id": "2e0375d4-7b91-4f90-814b-df166904d587",
   "metadata": {},
   "source": [
    "### Statistical learning: the setting and the estimator object in scikit-learn"
   ]
  },
  {
   "cell_type": "markdown",
   "id": "baca365a-6d77-4282-9fd3-65b589468a9d",
   "metadata": {},
   "source": [
    "__Datasets :__ ___A simple example shipped with scikit-learn: iris dataset___"
   ]
  },
  {
   "cell_type": "code",
   "execution_count": 81,
   "id": "aeed082d-8318-4e4b-996f-11033f788d04",
   "metadata": {},
   "outputs": [],
   "source": [
    "from sklearn import datasets"
   ]
  },
  {
   "cell_type": "code",
   "execution_count": 82,
   "id": "d5470c4d-da55-49e9-8bf4-fac9bfd1601b",
   "metadata": {},
   "outputs": [],
   "source": [
    "iris = datasets.load_iris()"
   ]
  },
  {
   "cell_type": "code",
   "execution_count": 83,
   "id": "a863b23f-487f-4d0f-9e7f-3e73117e7512",
   "metadata": {},
   "outputs": [],
   "source": [
    "data = iris.data"
   ]
  },
  {
   "cell_type": "code",
   "execution_count": 84,
   "id": "da583f54-2512-482b-858f-e79ed0020d4f",
   "metadata": {},
   "outputs": [
    {
     "data": {
      "text/plain": [
       "(150, 4)"
      ]
     },
     "execution_count": 84,
     "metadata": {},
     "output_type": "execute_result"
    }
   ],
   "source": [
    "data.shape"
   ]
  },
  {
   "cell_type": "markdown",
   "id": "b7d4a8a4-b859-4490-8a22-bc4e0d8741e9",
   "metadata": {},
   "source": [
    "__Datasets:__ ___An example of reshaping data would be the digits dataset___\n",
    "\n",
    "The digits dataset is made of 1797 8x8 images of hand-written digits"
   ]
  },
  {
   "cell_type": "code",
   "execution_count": 85,
   "id": "bbb76d38-4470-43f5-a3a1-92046c82ac2f",
   "metadata": {},
   "outputs": [],
   "source": [
    "digits = datasets.load_digits()"
   ]
  },
  {
   "cell_type": "code",
   "execution_count": 86,
   "id": "abbcc3f1-00f6-4894-ae3a-33a3971645cc",
   "metadata": {},
   "outputs": [
    {
     "data": {
      "text/plain": [
       "(1797, 8, 8)"
      ]
     },
     "execution_count": 86,
     "metadata": {},
     "output_type": "execute_result"
    }
   ],
   "source": [
    "digits.images.shape"
   ]
  },
  {
   "cell_type": "code",
   "execution_count": 87,
   "id": "2ec798ac-c9b1-40c6-a2bd-96650c7385cd",
   "metadata": {},
   "outputs": [],
   "source": [
    "import matplotlib.pyplot as plt"
   ]
  },
  {
   "cell_type": "code",
   "execution_count": 97,
   "id": "547ca4bc-2c02-41c9-b25f-1879c1cd8363",
   "metadata": {},
   "outputs": [
    {
     "data": {
      "text/plain": [
       "<matplotlib.image.AxesImage at 0x1c49c1d11c0>"
      ]
     },
     "execution_count": 97,
     "metadata": {},
     "output_type": "execute_result"
    },
    {
     "data": {
      "image/png": "[encoded data removed]",
      "text/plain": [
       "<Figure size 432x288 with 1 Axes>"
      ]
     },
     "metadata": {
      "needs_background": "light"
     },
     "output_type": "display_data"
    }
   ],
   "source": [
    "plt.imshow(digits.images[-1], cmap=plt.cm.gray_r)"
   ]
  },
  {
   "cell_type": "markdown",
   "id": "75bf956b-2132-482e-bb11-037436b2ec82",
   "metadata": {},
   "source": [
    "To use this dataset with scikit-learn, we transform each 8x8 image into a feature vector of length 64"
   ]
  },
  {
   "cell_type": "code",
   "execution_count": 89,
   "id": "3ae4716f-0232-40cb-911f-d2e2968e5adf",
   "metadata": {},
   "outputs": [],
   "source": [
    "data = digits.images.reshape((digits.images.shape[0], -1))"
   ]
  },
  {
   "cell_type": "markdown",
   "id": "8ae7fbc0-07bb-46ec-b463-995704250386",
   "metadata": {},
   "source": [
    "### Estimators objects"
   ]
  },
  {
   "cell_type": "markdown",
   "id": "4a685034-37be-412e-960d-f39a070c66cc",
   "metadata": {},
   "source": [
    "__Fitting data__"
   ]
  },
  {
   "cell_type": "code",
   "execution_count": 100,
   "id": "0d284dd5-27cd-412e-a563-9b3a3d87961a",
   "metadata": {},
   "outputs": [
    {
     "ename": "NameError",
     "evalue": "name 'estimator' is not defined",
     "output_type": "error",
     "traceback": [
      "\u001b[1;31m---------------------------------------------------------------------------\u001b[0m",
      "\u001b[1;31mNameError\u001b[0m                                 Traceback (most recent call last)",
      "\u001b[1;32m<ipython-input-100-67302fb98520>\u001b[0m in \u001b[0;36m<module>\u001b[1;34m\u001b[0m\n\u001b[1;32m----> 1\u001b[1;33m \u001b[0mestimator\u001b[0m\u001b[1;33m.\u001b[0m\u001b[0mfit\u001b[0m\u001b[1;33m(\u001b[0m\u001b[0mdata\u001b[0m\u001b[1;33m)\u001b[0m\u001b[1;33m\u001b[0m\u001b[1;33m\u001b[0m\u001b[0m\n\u001b[0m",
      "\u001b[1;31mNameError\u001b[0m: name 'estimator' is not defined"
     ]
    }
   ],
   "source": [
    "estimator.fit(data)"
   ]
  },
  {
   "cell_type": "code",
   "execution_count": 46,
   "id": "fbdd05a6-d0e8-4493-9dbf-ef27465ef90c",
   "metadata": {},
   "outputs": [
    {
     "ename": "NameError",
     "evalue": "name 'Estimator' is not defined",
     "output_type": "error",
     "traceback": [
      "\u001b[1;31m---------------------------------------------------------------------------\u001b[0m",
      "\u001b[1;31mNameError\u001b[0m                                 Traceback (most recent call last)",
      "\u001b[1;32m<ipython-input-46-dd10a0d7307e>\u001b[0m in \u001b[0;36m<module>\u001b[1;34m\u001b[0m\n\u001b[1;32m----> 1\u001b[1;33m \u001b[0mestimator\u001b[0m \u001b[1;33m=\u001b[0m \u001b[0mEstimator\u001b[0m\u001b[1;33m(\u001b[0m\u001b[0mparam1\u001b[0m\u001b[1;33m=\u001b[0m\u001b[1;36m1\u001b[0m\u001b[1;33m,\u001b[0m \u001b[0mparam2\u001b[0m\u001b[1;33m=\u001b[0m\u001b[1;36m2\u001b[0m\u001b[1;33m)\u001b[0m\u001b[1;33m\u001b[0m\u001b[1;33m\u001b[0m\u001b[0m\n\u001b[0m",
      "\u001b[1;31mNameError\u001b[0m: name 'Estimator' is not defined"
     ]
    }
   ],
   "source": [
    "estimator = Estimator(param1=1, param2=2)"
   ]
  },
  {
   "cell_type": "code",
   "execution_count": 31,
   "id": "274d890d-d144-4f74-abe2-81053530c8e7",
   "metadata": {},
   "outputs": [
    {
     "ename": "NameError",
     "evalue": "name 'estimator' is not defined",
     "output_type": "error",
     "traceback": [
      "\u001b[1;31m---------------------------------------------------------------------------\u001b[0m",
      "\u001b[1;31mNameError\u001b[0m                                 Traceback (most recent call last)",
      "\u001b[1;32m<ipython-input-31-0886ae23b473>\u001b[0m in \u001b[0;36m<module>\u001b[1;34m\u001b[0m\n\u001b[1;32m----> 1\u001b[1;33m \u001b[0mestimator\u001b[0m\u001b[1;33m.\u001b[0m\u001b[0mparam1\u001b[0m\u001b[1;33m\u001b[0m\u001b[1;33m\u001b[0m\u001b[0m\n\u001b[0m",
      "\u001b[1;31mNameError\u001b[0m: name 'estimator' is not defined"
     ]
    }
   ],
   "source": [
    "estimator.param1"
   ]
  },
  {
   "cell_type": "code",
   "execution_count": 94,
   "id": "cf41d01e-c97c-4a41-8344-4ae9d4f05c08",
   "metadata": {},
   "outputs": [
    {
     "ename": "NameError",
     "evalue": "name 'estimator' is not defined",
     "output_type": "error",
     "traceback": [
      "\u001b[1;31m---------------------------------------------------------------------------\u001b[0m",
      "\u001b[1;31mNameError\u001b[0m                                 Traceback (most recent call last)",
      "\u001b[1;32m<ipython-input-94-0a045a93d4d3>\u001b[0m in \u001b[0;36m<module>\u001b[1;34m\u001b[0m\n\u001b[1;32m----> 1\u001b[1;33m \u001b[0mestimator\u001b[0m\u001b[1;33m.\u001b[0m\u001b[0mestimated_param_\u001b[0m\u001b[1;33m\u001b[0m\u001b[1;33m\u001b[0m\u001b[0m\n\u001b[0m",
      "\u001b[1;31mNameError\u001b[0m: name 'estimator' is not defined"
     ]
    }
   ],
   "source": [
    "estimator.estimated_param_ "
   ]
  },
  {
   "cell_type": "markdown",
   "id": "90329b3d-c6cd-4980-8f73-8e93b3f58cc9",
   "metadata": {},
   "source": [
    "### End Statistical learning: the setting and the estimator object in scikit-learn\n",
    "***"
   ]
  },
  {
   "cell_type": "markdown",
   "id": "b2d1c6a4-3a2a-4f8d-a2c7-3bd96fc8e2fd",
   "metadata": {},
   "source": [
    "***\n",
    "### Supervised learning: predicting an output variable from high-dimensional observations\n",
    "***"
   ]
  },
  {
   "cell_type": "code",
   "execution_count": null,
   "id": "6ac58cd7-4aa4-4f8b-abc7-da65d94c62c7",
   "metadata": {},
   "outputs": [],
   "source": []
  },
  {
   "cell_type": "code",
   "execution_count": null,
   "id": "54bf056e-524e-4bfd-82ea-e36270bd49bc",
   "metadata": {},
   "outputs": [],
   "source": []
  },
  {
   "cell_type": "code",
   "execution_count": null,
   "id": "ac5bcbc4-1d3a-4fa6-be33-61779601c9bd",
   "metadata": {},
   "outputs": [],
   "source": []
  },
  {
   "cell_type": "code",
   "execution_count": null,
   "id": "6a9e93ee-9c4d-4a49-8ab3-e2593a224550",
   "metadata": {},
   "outputs": [],
   "source": []
  },
  {
   "cell_type": "code",
   "execution_count": null,
   "id": "21bdd09b-6b49-45aa-90d2-269646d18ed1",
   "metadata": {},
   "outputs": [],
   "source": []
  },
  {
   "cell_type": "code",
   "execution_count": null,
   "id": "86e68b0b-dd60-4f9b-a415-3d6ac3e3abfb",
   "metadata": {},
   "outputs": [],
   "source": []
  },
  {
   "cell_type": "code",
   "execution_count": null,
   "id": "44885222-8ffc-441b-92c2-bbb5492bfdb5",
   "metadata": {},
   "outputs": [],
   "source": []
  },
  {
   "cell_type": "code",
   "execution_count": null,
   "id": "47b8d5bc-3418-403f-b1bc-6d85b0265ab3",
   "metadata": {},
   "outputs": [],
   "source": []
  },
  {
   "cell_type": "code",
   "execution_count": null,
   "id": "f3b23418-8dba-4b6a-bd37-e16810034b58",
   "metadata": {},
   "outputs": [],
   "source": []
  },
  {
   "cell_type": "code",
   "execution_count": null,
   "id": "25cd2629-c2c2-4906-97c3-ee75887d95ab",
   "metadata": {},
   "outputs": [],
   "source": []
  }
 ],
 "metadata": {
  "kernelspec": {
   "display_name": "Python 3",
   "language": "python",
   "name": "python3"
  },
  "language_info": {
   "codemirror_mode": {
    "name": "ipython",
    "version": 3
   },
   "file_extension": ".py",
   "mimetype": "text/x-python",
   "name": "python",
   "nbconvert_exporter": "python",
   "pygments_lexer": "ipython3",
   "version": "3.8.8"
  }
 },
 "nbformat": 4,
 "nbformat_minor": 5
}
