{
 "cells": [
  {
   "cell_type": "markdown",
   "id": "c08303ac-5cee-42c2-9235-8192ec777d59",
   "metadata": {},
   "source": [
    "## The quantum-deutsch notebook"
   ]
  },
  {
   "cell_type": "code",
   "execution_count": null,
   "id": "d3ac6c40-0c91-4fc2-831d-2af48891ce3c",
   "metadata": {},
   "outputs": [],
   "source": []
  }
 ],
 "metadata": {
  "kernelspec": {
   "display_name": "Python 3",
   "language": "python",
   "name": "python3"
  },
  "language_info": {
   "codemirror_mode": {
    "name": "ipython",
    "version": 3
   },
   "file_extension": ".py",
   "mimetype": "text/x-python",
   "name": "python",
   "nbconvert_exporter": "python",
   "pygments_lexer": "ipython3",
   "version": "3.8.8"
  }
 },
 "nbformat": 4,
 "nbformat_minor": 5
}
