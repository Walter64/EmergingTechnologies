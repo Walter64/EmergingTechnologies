{
 "cells": [
  {
   "cell_type": "markdown",
   "id": "c08303ac-5cee-42c2-9235-8192ec777d59",
   "metadata": {},
   "source": [
    "# The quantum-deutsch Notebook by Walter Regan\n",
    "\n",
    "***\n",
    "### An explanation of Deutsch’s Algorithm and code simulating it using qiskit\n",
    "\n",
    "[Deutsch-Jozsa Algorithm](https://qiskit.org/textbook/ch-algorithms/deutsch-jozsa.html)"
   ]
  },
  {
   "cell_type": "code",
   "execution_count": 1,
   "id": "d3ac6c40-0c91-4fc2-831d-2af48891ce3c",
   "metadata": {},
   "outputs": [],
   "source": [
    "# qiskit - represents quantum things\n",
    "import qiskit"
   ]
  },
  {
   "cell_type": "code",
   "execution_count": 2,
   "id": "839f272b-caf1-4827-86b8-116c637b8dae",
   "metadata": {},
   "outputs": [],
   "source": [
    "# aer simulator, acts like different quantum computers\n",
    "import qiskit.providers.aer as aer"
   ]
  },
  {
   "cell_type": "code",
   "execution_count": 3,
   "id": "ad274590-abea-42d5-b232-699f30ded192",
   "metadata": {},
   "outputs": [],
   "source": [
    "# for diagrams\n",
    "import matplotlib.pyplot as plt"
   ]
  },
  {
   "cell_type": "code",
   "execution_count": 4,
   "id": "0e8d61c3-c8c7-45d5-881c-143aec4c0fd3",
   "metadata": {},
   "outputs": [],
   "source": [
    "# change pyplot style\n",
    "plt.style.use('ggplot')"
   ]
  },
  {
   "cell_type": "markdown",
   "id": "ca9604ed-7bc8-49c5-92a4-db1b888d58bd",
   "metadata": {},
   "source": [
    "## Constant zero function\n",
    "***"
   ]
  },
  {
   "cell_type": "code",
   "execution_count": 5,
   "id": "c8f468ae-c6f6-4191-bec2-04548841f1a8",
   "metadata": {},
   "outputs": [],
   "source": [
    "# create a quantum circuit - if there is 1 qubit, they need 2 qubits, a single extra qubit etc.\n",
    "circuit = qiskit.QuantumCircuit(2, 1)"
   ]
  },
  {
   "cell_type": "code",
   "execution_count": 6,
   "id": "14f03cb0-8f07-46cb-98ca-a0999c33a7b0",
   "metadata": {},
   "outputs": [
    {
     "data": {
      "text/plain": [
       "<qiskit.circuit.instructionset.InstructionSet at 0x7f4d1f4f2740>"
      ]
     },
     "execution_count": 6,
     "metadata": {},
     "output_type": "execute_result"
    }
   ],
   "source": [
    "# initialise the first qubit to 0 - quantum 0\n",
    "circuit.initialize([1, 0], 0)"
   ]
  },
  {
   "cell_type": "code",
   "execution_count": 7,
   "id": "ff5c7b63-1bb3-4a75-880a-e24fcfa54863",
   "metadata": {},
   "outputs": [
    {
     "data": {
      "text/plain": [
       "<qiskit.circuit.instructionset.InstructionSet at 0x7f4d1f332300>"
      ]
     },
     "execution_count": 7,
     "metadata": {},
     "output_type": "execute_result"
    }
   ],
   "source": [
    "# initialise the second qubit to 1 - quantum 1\n",
    "circuit.initialize([0, 1], 1)"
   ]
  },
  {
   "cell_type": "code",
   "execution_count": 8,
   "id": "cbdaa416-62c6-41ab-9640-89a0e2435474",
   "metadata": {},
   "outputs": [
    {
     "data": {
      "text/plain": [
       "<qiskit.circuit.instructionset.InstructionSet at 0x7f4d1f34cdc0>"
      ]
     },
     "execution_count": 8,
     "metadata": {},
     "output_type": "execute_result"
    }
   ],
   "source": [
    "# apply a Hadamard gate to first qubit\n",
    "circuit.h(0)"
   ]
  },
  {
   "cell_type": "code",
   "execution_count": 9,
   "id": "b8625bba-dd7c-4664-be25-6d13bf88718e",
   "metadata": {},
   "outputs": [
    {
     "data": {
      "text/plain": [
       "<qiskit.circuit.instructionset.InstructionSet at 0x7f4d1f2ed980>"
      ]
     },
     "execution_count": 9,
     "metadata": {},
     "output_type": "execute_result"
    }
   ],
   "source": [
    "# apply a Hadamard gate to second qubit\n",
    "circuit.h(1)"
   ]
  },
  {
   "cell_type": "code",
   "execution_count": 10,
   "id": "fd337792-1f23-4b07-8272-afad74e288fe",
   "metadata": {},
   "outputs": [
    {
     "data": {
      "text/plain": [
       "<qiskit.circuit.instructionset.InstructionSet at 0x7f4d1f432d40>"
      ]
     },
     "execution_count": 10,
     "metadata": {},
     "output_type": "execute_result"
    }
   ],
   "source": [
    "# identity gate\n",
    "circuit.i(1)"
   ]
  },
  {
   "cell_type": "code",
   "execution_count": 11,
   "id": "3b7bb692-f37b-4480-9c67-7ffb87b4722e",
   "metadata": {},
   "outputs": [
    {
     "data": {
      "text/plain": [
       "<qiskit.circuit.instructionset.InstructionSet at 0x7f4d1f2edb80>"
      ]
     },
     "execution_count": 11,
     "metadata": {},
     "output_type": "execute_result"
    }
   ],
   "source": [
    "# apply another Hadamard gate to the first qubit\n",
    "circuit.h(0)"
   ]
  },
  {
   "cell_type": "code",
   "execution_count": 12,
   "id": "88e6b0ca-d730-4446-885c-3f3ea1324cdf",
   "metadata": {},
   "outputs": [
    {
     "data": {
      "text/plain": [
       "<qiskit.circuit.instructionset.InstructionSet at 0x7f4d1f2e2d80>"
      ]
     },
     "execution_count": 12,
     "metadata": {},
     "output_type": "execute_result"
    }
   ],
   "source": [
    "# measure the first qubit\n",
    "circuit.measure(0, 0)"
   ]
  },
  {
   "cell_type": "code",
   "execution_count": 13,
   "id": "97c9c9ad-838e-4fff-9ff0-daf52f1df818",
   "metadata": {},
   "outputs": [
    {
     "data": {
      "image/png": "[encoded data removed]",
      "text/plain": [
       "<Figure size 589.054x368.424 with 1 Axes>"
      ]
     },
     "execution_count": 13,
     "metadata": {},
     "output_type": "execute_result"
    }
   ],
   "source": [
    "# draw the circuit\n",
    "circuit.draw(output='mpl', scale=1.8)"
   ]
  },
  {
   "cell_type": "code",
   "execution_count": 14,
   "id": "8a0c40dc-6b3d-4d42-833e-28e881997103",
   "metadata": {},
   "outputs": [],
   "source": [
    "# create a simulation instance\n",
    "simulator = aer.QasmSimulator()"
   ]
  },
  {
   "cell_type": "code",
   "execution_count": 15,
   "id": "05b5b2f7-83c7-4571-a332-386c36c963d3",
   "metadata": {},
   "outputs": [],
   "source": [
    "# compile the circuit in the simluator\n",
    "compcircuit = qiskit.transpile(circuit, simulator)"
   ]
  },
  {
   "cell_type": "code",
   "execution_count": 16,
   "id": "8ecc67bd-b3ab-4303-9b3e-1a432236cc79",
   "metadata": {},
   "outputs": [],
   "source": [
    "# simulate the circuit 1000 times\n",
    "job = simulator.run(compcircuit, shots=1000)"
   ]
  },
  {
   "cell_type": "code",
   "execution_count": 17,
   "id": "f7b3dce3-a69a-45d8-b987-5dd86850db79",
   "metadata": {},
   "outputs": [],
   "source": [
    "# get the results\n",
    "results = job.result()"
   ]
  },
  {
   "cell_type": "code",
   "execution_count": 18,
   "id": "3e25adbf-b028-4ece-8ea9-df11552b8028",
   "metadata": {},
   "outputs": [
    {
     "data": {
      "text/plain": [
       "{'0': 1000}"
      ]
     },
     "execution_count": 18,
     "metadata": {},
     "output_type": "execute_result"
    }
   ],
   "source": [
    "# show the results counts\n",
    "counts = results.get_counts()\n",
    "counts"
   ]
  },
  {
   "cell_type": "code",
   "execution_count": 19,
   "id": "c61fc46a-3702-4897-b60d-51b485b66546",
   "metadata": {},
   "outputs": [
    {
     "data": {
      "image/png": "[encoded data removed]",
      "text/plain": [
       "<Figure size 72x288 with 1 Axes>"
      ]
     },
     "execution_count": 19,
     "metadata": {},
     "output_type": "execute_result"
    }
   ],
   "source": [
    "# display a histogram\n",
    "qiskit.visualization.plot_histogram(counts, figsize=(1, 4))"
   ]
  },
  {
   "cell_type": "markdown",
   "id": "d1e08cce-7755-483f-8b55-4f89273badac",
   "metadata": {},
   "source": [
    "<br />\n",
    "\n",
    "## Constant one function\n",
    "***"
   ]
  },
  {
   "cell_type": "code",
   "execution_count": null,
   "id": "4b4c5e75-6321-43f5-9079-702b5d87e45e",
   "metadata": {},
   "outputs": [],
   "source": []
  },
  {
   "cell_type": "code",
   "execution_count": null,
   "id": "f2e1f909-655f-42d8-8007-8d5b4e26bd8f",
   "metadata": {},
   "outputs": [],
   "source": []
  },
  {
   "cell_type": "code",
   "execution_count": null,
   "id": "4bf145e7-dc8e-441b-9fed-299e4c95de0a",
   "metadata": {},
   "outputs": [],
   "source": []
  },
  {
   "cell_type": "code",
   "execution_count": null,
   "id": "5ed65880-e38d-48e5-9669-e5c6ac00694a",
   "metadata": {},
   "outputs": [],
   "source": []
  },
  {
   "cell_type": "code",
   "execution_count": null,
   "id": "ee4f3e31-f8e3-4256-9ce7-31be53125e59",
   "metadata": {},
   "outputs": [],
   "source": []
  },
  {
   "cell_type": "code",
   "execution_count": null,
   "id": "067509c7-00df-482e-9399-2d2b4ed836dc",
   "metadata": {},
   "outputs": [],
   "source": []
  },
  {
   "cell_type": "code",
   "execution_count": null,
   "id": "956008b0-fbee-4ff7-81f0-4a8bc2daabd6",
   "metadata": {},
   "outputs": [],
   "source": []
  },
  {
   "cell_type": "code",
   "execution_count": null,
   "id": "347abad9-5e44-423d-83dc-51f22ee7fb0a",
   "metadata": {},
   "outputs": [],
   "source": []
  },
  {
   "cell_type": "code",
   "execution_count": null,
   "id": "cca6bc21-10be-44b3-a8a8-e0dcf6e84b90",
   "metadata": {},
   "outputs": [],
   "source": []
  },
  {
   "cell_type": "code",
   "execution_count": null,
   "id": "7a106c34-8e61-48cc-b2f0-b2090d5ae3b3",
   "metadata": {},
   "outputs": [],
   "source": []
  },
  {
   "cell_type": "code",
   "execution_count": null,
   "id": "75ebbbd3-953e-41fb-94bc-400a8882d7ba",
   "metadata": {},
   "outputs": [],
   "source": []
  },
  {
   "cell_type": "code",
   "execution_count": null,
   "id": "3df54811-1399-4464-899f-e09cd3866355",
   "metadata": {},
   "outputs": [],
   "source": []
  },
  {
   "cell_type": "code",
   "execution_count": null,
   "id": "c4949a7d-4663-4653-8f34-ec6f4442eb78",
   "metadata": {},
   "outputs": [],
   "source": []
  },
  {
   "cell_type": "code",
   "execution_count": null,
   "id": "42bf0d56-4fe0-41af-ae75-a3e219e2c081",
   "metadata": {},
   "outputs": [],
   "source": []
  },
  {
   "cell_type": "code",
   "execution_count": null,
   "id": "47490f1b-378a-48ba-a3be-836ef1a6eee9",
   "metadata": {},
   "outputs": [],
   "source": []
  },
  {
   "cell_type": "code",
   "execution_count": null,
   "id": "23205e00-607f-4e04-857b-679d93f28a61",
   "metadata": {},
   "outputs": [],
   "source": []
  },
  {
   "cell_type": "markdown",
   "id": "b69310d2-def1-4965-b9a3-1985032dc0d0",
   "metadata": {},
   "source": [
    "<br />\n",
    "\n",
    "## Complex Numbers\n",
    "\n",
    "***"
   ]
  },
  {
   "cell_type": "markdown",
   "id": "8ad1d34c-9843-47bf-9092-9274366794a0",
   "metadata": {},
   "source": [
    "$$a + bi \\qquad a, b \\in \\mathbb{R} \\qquad i^2 = -1 \\qquad \\mathrm{e.g} -2.0 + 5.0i$$"
   ]
  },
  {
   "cell_type": "markdown",
   "id": "54b25486-d1ab-451d-a30c-a204d9a517f8",
   "metadata": {},
   "source": [
    "## Setup\n",
    "***"
   ]
  },
  {
   "cell_type": "code",
   "execution_count": 20,
   "id": "8fca9183-7e7d-4e75-b6c3-e992849d1083",
   "metadata": {},
   "outputs": [],
   "source": [
    "# plotting\n",
    "import matplotlib.pyplot as plt\n",
    "\n",
    "# numerical arrays\n",
    "import numpy as np"
   ]
  },
  {
   "cell_type": "code",
   "execution_count": 21,
   "id": "ef1dc3f7-0217-4461-9e19-b2ed50c247e1",
   "metadata": {},
   "outputs": [],
   "source": [
    "# plot size\n",
    "plt.rcParams['figure.figsize'] = (20, 10)\n",
    "\n",
    "# plot style\n",
    "plt.style.use('seaborn-whitegrid')"
   ]
  },
  {
   "cell_type": "markdown",
   "id": "975b6950-e25d-4ed3-b8ee-1cb98f51df53",
   "metadata": {},
   "source": [
    "<br />\n",
    "\n",
    "## Built-in in Python\n",
    "***"
   ]
  },
  {
   "cell_type": "code",
   "execution_count": 22,
   "id": "78157eab-1daa-4297-adb4-173fa8f8f50f",
   "metadata": {},
   "outputs": [
    {
     "data": {
      "text/plain": [
       "(-1+0j)"
      ]
     },
     "execution_count": 22,
     "metadata": {},
     "output_type": "execute_result"
    }
   ],
   "source": [
    "# multiply two complex numbers\n",
    "1.0j * 1.0j"
   ]
  },
  {
   "cell_type": "code",
   "execution_count": 23,
   "id": "b8a573bb-df8c-439b-ac2f-186cca288b58",
   "metadata": {},
   "outputs": [
    {
     "data": {
      "text/plain": [
       "(-2+5j)"
      ]
     },
     "execution_count": 23,
     "metadata": {},
     "output_type": "execute_result"
    }
   ],
   "source": [
    "# assign complex number to x\n",
    "x = -2.0 + 5.0j\n",
    "x"
   ]
  },
  {
   "cell_type": "code",
   "execution_count": 24,
   "id": "04e4c244-1bae-46a6-8c0c-14f76d3fef23",
   "metadata": {},
   "outputs": [
    {
     "data": {
      "text/plain": [
       "(-21-20j)"
      ]
     },
     "execution_count": 24,
     "metadata": {},
     "output_type": "execute_result"
    }
   ],
   "source": [
    "# raise to power of 2\n",
    "x**2"
   ]
  },
  {
   "cell_type": "code",
   "execution_count": 25,
   "id": "67bc30ea-fdc6-4c30-92d6-ac2b94eac7df",
   "metadata": {},
   "outputs": [
    {
     "data": {
      "text/plain": [
       "(3+1.5j)"
      ]
     },
     "execution_count": 25,
     "metadata": {},
     "output_type": "execute_result"
    }
   ],
   "source": [
    "# assign complex number to y\n",
    "y = 3.0 + 1.5j\n",
    "y"
   ]
  },
  {
   "cell_type": "code",
   "execution_count": 26,
   "id": "a98f93be-4708-4e02-abe7-8ac30feb3dac",
   "metadata": {},
   "outputs": [
    {
     "data": {
      "text/plain": [
       "(1+6.5j)"
      ]
     },
     "execution_count": 26,
     "metadata": {},
     "output_type": "execute_result"
    }
   ],
   "source": [
    "# add x and y\n",
    "x + y"
   ]
  },
  {
   "cell_type": "code",
   "execution_count": 27,
   "id": "62e20c24-9916-48fe-9a64-ffb368a6bad8",
   "metadata": {},
   "outputs": [
    {
     "data": {
      "text/plain": [
       "(-13.5+12j)"
      ]
     },
     "execution_count": 27,
     "metadata": {},
     "output_type": "execute_result"
    }
   ],
   "source": [
    "# multiply x and y\n",
    "x * y"
   ]
  },
  {
   "cell_type": "markdown",
   "id": "821353c7-efaa-4d67-a972-c8c847924e82",
   "metadata": {
    "tags": []
   },
   "source": [
    "<br />\n",
    "\n",
    "## As pairs\n",
    "***"
   ]
  },
  {
   "cell_type": "code",
   "execution_count": 28,
   "id": "43c74076-0c1a-4661-861e-1538f03af9a9",
   "metadata": {},
   "outputs": [
    {
     "data": {
      "text/plain": [
       "[-2.0, 5.0]"
      ]
     },
     "execution_count": 28,
     "metadata": {},
     "output_type": "execute_result"
    }
   ],
   "source": [
    "# array x of real/floating point numbers\n",
    "x = [-2.0, 5.0]\n",
    "x"
   ]
  },
  {
   "cell_type": "code",
   "execution_count": 29,
   "id": "a2effbc5-7576-4cb6-b6d9-dd8c3e3dac6a",
   "metadata": {},
   "outputs": [
    {
     "data": {
      "text/plain": [
       "[3.0, 1.5]"
      ]
     },
     "execution_count": 29,
     "metadata": {},
     "output_type": "execute_result"
    }
   ],
   "source": [
    "# array y of real/floating point numbers\n",
    "y = [3.0, 1.5]\n",
    "y"
   ]
  },
  {
   "cell_type": "code",
   "execution_count": 30,
   "id": "97b8e0da-24a6-456e-85c0-e1eb1e15e47f",
   "metadata": {},
   "outputs": [],
   "source": [
    "# add method, returns sum of first elements in u and v, and sum of second elements in u and v\n",
    "def add(u, v):\n",
    "    return [u[0] + v[0], + u[1] + v[1]]"
   ]
  },
  {
   "cell_type": "code",
   "execution_count": 31,
   "id": "885a7229-89b8-439d-b1d0-490228a69156",
   "metadata": {},
   "outputs": [
    {
     "data": {
      "text/plain": [
       "[1.0, 6.5]"
      ]
     },
     "execution_count": 31,
     "metadata": {},
     "output_type": "execute_result"
    }
   ],
   "source": [
    "add(x, y)"
   ]
  },
  {
   "cell_type": "code",
   "execution_count": 32,
   "id": "4b06ebee-9deb-48a1-a4b6-5dcc787607b1",
   "metadata": {},
   "outputs": [],
   "source": [
    "# multiplication method\n",
    "def mult(u, v):\n",
    "    a, b = u\n",
    "    c, d = v\n",
    "    return [(a * c) - (b * d), (b * c) + (a * d)]"
   ]
  },
  {
   "cell_type": "code",
   "execution_count": 33,
   "id": "c895be36-7b2f-4596-aee0-d8e72eef73bb",
   "metadata": {},
   "outputs": [
    {
     "data": {
      "text/plain": [
       "[-13.5, 12.0]"
      ]
     },
     "execution_count": 33,
     "metadata": {},
     "output_type": "execute_result"
    }
   ],
   "source": [
    "mult(x, y)"
   ]
  },
  {
   "cell_type": "markdown",
   "id": "4b343ad6-5ca8-4f3b-a640-1a78cbcb15a9",
   "metadata": {},
   "source": [
    "<br />\n",
    "\n",
    "## Origins\n",
    "***"
   ]
  },
  {
   "cell_type": "markdown",
   "id": "7b69752a-f5af-480a-ae81-4db449794c5f",
   "metadata": {},
   "source": [
    "$$a x^2 + bx + c \\qquad \\textrm{e.g.} \\ x^2 - 5x + 6 \\qquad \\textrm{e.g.} \\ 2x^2 + 5x + 10 \\qquad x = \\frac{-b \\pm \\sqrt{b^2 - 4ac}}{2a}$$"
   ]
  },
  {
   "cell_type": "code",
   "execution_count": 34,
   "id": "83556704-129d-45e9-bbb0-540d1beea28c",
   "metadata": {},
   "outputs": [],
   "source": [
    "# function that returns a function\n",
    "class quadratic:\n",
    "    def __init__(self, a, b, c):\n",
    "        self.a = a\n",
    "        self.b = b\n",
    "        self.c = c\n",
    "        \n",
    "    def __call__(self, x):\n",
    "        return self.a * x**2 + self.b * x + self.c"
   ]
  },
  {
   "cell_type": "code",
   "execution_count": 35,
   "id": "cb8c5118-f7bd-47aa-bd15-f76d7789077b",
   "metadata": {},
   "outputs": [
    {
     "data": {
      "text/plain": [
       "<__main__.quadratic at 0x7f4d1d9323d0>"
      ]
     },
     "execution_count": 35,
     "metadata": {},
     "output_type": "execute_result"
    }
   ],
   "source": [
    "# create instance of quadratic\n",
    "p = quadratic(a=1.0, b=-5.0, c=6.0)\n",
    "p"
   ]
  },
  {
   "cell_type": "code",
   "execution_count": 36,
   "id": "5cdfe8ef-f8ff-4db6-bc30-2d3d4ee697ff",
   "metadata": {},
   "outputs": [
    {
     "data": {
      "text/plain": [
       "2.0"
      ]
     },
     "execution_count": 36,
     "metadata": {},
     "output_type": "execute_result"
    }
   ],
   "source": [
    "# call p with value of 1.0\n",
    "p(1.0)"
   ]
  },
  {
   "cell_type": "code",
   "execution_count": 37,
   "id": "8039344e-c999-4485-86f0-9076d1550cbc",
   "metadata": {},
   "outputs": [],
   "source": [
    "# create an array of 1000 evenly spaced values between 0 and 5\n",
    "x = np.linspace(0.0, 5.0, 1000)"
   ]
  },
  {
   "cell_type": "code",
   "execution_count": 38,
   "id": "87e60b9f-10c9-402e-a1c8-17b0faa9decd",
   "metadata": {},
   "outputs": [
    {
     "data": {
      "text/plain": [
       "<matplotlib.lines.Line2D at 0x7f4d1d8d1850>"
      ]
     },
     "execution_count": 38,
     "metadata": {},
     "output_type": "execute_result"
    },
    {
     "data": {
      "image/png": "[encoded data removed]",
      "text/plain": [
       "<Figure size 1440x720 with 1 Axes>"
      ]
     },
     "metadata": {},
     "output_type": "display_data"
    }
   ],
   "source": [
    "# plot p(x)\n",
    "fig, ax = plt.subplots()\n",
    "ax.plot(x, p(x))\n",
    "ax.axhline(y=0, color='k')\n",
    "ax.axvline(x=0, color='k')"
   ]
  },
  {
   "cell_type": "code",
   "execution_count": 39,
   "id": "1c509255-1be6-4955-9073-748eb5e04b62",
   "metadata": {},
   "outputs": [],
   "source": [
    "# solve with the formula\n",
    "def solve(p):\n",
    "    a, b, c = p.a, p.b, p.c\n",
    "    x1 = (-b - (b**2 - 4 * a * c)**0.5) / (2 * a)\n",
    "    x2 = (-b + (b**2 - 4 * a * c)**0.5) / (2 * a)\n",
    "    return [x1, x2]"
   ]
  },
  {
   "cell_type": "code",
   "execution_count": 40,
   "id": "a4c8ba87-0014-4cfa-9048-adf10098e0ea",
   "metadata": {},
   "outputs": [
    {
     "data": {
      "text/plain": [
       "[2.0, 3.0]"
      ]
     },
     "execution_count": 40,
     "metadata": {},
     "output_type": "execute_result"
    }
   ],
   "source": [
    "solve(p)"
   ]
  },
  {
   "cell_type": "markdown",
   "id": "886cf69b-1ce9-404f-b9b4-dc44a95e5805",
   "metadata": {},
   "source": [
    "<br />\n",
    "\n",
    "## Not hitting x\n",
    "***\n",
    "\n",
    "$$ax^2 + bx + c = (1.0)x^2 +(0.0)x + (1.0) = x^2 + 1$$"
   ]
  },
  {
   "cell_type": "code",
   "execution_count": 41,
   "id": "d423019f-4932-4592-864f-c1a3051e0561",
   "metadata": {},
   "outputs": [],
   "source": [
    "# create instance of quadratic\n",
    "p = quadratic(a=1.0, b=0.0, c=1.0)"
   ]
  },
  {
   "cell_type": "code",
   "execution_count": 42,
   "id": "2279e436-370c-4e5c-a96a-ddaa08733e90",
   "metadata": {},
   "outputs": [],
   "source": [
    "# create an array of 1000 evenly spaced values between -2.0 and 2.0\n",
    "x = np.linspace(-2.0, 2.0, 1000)"
   ]
  },
  {
   "cell_type": "code",
   "execution_count": 43,
   "id": "302946b5-d4eb-41a5-9243-b26de199565c",
   "metadata": {},
   "outputs": [
    {
     "data": {
      "text/plain": [
       "<matplotlib.lines.Line2D at 0x7f4d1d8b2bb0>"
      ]
     },
     "execution_count": 43,
     "metadata": {},
     "output_type": "execute_result"
    },
    {
     "data": {
      "image/png": "[encoded data removed]",
      "text/plain": [
       "<Figure size 1440x720 with 1 Axes>"
      ]
     },
     "metadata": {},
     "output_type": "display_data"
    }
   ],
   "source": [
    "# plot p(x)\n",
    "fig, ax = plt.subplots()\n",
    "ax.plot(x, p(x))\n",
    "ax.axhline(y=0, color='k')\n",
    "ax.axvline(x=0, color='k')"
   ]
  },
  {
   "cell_type": "code",
   "execution_count": 44,
   "id": "dac0ec08-93da-4d45-a1f3-a624463c2af0",
   "metadata": {},
   "outputs": [
    {
     "data": {
      "text/plain": [
       "((-6.123233995736766e-17-1j), (6.123233995736766e-17+1j))"
      ]
     },
     "execution_count": 44,
     "metadata": {},
     "output_type": "execute_result"
    }
   ],
   "source": [
    "# solve\n",
    "x1, x2 = solve(p)\n",
    "x1, x2"
   ]
  },
  {
   "cell_type": "markdown",
   "id": "851b189b-7cf9-447e-b184-8e7627ca7b8d",
   "metadata": {},
   "source": [
    "The resultant above real values are essentially zero so output would be (0 - j), (0 + j). Therefore -j and +j are the roots of the equation."
   ]
  },
  {
   "cell_type": "code",
   "execution_count": 45,
   "id": "da696c70-b7a9-4e0e-895f-a5569de5a505",
   "metadata": {},
   "outputs": [
    {
     "data": {
      "text/plain": [
       "'x1 = -0.0-1.0j, x2 = 0.0+1.0j'"
      ]
     },
     "execution_count": 45,
     "metadata": {},
     "output_type": "execute_result"
    }
   ],
   "source": [
    "# reformat x1 and x2 to round to 1 decimal place\n",
    "f\"x1 = {x1:.1f}, x2 = {x2:.1f}\""
   ]
  },
  {
   "cell_type": "code",
   "execution_count": 46,
   "id": "abce06cb-b9f6-4abf-8d70-85f756aec2ef",
   "metadata": {},
   "outputs": [],
   "source": [
    "# create instance of quadratic\n",
    "p = quadratic(a=2.0, b=5.0, c=10.0)"
   ]
  },
  {
   "cell_type": "code",
   "execution_count": 47,
   "id": "a825593c-4efc-4840-9a9a-f4dc36833d84",
   "metadata": {},
   "outputs": [],
   "source": [
    "# create an array of 1000 evenly spaced values between -4.5 and 2.0\n",
    "x = np.linspace(-4.5, 2.0, 1000)"
   ]
  },
  {
   "cell_type": "code",
   "execution_count": 48,
   "id": "c6dd8b33-d090-42fc-a2f8-8f5427246fc9",
   "metadata": {},
   "outputs": [
    {
     "data": {
      "text/plain": [
       "<matplotlib.lines.Line2D at 0x7f4d1d88ad00>"
      ]
     },
     "execution_count": 48,
     "metadata": {},
     "output_type": "execute_result"
    },
    {
     "data": {
      "image/png": "[encoded data removed]",
      "text/plain": [
       "<Figure size 1440x720 with 1 Axes>"
      ]
     },
     "metadata": {},
     "output_type": "display_data"
    }
   ],
   "source": [
    "# plot p(x)\n",
    "fig, ax = plt.subplots()\n",
    "ax.plot(x, p(x))\n",
    "ax.axhline(y=0, color='k')\n",
    "ax.axvline(x=0, color='k')"
   ]
  },
  {
   "cell_type": "code",
   "execution_count": 49,
   "id": "984112dc-ea22-406e-9523-cc503926cd13",
   "metadata": {},
   "outputs": [
    {
     "data": {
      "text/plain": [
       "((-1.2500000000000002-1.8540496217739157j),\n",
       " (-1.2499999999999998+1.8540496217739157j))"
      ]
     },
     "execution_count": 49,
     "metadata": {},
     "output_type": "execute_result"
    }
   ],
   "source": [
    "# solve\n",
    "x1, x2 = solve(p)\n",
    "x1, x2"
   ]
  },
  {
   "cell_type": "code",
   "execution_count": 50,
   "id": "19f38b87-664a-4a02-b95c-b246d2d33f32",
   "metadata": {},
   "outputs": [
    {
     "data": {
      "text/plain": [
       "'x1 = -1.3-1.9j, x2 = -1.2+1.9j'"
      ]
     },
     "execution_count": 50,
     "metadata": {},
     "output_type": "execute_result"
    }
   ],
   "source": [
    "# reformat x1 and x2 to round to 1 decimal place\n",
    "f\"x1 = {x1:.1f}, x2 = {x2:.1f}\""
   ]
  },
  {
   "cell_type": "markdown",
   "id": "c735fb29-f561-4688-9b15-bc26bc475cf8",
   "metadata": {},
   "source": [
    "## End Complex Numbers"
   ]
  },
  {
   "cell_type": "markdown",
   "id": "e685b11b-6642-4337-a99f-c56a2e4cfbf0",
   "metadata": {},
   "source": [
    "<br />\n",
    "\n",
    "## Balanced Functions or Constant Functions\n",
    "***"
   ]
  },
  {
   "cell_type": "code",
   "execution_count": 51,
   "id": "0c0c900a-f70a-440a-a412-14fd8acefbfb",
   "metadata": {},
   "outputs": [],
   "source": [
    "# random selections\n",
    "import random\n",
    "\n",
    "# permutations and combinations\n",
    "import itertools"
   ]
  },
  {
   "cell_type": "markdown",
   "id": "5cc2be00-dd2d-481c-8ea1-385fc7588225",
   "metadata": {},
   "source": [
    "<br />\n",
    "\n",
    "## One bit inputs\n",
    "***"
   ]
  },
  {
   "cell_type": "markdown",
   "id": "02856f40-c59f-460e-a3a3-7941da1f02a8",
   "metadata": {},
   "source": [
    "$x$ is a bit.\n",
    "\n",
    "It's possible values are 0 and 1."
   ]
  },
  {
   "cell_type": "code",
   "execution_count": 52,
   "id": "a33dacac-e55f-4588-8248-78c3e353d3c7",
   "metadata": {},
   "outputs": [],
   "source": [
    "# constant function - returns 1\n",
    "def f_a(x):\n",
    "    return 1"
   ]
  },
  {
   "cell_type": "code",
   "execution_count": 53,
   "id": "d87788f6-eb31-4175-aa66-ebff9778b386",
   "metadata": {},
   "outputs": [
    {
     "data": {
      "text/plain": [
       "1"
      ]
     },
     "execution_count": 53,
     "metadata": {},
     "output_type": "execute_result"
    }
   ],
   "source": [
    "# pass 0\n",
    "f_a(0)"
   ]
  },
  {
   "cell_type": "code",
   "execution_count": 54,
   "id": "04ebe682-9dce-4ef8-bc1f-b3d32f9e0c00",
   "metadata": {},
   "outputs": [
    {
     "data": {
      "text/plain": [
       "1"
      ]
     },
     "execution_count": 54,
     "metadata": {},
     "output_type": "execute_result"
    }
   ],
   "source": [
    "# pass 1\n",
    "f_a(1)"
   ]
  },
  {
   "cell_type": "code",
   "execution_count": 55,
   "id": "4dee7b2a-51b3-4279-9a2e-5e452a42f850",
   "metadata": {},
   "outputs": [],
   "source": [
    "# constant function - returns 0\n",
    "def f_b(x):\n",
    "    return 0"
   ]
  },
  {
   "cell_type": "code",
   "execution_count": 56,
   "id": "388c5fd8-411f-4f63-83ce-159e9e96b5c2",
   "metadata": {},
   "outputs": [
    {
     "data": {
      "text/plain": [
       "0"
      ]
     },
     "execution_count": 56,
     "metadata": {},
     "output_type": "execute_result"
    }
   ],
   "source": [
    "# pass 0\n",
    "f_b(0)"
   ]
  },
  {
   "cell_type": "code",
   "execution_count": 57,
   "id": "c572073c-cb65-4a06-ba2b-8571b8a3d925",
   "metadata": {},
   "outputs": [
    {
     "data": {
      "text/plain": [
       "0"
      ]
     },
     "execution_count": 57,
     "metadata": {},
     "output_type": "execute_result"
    }
   ],
   "source": [
    "# pass 1\n",
    "f_b(1)"
   ]
  },
  {
   "cell_type": "code",
   "execution_count": 58,
   "id": "272f7140-8c6b-4d78-8c37-59302db3b54e",
   "metadata": {},
   "outputs": [],
   "source": [
    "# balaced function - returns passed value (half of inputs give 0 and half give 1)\n",
    "def f_c(x):\n",
    "    return x"
   ]
  },
  {
   "cell_type": "code",
   "execution_count": 59,
   "id": "6dde58b0-f9ec-4fd8-9ae9-c82e5a9427bb",
   "metadata": {},
   "outputs": [
    {
     "data": {
      "text/plain": [
       "0"
      ]
     },
     "execution_count": 59,
     "metadata": {},
     "output_type": "execute_result"
    }
   ],
   "source": [
    "# pass 0\n",
    "f_c(0)"
   ]
  },
  {
   "cell_type": "code",
   "execution_count": 60,
   "id": "ce55ef14-9272-4afd-b226-9301bc3e34c4",
   "metadata": {},
   "outputs": [
    {
     "data": {
      "text/plain": [
       "1"
      ]
     },
     "execution_count": 60,
     "metadata": {},
     "output_type": "execute_result"
    }
   ],
   "source": [
    "# pass 1\n",
    "f_c(1)"
   ]
  },
  {
   "cell_type": "code",
   "execution_count": 61,
   "id": "0fda3c5e-9338-4571-91bb-5717c5d89f5c",
   "metadata": {},
   "outputs": [],
   "source": [
    "# balaced function - returns remainder which flips the input and returns this value\n",
    "def f_d(x):\n",
    "    return ((x + 1) % 2)"
   ]
  },
  {
   "cell_type": "code",
   "execution_count": 62,
   "id": "2005a3cd-0581-47b9-b0d9-ea981cd2ced6",
   "metadata": {},
   "outputs": [
    {
     "data": {
      "text/plain": [
       "1"
      ]
     },
     "execution_count": 62,
     "metadata": {},
     "output_type": "execute_result"
    }
   ],
   "source": [
    "# pass 0\n",
    "f_d(0)"
   ]
  },
  {
   "cell_type": "code",
   "execution_count": 63,
   "id": "9310feef-d9c0-4fcd-96f6-d9edb061a2d3",
   "metadata": {},
   "outputs": [
    {
     "data": {
      "text/plain": [
       "0"
      ]
     },
     "execution_count": 63,
     "metadata": {},
     "output_type": "execute_result"
    }
   ],
   "source": [
    "# pass 1\n",
    "f_d(1)"
   ]
  },
  {
   "cell_type": "markdown",
   "id": "729b8d4b-bf4e-47da-944e-4fb9de8c9d9f",
   "metadata": {},
   "source": [
    "__4 possible outcomes for the both inputs.__\n",
    "\n",
    "|  x | f_a(x) | f_b(x) | f_c(x) | f_d(x) |\n",
    "|----|--------|--------|--------|--------|\n",
    "|  **0** |    1   |    0   |    0   |    1   |\n",
    "|  **1** |    1   |    0   |    1   |    0   |"
   ]
  },
  {
   "cell_type": "markdown",
   "id": "16079311-e7b6-4435-a604-8feb471a00a2",
   "metadata": {},
   "source": [
    "\n",
    "## Pick one of the functions at random"
   ]
  },
  {
   "cell_type": "code",
   "execution_count": 64,
   "id": "9afb2684-ce3f-447b-bcaa-67c366d58caa",
   "metadata": {},
   "outputs": [],
   "source": [
    "# put the four functions in a list (the functions themselves not a call to the function)\n",
    "funcs = [f_a, f_b, f_c, f_d]"
   ]
  },
  {
   "cell_type": "code",
   "execution_count": 65,
   "id": "0c29543d-973c-4070-9aa1-3bb7a82e1db6",
   "metadata": {},
   "outputs": [
    {
     "data": {
      "text/plain": [
       "<function __main__.f_d(x)>"
      ]
     },
     "execution_count": 65,
     "metadata": {},
     "output_type": "execute_result"
    }
   ],
   "source": [
    "# select a function from the list at random (run multiple times to see random selections)\n",
    "random.choice(funcs)"
   ]
  },
  {
   "cell_type": "code",
   "execution_count": 66,
   "id": "a6d96ae3-79d6-4a41-a498-35b0f7d8a646",
   "metadata": {},
   "outputs": [],
   "source": [
    "# assign to f, but not look at value of f, which function has been randomly assigned to f\n",
    "f = random.choice(funcs)"
   ]
  },
  {
   "cell_type": "markdown",
   "id": "8044ca5e-9f1d-49f3-98cd-8e70025e7dac",
   "metadata": {},
   "source": [
    "<br />\n",
    "\n",
    "## Test for balanced or constant\n",
    "***"
   ]
  },
  {
   "cell_type": "code",
   "execution_count": 67,
   "id": "6d0aa254-9e30-40c7-a89e-4fedbfc0224b",
   "metadata": {},
   "outputs": [
    {
     "data": {
      "text/plain": [
       "0"
      ]
     },
     "execution_count": 67,
     "metadata": {},
     "output_type": "execute_result"
    }
   ],
   "source": [
    "# testing for 0\n",
    "f(0)"
   ]
  },
  {
   "cell_type": "code",
   "execution_count": 68,
   "id": "9fa050cd-531c-4a39-9e52-9ed7caf1d192",
   "metadata": {},
   "outputs": [
    {
     "data": {
      "text/plain": [
       "1"
      ]
     },
     "execution_count": 68,
     "metadata": {},
     "output_type": "execute_result"
    }
   ],
   "source": [
    "# testing for 1\n",
    "f(1)"
   ]
  },
  {
   "cell_type": "markdown",
   "id": "31784e77-210c-4b42-9e71-e2fe23a38305",
   "metadata": {},
   "source": [
    "In the above testing, use 2 inputs to determine whether the function was balanced or constant. In the initial test the correct answer was f_d(x) which is a balance function, but this can change on subsequent executions."
   ]
  },
  {
   "cell_type": "markdown",
   "id": "032c61b4-ed0b-4954-b6af-9482cda466ac",
   "metadata": {},
   "source": [
    "<br />\n",
    "\n",
    "## Two bits\n",
    "***"
   ]
  },
  {
   "cell_type": "markdown",
   "id": "62c80db2-ea68-494a-85fa-5ee41cc149c2",
   "metadata": {},
   "source": [
    "There are only 2 possibilities for constant functions here, the first f which is all 0's and last f which is all 1's. There are 6 functions that are balanced, return 0 or 1 half the time. The Deutsch's Algorithm is only interested int the constant and balanced functions.\n",
    "\n",
    "|  x1   |  x2   | f | f | f | f | f | f | f | f | f | f | f | f | f | f | f | f |\n",
    "|-------|-------|---|---|---|---|---|---|---|---|---|---|---|---|---|---|---|---|\n",
    "| **0** | **0** | 0 | 0 | 0 | 0 | 0 | 0 | 0 | 0 | 1 | 1 | 1 | 1 | 1 | 1 | 1 | 1 |\n",
    "| **0** | **1** | 0 | 0 | 0 | 0 | 1 | 1 | 1 | 1 | 0 | 0 | 0 | 0 | 1 | 1 | 1 | 1 |\n",
    "| **1** | **0** | 0 | 0 | 1 | 1 | 0 | 0 | 1 | 1 | 0 | 0 | 1 | 1 | 0 | 0 | 1 | 1 |\n",
    "| **1** | **1** | 0 | 1 | 0 | 1 | 0 | 1 | 0 | 1 | 0 | 1 | 0 | 1 | 0 | 1 | 0 | 1 |"
   ]
  },
  {
   "cell_type": "markdown",
   "id": "0ffae4bb-7e1a-4111-be6d-3f47204b8b0c",
   "metadata": {},
   "source": [
    "In next video, will show a technique for writing a general set up for this so it is not necessary to specify the functions ahead of time. We can just write an algorithm that will initially pick a function at random from the constant or balanced functions, then look at a general algorithm that to try figure out whether the function is constant or balanced. The goal is to use as little investigation as possible meaning, calling the function as little as possible.\n",
    "\n",
    "The reason for interest in this scenario is because David Deutsch realised, as to whether quantum computers can do things that classical computers can't and do more quickly. The hardware side of this is really the main problem, whether things can be physically done. But on the software side, Deutsch realised that where the best classical computer algorithm to check if the function was balanced or constant needs to make two calls to the function, whereas with the quantum computer only needs to make a single call to the function.\n",
    "\n",
    "Presently this is about 99% true. Can design a quantum computer that solve this problem, based on a single call. Therefore a quantum computer is supposed to solve this problem more efficiently than a classical computer. Can be shown theoretically that this is true. There is no doubt about the mathematics about this. Can you keep a qubit alive long enough to show this. \n",
    "\n",
    "The more bits you add as inputs, the number of function calls a classical computer needs to make goes up exponentially, whereas a quantum computer still solves it with that algorithm with a single function call."
   ]
  },
  {
   "cell_type": "code",
   "execution_count": 69,
   "id": "e1b2884a-e4e3-401a-97ee-be4467af2766",
   "metadata": {},
   "outputs": [],
   "source": [
    "# number of input bits\n",
    "n = 2"
   ]
  },
  {
   "cell_type": "code",
   "execution_count": 70,
   "id": "446b7e89-190b-483f-9654-17ff50abafd1",
   "metadata": {},
   "outputs": [
    {
     "data": {
      "text/plain": [
       "[0, 0, 0, 0]"
      ]
     },
     "execution_count": 70,
     "metadata": {},
     "output_type": "execute_result"
    }
   ],
   "source": [
    "# the zeros constant function - takes the contents of list [0], replicates 2**n times\n",
    "[0] * 2**n"
   ]
  },
  {
   "cell_type": "code",
   "execution_count": 71,
   "id": "35768641-44ac-4096-b66a-fa7a679a3a91",
   "metadata": {},
   "outputs": [
    {
     "data": {
      "text/plain": [
       "[1, 1, 1, 1]"
      ]
     },
     "execution_count": 71,
     "metadata": {},
     "output_type": "execute_result"
    }
   ],
   "source": [
    "# the ones constant function\n",
    "[1] * 2**n"
   ]
  },
  {
   "cell_type": "code",
   "execution_count": 72,
   "id": "3cb6b178-6403-4e3f-80dc-8dbb14f2e762",
   "metadata": {},
   "outputs": [
    {
     "data": {
      "text/plain": [
       "[[1, 1, 0, 0],\n",
       " [1, 0, 1, 0],\n",
       " [1, 0, 0, 1],\n",
       " [0, 1, 1, 0],\n",
       " [0, 1, 0, 1],\n",
       " [0, 0, 1, 1]]"
      ]
     },
     "execution_count": 72,
     "metadata": {},
     "output_type": "execute_result"
    }
   ],
   "source": [
    "# generate the balanced functions\n",
    "# adopted from https://stackoverflow.com/a/43817007\n",
    "def balanced_functions(noinputbits):\n",
    "    # length of the list is 2 to power of noinputbits\n",
    "    size = 2**noinputbits\n",
    "    # number of ones is half the length of that list\n",
    "    count = size // 2\n",
    "    # generate all positions for 1's\n",
    "    for positions in itertools.combinations(range(size), count):\n",
    "        # create a list of zeros\n",
    "        p = [0] * size\n",
    "        # set positions to 1's\n",
    "        for i in positions:\n",
    "            p[i] = 1\n",
    "        # generate list\n",
    "        yield p\n",
    "\n",
    "list(balanced_functions(2))"
   ]
  },
  {
   "cell_type": "markdown",
   "id": "83139258-5856-4bc0-a1c7-5d64212456a3",
   "metadata": {},
   "source": [
    "The above output list reflects the above table of the 6 constant or balanced functions in no particular order."
   ]
  },
  {
   "cell_type": "code",
   "execution_count": 73,
   "id": "95c8eecd-0f49-4f4c-8068-a73984e72bc3",
   "metadata": {},
   "outputs": [],
   "source": [
    "# generate all the constant and balanced functions\n",
    "def generate_functions(n):\n",
    "    return list(balanced_functions(n)) + [[0] * 2**n, [1] * 2**n]"
   ]
  },
  {
   "cell_type": "code",
   "execution_count": 74,
   "id": "a6910e46-ebb0-4569-8687-90db9bac59fe",
   "metadata": {},
   "outputs": [
    {
     "data": {
      "text/plain": [
       "[[1, 1, 0, 0],\n",
       " [1, 0, 1, 0],\n",
       " [1, 0, 0, 1],\n",
       " [0, 1, 1, 0],\n",
       " [0, 1, 0, 1],\n",
       " [0, 0, 1, 1],\n",
       " [0, 0, 0, 0],\n",
       " [1, 1, 1, 1]]"
      ]
     },
     "execution_count": 74,
     "metadata": {},
     "output_type": "execute_result"
    }
   ],
   "source": [
    "# generate all functions\n",
    "generate_functions(n)"
   ]
  },
  {
   "cell_type": "markdown",
   "id": "43ee1613-99bf-401b-954d-cffcc384e861",
   "metadata": {},
   "source": [
    "The above output list contains all the constant and balanced functions along with the all zero's and all one's functions."
   ]
  },
  {
   "cell_type": "code",
   "execution_count": 75,
   "id": "d61213a3-5293-45e6-939d-534a5555433c",
   "metadata": {},
   "outputs": [],
   "source": [
    "def randomf(n):\n",
    "    # get all balanced and constant functions as lists\n",
    "    funcs = generate_functions(n)\n",
    "    # return a random function as a list\n",
    "    return random.choice(funcs)"
   ]
  },
  {
   "cell_type": "code",
   "execution_count": 76,
   "id": "5eb7f1c1-3906-4f34-b869-dc24e3a20f1e",
   "metadata": {},
   "outputs": [],
   "source": [
    "# call randomf for two input bits\n",
    "f = randomf(2)"
   ]
  },
  {
   "cell_type": "code",
   "execution_count": 77,
   "id": "0b8d9328-757e-404e-a5f9-48fc04a99b6d",
   "metadata": {},
   "outputs": [
    {
     "data": {
      "text/plain": [
       "[0, 0, 0, 0]"
      ]
     },
     "execution_count": 77,
     "metadata": {},
     "output_type": "execute_result"
    }
   ],
   "source": [
    "# just a list for now\n",
    "f"
   ]
  },
  {
   "cell_type": "code",
   "execution_count": 78,
   "id": "6eaa6a63-6cbd-4fe6-a77c-e21981fcded8",
   "metadata": {},
   "outputs": [],
   "source": [
    "# make it a function\n",
    "def randomf(n):\n",
    "    # get all balanced and constant functions as lists\n",
    "    funcs = generate_functions(n)   \n",
    "    # pick one at random, get a random function\n",
    "    retvals = random.choice(funcs)    \n",
    "    # create a function from the list, *x means variable number of arguments\n",
    "    def f(*x):\n",
    "        # reverse the bits\n",
    "        x = x[::-1]\n",
    "        # running total for position in list for output bit\n",
    "        retpos = 0\n",
    "        # loop through the elements in x (reversed)\n",
    "        for i in range(len(x)):\n",
    "            # multiply i pos of x by 2^i\n",
    "            retpos = retpos + (x[i] * 2**i)\n",
    "        # list position\n",
    "        return retvals[retpos]\n",
    "    # function returns a function\n",
    "    return f"
   ]
  },
  {
   "cell_type": "code",
   "execution_count": 79,
   "id": "1ce08812-c7f5-46f3-87d6-088740465221",
   "metadata": {},
   "outputs": [
    {
     "data": {
      "text/plain": [
       "<function __main__.randomf.<locals>.f(*x)>"
      ]
     },
     "execution_count": 79,
     "metadata": {},
     "output_type": "execute_result"
    }
   ],
   "source": [
    "# get a random function that takes two bits as input\n",
    "randomf(2)"
   ]
  },
  {
   "cell_type": "code",
   "execution_count": 80,
   "id": "3a27078f-c040-4038-b874-3f9bc5c3bab4",
   "metadata": {},
   "outputs": [],
   "source": [
    "# get a random function that takes two bits as input\n",
    "f = randomf(2)"
   ]
  },
  {
   "cell_type": "code",
   "execution_count": 81,
   "id": "31ee3cde-b133-485c-842c-29f4c135f5d2",
   "metadata": {},
   "outputs": [
    {
     "data": {
      "text/plain": [
       "1"
      ]
     },
     "execution_count": 81,
     "metadata": {},
     "output_type": "execute_result"
    }
   ],
   "source": [
    "# sample calls\n",
    "f(1, 1)"
   ]
  },
  {
   "cell_type": "markdown",
   "id": "c41dcb07-9de3-43a1-ae57-970b046071f6",
   "metadata": {},
   "source": [
    "With above initial sample the output of 1, determined that the only function it could not have been was the constant zero function."
   ]
  },
  {
   "cell_type": "code",
   "execution_count": 82,
   "id": "db16c8b6-0c1f-44bc-b6ea-15438afe2948",
   "metadata": {},
   "outputs": [
    {
     "data": {
      "text/plain": [
       "0"
      ]
     },
     "execution_count": 82,
     "metadata": {},
     "output_type": "execute_result"
    }
   ],
   "source": [
    "# sample calls\n",
    "f(0, 1)"
   ]
  },
  {
   "cell_type": "markdown",
   "id": "df07d7ca-5ea3-4c17-b3db-e624d5b75f28",
   "metadata": {},
   "source": [
    "With above initial sample the output of 0, determined that this function was one of the balanced functions not a constant function."
   ]
  },
  {
   "cell_type": "markdown",
   "id": "115682eb-12ab-4551-aa8f-3379a4d89c2c",
   "metadata": {},
   "source": [
    "### Classical Algorithm\n",
    "***"
   ]
  },
  {
   "cell_type": "code",
   "execution_count": 83,
   "id": "9ec135df-c236-4f6c-8f06-aa8dd47585f2",
   "metadata": {},
   "outputs": [],
   "source": [
    "# number of input bits\n",
    "n = 2"
   ]
  },
  {
   "cell_type": "code",
   "execution_count": 84,
   "id": "3a57a1ad-26a5-4df5-9f0a-ed917609ff5c",
   "metadata": {},
   "outputs": [],
   "source": [
    "# generate a random constant or balanced function with n input bits\n",
    "f = randomf(n)"
   ]
  },
  {
   "cell_type": "code",
   "execution_count": 85,
   "id": "9c7fccb6-c552-4184-9443-b7c52819cb9c",
   "metadata": {},
   "outputs": [
    {
     "data": {
      "text/plain": [
       "[(0, 0), (0, 1), (1, 0), (1, 1)]"
      ]
     },
     "execution_count": 85,
     "metadata": {},
     "output_type": "execute_result"
    }
   ],
   "source": [
    "# adapted from: https://stackoverflow.com/a/35313967\n",
    "list(itertools.product(*[(0, 1)] * n))"
   ]
  },
  {
   "cell_type": "code",
   "execution_count": 86,
   "id": "c5e32ed4-09bd-40ca-8038-c683dd699707",
   "metadata": {},
   "outputs": [],
   "source": [
    "def balanced_or_constant(f, n):\n",
    "    # presume f is constant\n",
    "    constant = True\n",
    "    # last returned value\n",
    "    last = None\n",
    "    # keep track of number of iterations\n",
    "    i = 0\n",
    "    # loop through all possible inputs\n",
    "    for inputs in itertools.product(*[(0, 1)] * n):\n",
    "        # try this input on f, inputs is a list of length n, unpacks list into parameters\n",
    "        # of the function, use the elements of the list as arguments to function f\n",
    "        current = f(*inputs)\n",
    "        # print a debug message\n",
    "        print(f\"Trying: {inputs}  Return: {current}  Last: {last}\")\n",
    "        # compare last to current\n",
    "        if last is not None and current != last:\n",
    "            # tell the user f is balanced\n",
    "            constant = False\n",
    "            break\n",
    "        last = current\n",
    "        # increment the iteration count\n",
    "        i = i + 1\n",
    "        # have we performed 2**(n-1) + 1 iterations\n",
    "        if i > 2**(n-1):\n",
    "            break\n",
    "    if constant:\n",
    "        print(\"Constant\")\n",
    "    else:\n",
    "        print(\"Balanced\")"
   ]
  },
  {
   "cell_type": "code",
   "execution_count": 87,
   "id": "3cd001d5-b9e3-4a08-a8ac-137e4da4ac3b",
   "metadata": {},
   "outputs": [
    {
     "name": "stdout",
     "output_type": "stream",
     "text": [
      "Trying: (0, 0)  Return: 1  Last: None\n",
      "Trying: (0, 1)  Return: 1  Last: 1\n",
      "Trying: (1, 0)  Return: 1  Last: 1\n",
      "Constant\n"
     ]
    }
   ],
   "source": [
    "# pass values\n",
    "balanced_or_constant(f, n)"
   ]
  },
  {
   "cell_type": "markdown",
   "id": "46689d7c-8c69-4b57-a1bb-5e6a2839bde6",
   "metadata": {},
   "source": [
    "## More than two bits\n",
    "\n",
    "As the number of input bits increases, the chances of getting a constant function becomes less and less. Because there are always only two constant functions but there are 2^2^(n-1)-2 balanced functions.\n",
    "***"
   ]
  },
  {
   "cell_type": "code",
   "execution_count": 88,
   "id": "0f6216e1-188d-49f0-8374-378c232a3146",
   "metadata": {},
   "outputs": [],
   "source": [
    "# four input bits\n",
    "n = 4"
   ]
  },
  {
   "cell_type": "code",
   "execution_count": 89,
   "id": "eeee6b75-90e7-4873-bdc6-9270d8066b6f",
   "metadata": {},
   "outputs": [],
   "source": [
    "# generate random function\n",
    "f = randomf(n)"
   ]
  },
  {
   "cell_type": "code",
   "execution_count": 90,
   "id": "f83f6c0e-f631-4b9f-9812-eb590693168c",
   "metadata": {},
   "outputs": [
    {
     "name": "stdout",
     "output_type": "stream",
     "text": [
      "Trying: (0, 0, 0, 0)  Return: 0  Last: None\n",
      "Trying: (0, 0, 0, 1)  Return: 0  Last: 0\n",
      "Trying: (0, 0, 1, 0)  Return: 1  Last: 0\n",
      "Balanced\n"
     ]
    }
   ],
   "source": [
    "# test if balanced\n",
    "balanced_or_constant(f, n)"
   ]
  },
  {
   "cell_type": "markdown",
   "id": "ca52c1b2-456c-46a8-bfbb-2fabdb151181",
   "metadata": {},
   "source": [
    "## End Balanced Functions or Constant Functions"
   ]
  },
  {
   "cell_type": "markdown",
   "id": "4a13cb64-22e7-4a34-b4bd-5ac3da2e298b",
   "metadata": {},
   "source": []
  },
  {
   "cell_type": "markdown",
   "id": "4c3ef083-99a4-41a5-bc1e-ac594b139518",
   "metadata": {},
   "source": [
    "## References\n"
   ]
  },
  {
   "cell_type": "markdown",
   "id": "dd9db52d-250d-47de-897e-2ed57fde37ab",
   "metadata": {},
   "source": [
    "***\n",
    "\n",
    "## End"
   ]
  }
 ],
 "metadata": {
  "kernelspec": {
   "display_name": "Python 3 (ipykernel)",
   "language": "python",
   "name": "python3"
  },
  "language_info": {
   "codemirror_mode": {
    "name": "ipython",
    "version": 3
   },
   "file_extension": ".py",
   "mimetype": "text/x-python",
   "name": "python",
   "nbconvert_exporter": "python",
   "pygments_lexer": "ipython3",
   "version": "3.9.7"
  }
 },
 "nbformat": 4,
 "nbformat_minor": 5
}
