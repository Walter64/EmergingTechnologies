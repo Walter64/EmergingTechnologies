{
 "cells": [
  {
   "cell_type": "markdown",
   "id": "a11874ed-7348-4c7e-b95f-9a7a4a6b9d65",
   "metadata": {},
   "source": [
    "## The scikit-learn Notebook by Walter Regan\n",
    "\n",
    "***\n",
    "\n",
    "### This notebook will contain a clear and concise overview of the scikit-learn Python library, demonstrating at least three interesting scikit-learn algorithms of your choice. You may choose to have an overall spread of examples across the library or pick a particular part that you find interesting. <b />\n",
    "**Edit into first person present tense when I decide on which examples to do.**"
   ]
  },
  {
   "cell_type": "code",
   "execution_count": 8,
   "id": "0bbce793-7cd2-439f-bbb4-ab2aac457b94",
   "metadata": {},
   "outputs": [],
   "source": [
    "# Efficient numerical arrays\n",
    "import numpy as np\n",
    "\n",
    "# plotting\n",
    "import matplotlib.pyplot as plt"
   ]
  },
  {
   "cell_type": "code",
   "execution_count": 2,
   "id": "55364444-0c9f-496a-b486-b71ac1b38e70",
   "metadata": {},
   "outputs": [],
   "source": [
    "# change default style sheet\n",
    "#plt.style.use('ggplot')\n",
    "plt.style.use('fivethirtyeight')\n",
    "\n",
    "# change default figure size\n",
    "plt.rcParams['figure.figsize'] = [10, 5]"
   ]
  },
  {
   "cell_type": "markdown",
   "id": "53f20fa3-5e27-47a0-952f-6151bcbd86cb",
   "metadata": {},
   "source": [
    "<b />\n",
    "\n",
    "### numpy.random.normal\n",
    "\n",
    "https://numpy.org/doc/stable/reference/random/generated/numpy.random.normal.html\n",
    "\n",
    "***"
   ]
  },
  {
   "cell_type": "code",
   "execution_count": 3,
   "id": "ab3fdace-ea38-4fcd-80c6-23ef46bcb33c",
   "metadata": {},
   "outputs": [],
   "source": [
    " # mean and standard deviation\n",
    "mu, sigma = 0, 0.1\n",
    "\n",
    "# draw random samples from a normal (Gaussian) distribution\n",
    "s = np.random.normal(mu, sigma, 1000)"
   ]
  },
  {
   "cell_type": "code",
   "execution_count": 4,
   "id": "7b983301-3ac0-4721-bd9d-9810d79316dc",
   "metadata": {},
   "outputs": [
    {
     "data": {
      "text/plain": [
       "0.0008101983223560143"
      ]
     },
     "execution_count": 4,
     "metadata": {},
     "output_type": "execute_result"
    }
   ],
   "source": [
    "# verify the mean and the variance\n",
    "abs(mu - np.mean(s))"
   ]
  },
  {
   "cell_type": "code",
   "execution_count": 5,
   "id": "0af5e544-0086-436d-a34e-b4341c41a4a7",
   "metadata": {},
   "outputs": [
    {
     "data": {
      "text/plain": [
       "0.002190571315690462"
      ]
     },
     "execution_count": 5,
     "metadata": {},
     "output_type": "execute_result"
    }
   ],
   "source": [
    "abs(sigma - np.std(s, ddof=1))"
   ]
  },
  {
   "cell_type": "code",
   "execution_count": 6,
   "id": "3a5c52eb-a36e-4c03-a973-a4af4130d0e4",
   "metadata": {},
   "outputs": [
    {
     "data": {
      "image/png": "[encoded data removed]",
      "text/plain": [
       "<Figure size 720x360 with 1 Axes>"
      ]
     },
     "metadata": {},
     "output_type": "display_data"
    }
   ],
   "source": [
    "# Verify the mean and the variance\n",
    "count, bins, ignored = plt.hist(s, 30, density=True)\n",
    "f = 1/(sigma * np.sqrt(2 * np.pi)) * np.exp(-(bins - mu)**2/(2 * sigma**2))\n",
    "plt.plot(bins, f, linewidth=2)\n",
    "plt.show()"
   ]
  },
  {
   "cell_type": "markdown",
   "id": "1b4e0349-3db5-4ce5-8596-1682f48efad1",
   "metadata": {},
   "source": [
    "## End Section 1\n",
    "***\n",
    "***"
   ]
  },
  {
   "cell_type": "markdown",
   "id": "b74e65cd-4de9-41aa-bd5a-db1f7bc02e25",
   "metadata": {},
   "source": [
    "## scikit-learn Tutorials Examples\n",
    "https://scikit-learn.org/stable/tutorial/index.html\n",
    "***"
   ]
  },
  {
   "cell_type": "markdown",
   "id": "7f77772b-0ffd-4725-87d3-3b3d5032f6a1",
   "metadata": {},
   "source": [
    "## An introduction to machine learning with scikit-learn"
   ]
  },
  {
   "cell_type": "markdown",
   "id": "0ec49480-a26b-4f90-9586-3ba6b57be8b6",
   "metadata": {},
   "source": [
    "### Loading an example dataset"
   ]
  },
  {
   "cell_type": "code",
   "execution_count": 52,
   "id": "2f319ff0-e980-45ab-9543-2f734df219fa",
   "metadata": {},
   "outputs": [],
   "source": [
    "#import sklearn.datasets as datasets\n",
    "from sklearn import datasets"
   ]
  },
  {
   "cell_type": "code",
   "execution_count": 53,
   "id": "ba4f171e-9b49-4d06-8cdb-ba597be09fb9",
   "metadata": {},
   "outputs": [],
   "source": [
    "iris = datasets.load_iris()"
   ]
  },
  {
   "cell_type": "code",
   "execution_count": 54,
   "id": "28282436-1c36-439a-9eeb-4b0c9244af2d",
   "metadata": {},
   "outputs": [],
   "source": [
    "digits = datasets.load_digits()"
   ]
  },
  {
   "cell_type": "code",
   "execution_count": 55,
   "id": "32a83845-0547-44a2-aa8c-518dfada443e",
   "metadata": {},
   "outputs": [
    {
     "name": "stdout",
     "output_type": "stream",
     "text": [
      "[[ 0.  0.  5. ...  0.  0.  0.]\n",
      " [ 0.  0.  0. ... 10.  0.  0.]\n",
      " [ 0.  0.  0. ... 16.  9.  0.]\n",
      " ...\n",
      " [ 0.  0.  1. ...  6.  0.  0.]\n",
      " [ 0.  0.  2. ... 12.  0.  0.]\n",
      " [ 0.  0. 10. ... 12.  1.  0.]]\n"
     ]
    }
   ],
   "source": [
    "print(digits.data)"
   ]
  },
  {
   "cell_type": "code",
   "execution_count": 56,
   "id": "2ce8971d-9dd1-425d-8daf-83535211acc3",
   "metadata": {},
   "outputs": [
    {
     "data": {
      "text/plain": [
       "array([0, 1, 2, ..., 8, 9, 8])"
      ]
     },
     "execution_count": 56,
     "metadata": {},
     "output_type": "execute_result"
    }
   ],
   "source": [
    "digits.target"
   ]
  },
  {
   "cell_type": "code",
   "execution_count": 57,
   "id": "48a58964-c331-4b29-ae49-27805dca4e25",
   "metadata": {},
   "outputs": [
    {
     "name": "stdout",
     "output_type": "stream",
     "text": [
      "[0 1 2 ... 8 9 8]\n"
     ]
    }
   ],
   "source": [
    "print(digits.target)"
   ]
  },
  {
   "cell_type": "markdown",
   "id": "5073acab-c2a1-4dbf-baae-669368e1e96c",
   "metadata": {},
   "source": [
    "### Learning and predicting"
   ]
  },
  {
   "cell_type": "code",
   "execution_count": 58,
   "id": "ac5b919a-5613-4cd4-86d3-0237ec957000",
   "metadata": {},
   "outputs": [],
   "source": [
    "# estimator class\n",
    "from sklearn import svm\n",
    "#import sklearn.svm as svm"
   ]
  },
  {
   "cell_type": "code",
   "execution_count": 59,
   "id": "bd09d4ef-82a4-498c-ba4c-30441a1ede37",
   "metadata": {},
   "outputs": [],
   "source": [
    "# clf - for classifier, here is an estimator instance\n",
    "clf = svm.SVC(gamma=0.001, C=100)"
   ]
  },
  {
   "cell_type": "markdown",
   "id": "94ad25dc-d658-48cd-af42-6708bd7a5758",
   "metadata": {},
   "source": [
    "__Choosing the parameters of the mode__"
   ]
  },
  {
   "cell_type": "code",
   "execution_count": 60,
   "id": "e6b722cf-5422-46d3-abf1-1fd3d815e599",
   "metadata": {},
   "outputs": [
    {
     "data": {
      "text/plain": [
       "SVC(C=100, gamma=0.001)"
      ]
     },
     "execution_count": 60,
     "metadata": {},
     "output_type": "execute_result"
    }
   ],
   "source": [
    "clf.fit(digits.data[:-1], digits.target[:-1])"
   ]
  },
  {
   "cell_type": "code",
   "execution_count": 62,
   "id": "e16c1e65-c65c-4ab7-9e27-5485f297040b",
   "metadata": {},
   "outputs": [
    {
     "data": {
      "text/plain": [
       "array([8])"
      ]
     },
     "execution_count": 62,
     "metadata": {},
     "output_type": "execute_result"
    }
   ],
   "source": [
    "# predict new values\n",
    "clf.predict(digits.data[-1:])"
   ]
  },
  {
   "cell_type": "markdown",
   "id": "83da219a-e341-4f7f-9638-f1f7ad4e5ff3",
   "metadata": {},
   "source": [
    "### Conventions\n",
    "scikit-learn estimators follow certain rules to make their behavior more predictive. These are described in more detail in the Glossary of Common Terms and API Elements.\n",
    "https://scikit-learn.org/stable/glossary.html#glossary"
   ]
  },
  {
   "cell_type": "markdown",
   "id": "61ea0643-2ea4-4b1f-bbba-fb22478ef07f",
   "metadata": {},
   "source": [
    "__Type Casting__"
   ]
  },
  {
   "cell_type": "code",
   "execution_count": 63,
   "id": "7a802785-9cb6-417f-ba7d-531909b8f90c",
   "metadata": {},
   "outputs": [],
   "source": [
    "import numpy as np"
   ]
  },
  {
   "cell_type": "code",
   "execution_count": 64,
   "id": "c5125c3f-68ea-434b-922b-6017e5ee70da",
   "metadata": {},
   "outputs": [],
   "source": [
    "from sklearn import random_projection"
   ]
  },
  {
   "cell_type": "code",
   "execution_count": 65,
   "id": "85912ee5-f5a3-4974-ad63-8aab5ef6fb95",
   "metadata": {},
   "outputs": [],
   "source": [
    "rng = np.random.RandomState(0)"
   ]
  },
  {
   "cell_type": "code",
   "execution_count": 66,
   "id": "826f5c59-9e0d-4703-b2c6-e6d2efd8726c",
   "metadata": {},
   "outputs": [],
   "source": [
    "X = rng.rand(10, 2000)"
   ]
  },
  {
   "cell_type": "code",
   "execution_count": 67,
   "id": "0517ddf7-8155-40f9-8d88-fa60a228c1a4",
   "metadata": {},
   "outputs": [],
   "source": [
    "X = np.array(X, dtype='float32')"
   ]
  },
  {
   "cell_type": "code",
   "execution_count": 68,
   "id": "dbfde54b-07b5-418c-8cd8-d7a12d79dd81",
   "metadata": {},
   "outputs": [
    {
     "data": {
      "text/plain": [
       "dtype('float32')"
      ]
     },
     "execution_count": 68,
     "metadata": {},
     "output_type": "execute_result"
    }
   ],
   "source": [
    "X.dtype"
   ]
  },
  {
   "cell_type": "code",
   "execution_count": 69,
   "id": "4495b693-fa7f-4aa1-8197-eb8003f6fc8f",
   "metadata": {},
   "outputs": [],
   "source": [
    "transformer = random_projection.GaussianRandomProjection()"
   ]
  },
  {
   "cell_type": "code",
   "execution_count": 70,
   "id": "8649f66b-9140-4c43-a98c-853e4dca4da9",
   "metadata": {},
   "outputs": [],
   "source": [
    "X_new = transformer.fit_transform(X)"
   ]
  },
  {
   "cell_type": "code",
   "execution_count": 71,
   "id": "2e1b5d99-cbe1-484d-8f72-30b3371cda06",
   "metadata": {},
   "outputs": [
    {
     "data": {
      "text/plain": [
       "dtype('float64')"
      ]
     },
     "execution_count": 71,
     "metadata": {},
     "output_type": "execute_result"
    }
   ],
   "source": [
    "X_new.dtype"
   ]
  },
  {
   "cell_type": "code",
   "execution_count": 74,
   "id": "f8f6d9e6-6f05-4e66-b61e-33d11a6cf5cc",
   "metadata": {},
   "outputs": [],
   "source": [
    "#from sklearn import datasets"
   ]
  },
  {
   "cell_type": "code",
   "execution_count": 75,
   "id": "3b4b4cd0-f235-4613-9efc-ec2a79539546",
   "metadata": {},
   "outputs": [],
   "source": [
    "from sklearn.svm import SVC"
   ]
  },
  {
   "cell_type": "code",
   "execution_count": null,
   "id": "d0a715a6-4a5d-4d19-9c72-66f6200af7fa",
   "metadata": {},
   "outputs": [],
   "source": [
    "#iris = datasets.load_iris()"
   ]
  },
  {
   "cell_type": "code",
   "execution_count": 66,
   "id": "444527eb-73bd-4a0f-a7ce-aa6f583e4636",
   "metadata": {},
   "outputs": [],
   "source": [
    "#clf = SVC()"
   ]
  },
  {
   "cell_type": "code",
   "execution_count": 76,
   "id": "89f64866-9fcc-41ac-8f7a-91bf0fe91326",
   "metadata": {},
   "outputs": [],
   "source": [
    "clf = svm.SVC()"
   ]
  },
  {
   "cell_type": "code",
   "execution_count": 77,
   "id": "319f738a-67fd-47fb-ab25-3160cc09c3b0",
   "metadata": {},
   "outputs": [
    {
     "data": {
      "text/plain": [
       "SVC()"
      ]
     },
     "execution_count": 77,
     "metadata": {},
     "output_type": "execute_result"
    }
   ],
   "source": [
    "clf.fit(iris.data, iris.target)"
   ]
  },
  {
   "cell_type": "code",
   "execution_count": 78,
   "id": "0cda0209-0fcd-4e3f-b690-fdfd68a8fb89",
   "metadata": {},
   "outputs": [
    {
     "data": {
      "text/plain": [
       "[0, 0, 0]"
      ]
     },
     "execution_count": 78,
     "metadata": {},
     "output_type": "execute_result"
    }
   ],
   "source": [
    "# returns an integer arrayas iris.target an integer array was used to fit\n",
    "list(clf.predict(iris.data[:3]))"
   ]
  },
  {
   "cell_type": "code",
   "execution_count": 79,
   "id": "1564b9ef-d46e-4d08-9d79-55355d19c64f",
   "metadata": {},
   "outputs": [
    {
     "data": {
      "text/plain": [
       "SVC()"
      ]
     },
     "execution_count": 79,
     "metadata": {},
     "output_type": "execute_result"
    }
   ],
   "source": [
    "clf.fit(iris.data, iris.target_names[iris.target])"
   ]
  },
  {
   "cell_type": "code",
   "execution_count": 80,
   "id": "a938cc25-52f2-4032-9747-fa104e5e6033",
   "metadata": {},
   "outputs": [
    {
     "data": {
      "text/plain": [
       "['setosa', 'setosa', 'setosa']"
      ]
     },
     "execution_count": 80,
     "metadata": {},
     "output_type": "execute_result"
    }
   ],
   "source": [
    "# returns a string, as iris.target_names was used for fitting\n",
    "list(clf.predict(iris.data[:3]))"
   ]
  },
  {
   "cell_type": "markdown",
   "id": "0df29975-be7e-4bf4-b10e-134b20b0b386",
   "metadata": {},
   "source": [
    "__Refitting and updating parameters__"
   ]
  },
  {
   "cell_type": "code",
   "execution_count": null,
   "id": "fdda62d6-2eff-4259-b343-d582cf519100",
   "metadata": {},
   "outputs": [],
   "source": [
    "#import numpy as np"
   ]
  },
  {
   "cell_type": "code",
   "execution_count": null,
   "id": "4c907f93-5bf8-484e-a465-7cd5ea746c9b",
   "metadata": {},
   "outputs": [],
   "source": [
    "#from sklearn.datasets import load_iris"
   ]
  },
  {
   "cell_type": "code",
   "execution_count": null,
   "id": "617b9509-e864-42e4-8c26-9afbbadcefc4",
   "metadata": {},
   "outputs": [],
   "source": [
    "#from sklearn.svm import SVC"
   ]
  },
  {
   "cell_type": "code",
   "execution_count": 77,
   "id": "7fe88c53-be1d-47e4-af48-a4cddc2e8d6c",
   "metadata": {},
   "outputs": [],
   "source": [
    "X, y = datasets.load_iris(return_X_y= True)"
   ]
  },
  {
   "cell_type": "code",
   "execution_count": 79,
   "id": "add5195c-d47f-4f98-a7c2-58d47ebd798c",
   "metadata": {},
   "outputs": [],
   "source": [
    "clf= svm.SVC()"
   ]
  },
  {
   "cell_type": "code",
   "execution_count": 81,
   "id": "eeac1733-513c-4901-94e0-835165e508bc",
   "metadata": {},
   "outputs": [
    {
     "data": {
      "text/plain": [
       "SVC(kernel='linear')"
      ]
     },
     "execution_count": 81,
     "metadata": {},
     "output_type": "execute_result"
    }
   ],
   "source": [
    "# change default kernel 'rbf' to linear\n",
    "clf.set_params(kernel='linear').fit(X, y)"
   ]
  },
  {
   "cell_type": "code",
   "execution_count": 82,
   "id": "55524109-0c47-46b2-8de4-48afed1944e8",
   "metadata": {},
   "outputs": [
    {
     "data": {
      "text/plain": [
       "array([0, 0, 0, 0, 0])"
      ]
     },
     "execution_count": 82,
     "metadata": {},
     "output_type": "execute_result"
    }
   ],
   "source": [
    "# make prediction\n",
    "clf.predict(X[:5])"
   ]
  },
  {
   "cell_type": "code",
   "execution_count": 83,
   "id": "00e4c90b-5092-44a1-809b-091406b8b1cd",
   "metadata": {},
   "outputs": [
    {
     "data": {
      "text/plain": [
       "SVC()"
      ]
     },
     "execution_count": 83,
     "metadata": {},
     "output_type": "execute_result"
    }
   ],
   "source": [
    "# change kernel back to 'rbf' to refit the estimator\n",
    "clf.set_params(kernel='rbf').fit(X, y)"
   ]
  },
  {
   "cell_type": "code",
   "execution_count": 84,
   "id": "bc2f0730-bf28-46bd-a3be-5d6336b0366b",
   "metadata": {},
   "outputs": [
    {
     "data": {
      "text/plain": [
       "array([0, 0, 0, 0, 0])"
      ]
     },
     "execution_count": 84,
     "metadata": {},
     "output_type": "execute_result"
    }
   ],
   "source": [
    "# make second prediction\n",
    "clf.predict(X[:5])"
   ]
  },
  {
   "cell_type": "markdown",
   "id": "615fe7e1-c7c3-4ea6-8e21-37e9b5701502",
   "metadata": {},
   "source": [
    "__Multiclass vs. multilabel fitting__"
   ]
  },
  {
   "cell_type": "code",
   "execution_count": 85,
   "id": "fd976e92-094d-4ae0-a455-e8b21028e9eb",
   "metadata": {},
   "outputs": [],
   "source": [
    "#from sklearn.svm import SVC"
   ]
  },
  {
   "cell_type": "code",
   "execution_count": 89,
   "id": "f2cf3cfd-60c0-4a51-8711-07e72157643b",
   "metadata": {},
   "outputs": [],
   "source": [
    "#from sklearn.multiclass import OneVsRestClassifier\n",
    "import sklearn.multiclass as multiclass\n",
    "OneVsRestClassifier = multiclass.OneVsRestClassifier"
   ]
  },
  {
   "cell_type": "code",
   "execution_count": 90,
   "id": "47df1308-b200-428f-b017-a820203d7b44",
   "metadata": {},
   "outputs": [],
   "source": [
    "from sklearn.preprocessing import LabelBinarizer"
   ]
  },
  {
   "cell_type": "code",
   "execution_count": 91,
   "id": "d4701d52-1cff-40ea-81ad-2e4ab50d7b39",
   "metadata": {},
   "outputs": [],
   "source": [
    " X = [[1, 2], [2, 4], [4, 5], [3, 2], [3, 1]]"
   ]
  },
  {
   "cell_type": "code",
   "execution_count": 92,
   "id": "4d01fb18-bf9a-45fe-9f2f-87ead4747d02",
   "metadata": {},
   "outputs": [],
   "source": [
    "y = [0, 0, 1, 1, 2]"
   ]
  },
  {
   "cell_type": "code",
   "execution_count": 93,
   "id": "c1d6e2ed-96ac-42d7-ad01-bc76f4441c57",
   "metadata": {},
   "outputs": [],
   "source": [
    "classif = OneVsRestClassifier(estimator=SVC(random_state=0))"
   ]
  },
  {
   "cell_type": "code",
   "execution_count": 94,
   "id": "10e547b0-1350-49d3-9c81-3c8c95625ef2",
   "metadata": {},
   "outputs": [
    {
     "data": {
      "text/plain": [
       "array([0, 0, 1, 1, 2])"
      ]
     },
     "execution_count": 94,
     "metadata": {},
     "output_type": "execute_result"
    }
   ],
   "source": [
    "classif.fit(X, y).predict(X)"
   ]
  },
  {
   "cell_type": "code",
   "execution_count": 95,
   "id": "121f777f-634e-471b-be74-246225b10ee0",
   "metadata": {},
   "outputs": [],
   "source": [
    "y = LabelBinarizer().fit_transform(y)"
   ]
  },
  {
   "cell_type": "code",
   "execution_count": 96,
   "id": "abbc357a-5ba4-47dc-9674-f80ad6e79134",
   "metadata": {},
   "outputs": [
    {
     "data": {
      "text/plain": [
       "array([[1, 0, 0],\n",
       "       [1, 0, 0],\n",
       "       [0, 1, 0],\n",
       "       [0, 0, 0],\n",
       "       [0, 0, 0]])"
      ]
     },
     "execution_count": 96,
     "metadata": {},
     "output_type": "execute_result"
    }
   ],
   "source": [
    "classif.fit(X,y).predict(X)"
   ]
  },
  {
   "cell_type": "code",
   "execution_count": 110,
   "id": "ffbc75e9-875a-4f0a-9d78-f96db5f47434",
   "metadata": {},
   "outputs": [],
   "source": [
    "from sklearn.preprocessing import MultiLabelBinarizer\n",
    "#import sklearn.preprocessing as preprocessing\n",
    "#MultiLabelBinarizer = preprocessing.MultiLabelBinarizer"
   ]
  },
  {
   "cell_type": "code",
   "execution_count": 111,
   "id": "c6e4d0cb-6843-4070-8672-174a8ccfec87",
   "metadata": {},
   "outputs": [],
   "source": [
    "y = [[0, 1], [0, 2], [1, 3], [0, 2, 3], [2, 4]]"
   ]
  },
  {
   "cell_type": "code",
   "execution_count": 112,
   "id": "1ff1e43f-c948-4ee1-a47b-fd80d4310b94",
   "metadata": {},
   "outputs": [],
   "source": [
    "y = MultiLabelBinarizer().fit_transform(y)"
   ]
  },
  {
   "cell_type": "code",
   "execution_count": 113,
   "id": "bc244a60-93cc-4cb9-825b-bb8736f522d8",
   "metadata": {},
   "outputs": [
    {
     "data": {
      "text/plain": [
       "array([[1, 1, 0, 0, 0],\n",
       "       [1, 0, 1, 0, 0],\n",
       "       [0, 1, 0, 1, 0],\n",
       "       [1, 0, 1, 0, 0],\n",
       "       [1, 0, 1, 0, 0]])"
      ]
     },
     "execution_count": 113,
     "metadata": {},
     "output_type": "execute_result"
    }
   ],
   "source": [
    "classif.fit(X, y).predict(X)"
   ]
  },
  {
   "cell_type": "code",
   "execution_count": null,
   "id": "272b0a13-20a7-44a7-9f64-76f67a20d3b7",
   "metadata": {},
   "outputs": [],
   "source": []
  },
  {
   "cell_type": "markdown",
   "id": "e9d71339-dd9c-4be0-aeb3-d44555bc1203",
   "metadata": {},
   "source": [
    "### End - Introduction to machine learning with scikit-learn\n",
    "***"
   ]
  },
  {
   "cell_type": "markdown",
   "id": "0cd2a9b4-6f46-4b41-a862-915ad20cc8d4",
   "metadata": {},
   "source": [
    "## A tutorial on statistical-learning for scientific data processing"
   ]
  },
  {
   "cell_type": "markdown",
   "id": "2e0375d4-7b91-4f90-814b-df166904d587",
   "metadata": {},
   "source": [
    "#### Statistical learning: the setting and the estimator object in scikit-learn"
   ]
  },
  {
   "cell_type": "markdown",
   "id": "baca365a-6d77-4282-9fd3-65b589468a9d",
   "metadata": {},
   "source": [
    "__Datasets :__ ___A simple example shipped with scikit-learn: iris dataset___"
   ]
  },
  {
   "cell_type": "code",
   "execution_count": 81,
   "id": "aeed082d-8318-4e4b-996f-11033f788d04",
   "metadata": {},
   "outputs": [],
   "source": [
    "from sklearn import datasets"
   ]
  },
  {
   "cell_type": "code",
   "execution_count": 82,
   "id": "d5470c4d-da55-49e9-8bf4-fac9bfd1601b",
   "metadata": {},
   "outputs": [],
   "source": [
    "iris = datasets.load_iris()"
   ]
  },
  {
   "cell_type": "code",
   "execution_count": 83,
   "id": "a863b23f-487f-4d0f-9e7f-3e73117e7512",
   "metadata": {},
   "outputs": [],
   "source": [
    "data = iris.data"
   ]
  },
  {
   "cell_type": "code",
   "execution_count": 84,
   "id": "da583f54-2512-482b-858f-e79ed0020d4f",
   "metadata": {},
   "outputs": [
    {
     "data": {
      "text/plain": [
       "(150, 4)"
      ]
     },
     "execution_count": 84,
     "metadata": {},
     "output_type": "execute_result"
    }
   ],
   "source": [
    "data.shape"
   ]
  },
  {
   "cell_type": "markdown",
   "id": "b7d4a8a4-b859-4490-8a22-bc4e0d8741e9",
   "metadata": {},
   "source": [
    "__Datasets:__ ___An example of reshaping data would be the digits dataset___\n",
    "\n",
    "The digits dataset is made of 1797 8x8 images of hand-written digits"
   ]
  },
  {
   "cell_type": "code",
   "execution_count": 85,
   "id": "bbb76d38-4470-43f5-a3a1-92046c82ac2f",
   "metadata": {},
   "outputs": [],
   "source": [
    "digits = datasets.load_digits()"
   ]
  },
  {
   "cell_type": "code",
   "execution_count": 86,
   "id": "abbcc3f1-00f6-4894-ae3a-33a3971645cc",
   "metadata": {},
   "outputs": [
    {
     "data": {
      "text/plain": [
       "(1797, 8, 8)"
      ]
     },
     "execution_count": 86,
     "metadata": {},
     "output_type": "execute_result"
    }
   ],
   "source": [
    "digits.images.shape"
   ]
  },
  {
   "cell_type": "code",
   "execution_count": 87,
   "id": "2ec798ac-c9b1-40c6-a2bd-96650c7385cd",
   "metadata": {},
   "outputs": [],
   "source": [
    "import matplotlib.pyplot as plt"
   ]
  },
  {
   "cell_type": "code",
   "execution_count": 97,
   "id": "547ca4bc-2c02-41c9-b25f-1879c1cd8363",
   "metadata": {},
   "outputs": [
    {
     "data": {
      "text/plain": [
       "<matplotlib.image.AxesImage at 0x1c49c1d11c0>"
      ]
     },
     "execution_count": 97,
     "metadata": {},
     "output_type": "execute_result"
    },
    {
     "data": {
      "image/png": "[encoded data removed]",
      "text/plain": [
       "<Figure size 432x288 with 1 Axes>"
      ]
     },
     "metadata": {
      "needs_background": "light"
     },
     "output_type": "display_data"
    }
   ],
   "source": [
    "plt.imshow(digits.images[-1], cmap=plt.cm.gray_r)"
   ]
  },
  {
   "cell_type": "markdown",
   "id": "75bf956b-2132-482e-bb11-037436b2ec82",
   "metadata": {},
   "source": [
    "To use this dataset with scikit-learn, we transform each 8x8 image into a feature vector of length 64"
   ]
  },
  {
   "cell_type": "code",
   "execution_count": 89,
   "id": "3ae4716f-0232-40cb-911f-d2e2968e5adf",
   "metadata": {},
   "outputs": [],
   "source": [
    "data = digits.images.reshape((digits.images.shape[0], -1))"
   ]
  },
  {
   "cell_type": "markdown",
   "id": "8ae7fbc0-07bb-46ec-b463-995704250386",
   "metadata": {},
   "source": [
    "### Estimators objects"
   ]
  },
  {
   "cell_type": "markdown",
   "id": "4a685034-37be-412e-960d-f39a070c66cc",
   "metadata": {},
   "source": [
    "__Fitting data__"
   ]
  },
  {
   "cell_type": "code",
   "execution_count": 100,
   "id": "0d284dd5-27cd-412e-a563-9b3a3d87961a",
   "metadata": {},
   "outputs": [
    {
     "ename": "NameError",
     "evalue": "name 'estimator' is not defined",
     "output_type": "error",
     "traceback": [
      "\u001b[1;31m---------------------------------------------------------------------------\u001b[0m",
      "\u001b[1;31mNameError\u001b[0m                                 Traceback (most recent call last)",
      "\u001b[1;32m<ipython-input-100-67302fb98520>\u001b[0m in \u001b[0;36m<module>\u001b[1;34m\u001b[0m\n\u001b[1;32m----> 1\u001b[1;33m \u001b[0mestimator\u001b[0m\u001b[1;33m.\u001b[0m\u001b[0mfit\u001b[0m\u001b[1;33m(\u001b[0m\u001b[0mdata\u001b[0m\u001b[1;33m)\u001b[0m\u001b[1;33m\u001b[0m\u001b[1;33m\u001b[0m\u001b[0m\n\u001b[0m",
      "\u001b[1;31mNameError\u001b[0m: name 'estimator' is not defined"
     ]
    }
   ],
   "source": [
    "estimator.fit(data)"
   ]
  },
  {
   "cell_type": "code",
   "execution_count": 46,
   "id": "fbdd05a6-d0e8-4493-9dbf-ef27465ef90c",
   "metadata": {},
   "outputs": [
    {
     "ename": "NameError",
     "evalue": "name 'Estimator' is not defined",
     "output_type": "error",
     "traceback": [
      "\u001b[1;31m---------------------------------------------------------------------------\u001b[0m",
      "\u001b[1;31mNameError\u001b[0m                                 Traceback (most recent call last)",
      "\u001b[1;32m<ipython-input-46-dd10a0d7307e>\u001b[0m in \u001b[0;36m<module>\u001b[1;34m\u001b[0m\n\u001b[1;32m----> 1\u001b[1;33m \u001b[0mestimator\u001b[0m \u001b[1;33m=\u001b[0m \u001b[0mEstimator\u001b[0m\u001b[1;33m(\u001b[0m\u001b[0mparam1\u001b[0m\u001b[1;33m=\u001b[0m\u001b[1;36m1\u001b[0m\u001b[1;33m,\u001b[0m \u001b[0mparam2\u001b[0m\u001b[1;33m=\u001b[0m\u001b[1;36m2\u001b[0m\u001b[1;33m)\u001b[0m\u001b[1;33m\u001b[0m\u001b[1;33m\u001b[0m\u001b[0m\n\u001b[0m",
      "\u001b[1;31mNameError\u001b[0m: name 'Estimator' is not defined"
     ]
    }
   ],
   "source": [
    "estimator = Estimator(param1=1, param2=2)"
   ]
  },
  {
   "cell_type": "code",
   "execution_count": 31,
   "id": "274d890d-d144-4f74-abe2-81053530c8e7",
   "metadata": {},
   "outputs": [
    {
     "ename": "NameError",
     "evalue": "name 'estimator' is not defined",
     "output_type": "error",
     "traceback": [
      "\u001b[1;31m---------------------------------------------------------------------------\u001b[0m",
      "\u001b[1;31mNameError\u001b[0m                                 Traceback (most recent call last)",
      "\u001b[1;32m<ipython-input-31-0886ae23b473>\u001b[0m in \u001b[0;36m<module>\u001b[1;34m\u001b[0m\n\u001b[1;32m----> 1\u001b[1;33m \u001b[0mestimator\u001b[0m\u001b[1;33m.\u001b[0m\u001b[0mparam1\u001b[0m\u001b[1;33m\u001b[0m\u001b[1;33m\u001b[0m\u001b[0m\n\u001b[0m",
      "\u001b[1;31mNameError\u001b[0m: name 'estimator' is not defined"
     ]
    }
   ],
   "source": [
    "estimator.param1"
   ]
  },
  {
   "cell_type": "code",
   "execution_count": 94,
   "id": "cf41d01e-c97c-4a41-8344-4ae9d4f05c08",
   "metadata": {},
   "outputs": [
    {
     "ename": "NameError",
     "evalue": "name 'estimator' is not defined",
     "output_type": "error",
     "traceback": [
      "\u001b[1;31m---------------------------------------------------------------------------\u001b[0m",
      "\u001b[1;31mNameError\u001b[0m                                 Traceback (most recent call last)",
      "\u001b[1;32m<ipython-input-94-0a045a93d4d3>\u001b[0m in \u001b[0;36m<module>\u001b[1;34m\u001b[0m\n\u001b[1;32m----> 1\u001b[1;33m \u001b[0mestimator\u001b[0m\u001b[1;33m.\u001b[0m\u001b[0mestimated_param_\u001b[0m\u001b[1;33m\u001b[0m\u001b[1;33m\u001b[0m\u001b[0m\n\u001b[0m",
      "\u001b[1;31mNameError\u001b[0m: name 'estimator' is not defined"
     ]
    }
   ],
   "source": [
    "estimator.estimated_param_ "
   ]
  },
  {
   "cell_type": "markdown",
   "id": "90329b3d-c6cd-4980-8f73-8e93b3f58cc9",
   "metadata": {},
   "source": [
    "### End Statistical learning: the setting and the estimator object in scikit-learn\n",
    "***"
   ]
  },
  {
   "cell_type": "markdown",
   "id": "b2d1c6a4-3a2a-4f8d-a2c7-3bd96fc8e2fd",
   "metadata": {},
   "source": [
    "***\n",
    "### Supervised learning: predicting an output variable from high-dimensional observations\n",
    "***"
   ]
  },
  {
   "cell_type": "code",
   "execution_count": null,
   "id": "8ee6cd51-c22e-4ad6-80f5-6df66bd27d22",
   "metadata": {},
   "outputs": [],
   "source": []
  },
  {
   "cell_type": "code",
   "execution_count": null,
   "id": "bbc0574a-46b3-48b6-8d79-d6fee4454a80",
   "metadata": {},
   "outputs": [],
   "source": []
  },
  {
   "cell_type": "code",
   "execution_count": null,
   "id": "3e0cd811-e2c2-474d-b740-2707d42ca456",
   "metadata": {},
   "outputs": [],
   "source": []
  },
  {
   "cell_type": "code",
   "execution_count": null,
   "id": "344d9fec-3da1-476c-b06c-c0fc02ba191d",
   "metadata": {},
   "outputs": [],
   "source": []
  },
  {
   "cell_type": "code",
   "execution_count": null,
   "id": "8e39b170-d991-4c77-a65d-68d208b4df55",
   "metadata": {},
   "outputs": [],
   "source": []
  },
  {
   "cell_type": "markdown",
   "id": "2a1226fc-ea07-4f4a-bceb-bf9956c9bf84",
   "metadata": {},
   "source": [
    "## NumPy Documentation\n",
    "\n",
    "[Numpy quickstart](https://numpy.org/doc/stable/user/quickstart.html)\n",
    "\n",
    "***"
   ]
  },
  {
   "cell_type": "markdown",
   "id": "5311e485-5857-43d8-8fbc-21392ae71abf",
   "metadata": {},
   "source": [
    "__Some Basics__"
   ]
  },
  {
   "cell_type": "code",
   "execution_count": 1,
   "id": "54bf056e-524e-4bfd-82ea-e36270bd49bc",
   "metadata": {},
   "outputs": [],
   "source": [
    "import numpy as np"
   ]
  },
  {
   "cell_type": "code",
   "execution_count": 11,
   "id": "4c193234-a925-47a6-9862-29a584a991c7",
   "metadata": {},
   "outputs": [
    {
     "data": {
      "text/plain": [
       "range(0, 5)"
      ]
     },
     "execution_count": 11,
     "metadata": {},
     "output_type": "execute_result"
    }
   ],
   "source": [
    "# range function generator\n",
    "range(5)"
   ]
  },
  {
   "cell_type": "code",
   "execution_count": 10,
   "id": "52fb2548-178c-4558-ae60-385d6db761ce",
   "metadata": {},
   "outputs": [
    {
     "data": {
      "text/plain": [
       "[0, 1, 2, 3, 4]"
      ]
     },
     "execution_count": 10,
     "metadata": {},
     "output_type": "execute_result"
    }
   ],
   "source": [
    "# displays a list exclusive of 5\n",
    "list(range(5))"
   ]
  },
  {
   "cell_type": "code",
   "execution_count": 12,
   "id": "b859af33-9bd3-4955-a9db-0ebcc554d2cd",
   "metadata": {},
   "outputs": [
    {
     "data": {
      "text/plain": [
       "[1, 3, 5, 7, 9]"
      ]
     },
     "execution_count": 12,
     "metadata": {},
     "output_type": "execute_result"
    }
   ],
   "source": [
    "# lists start(inclusive) to end(exclusive) with a step of 2\n",
    "list(range(1, 10, 2))"
   ]
  },
  {
   "cell_type": "code",
   "execution_count": 42,
   "id": "82b3d07b-2d27-448b-877d-b02a870cfe15",
   "metadata": {},
   "outputs": [
    {
     "data": {
      "text/plain": [
       "array([1, 3, 5, 7, 9])"
      ]
     },
     "execution_count": 42,
     "metadata": {},
     "output_type": "execute_result"
    }
   ],
   "source": [
    "# wraps range in a numpy array\n",
    "a = np.arange(1, 10, 2)\n",
    "a"
   ]
  },
  {
   "cell_type": "code",
   "execution_count": 20,
   "id": "73b451b7-55e9-497a-8198-ad7386f0a6d9",
   "metadata": {},
   "outputs": [
    {
     "data": {
      "text/plain": [
       "dtype('int32')"
      ]
     },
     "execution_count": 20,
     "metadata": {},
     "output_type": "execute_result"
    }
   ],
   "source": [
    "# displays type of elements in array\n",
    "a.dtype"
   ]
  },
  {
   "cell_type": "code",
   "execution_count": 21,
   "id": "e89269c1-4f6d-4e66-a712-41cffdb77925",
   "metadata": {},
   "outputs": [
    {
     "data": {
      "text/plain": [
       "'int32'"
      ]
     },
     "execution_count": 21,
     "metadata": {},
     "output_type": "execute_result"
    }
   ],
   "source": [
    "a.dtype.name"
   ]
  },
  {
   "cell_type": "code",
   "execution_count": 44,
   "id": "cff300f5-b6df-4f4b-9c90-41f0a81aebae",
   "metadata": {},
   "outputs": [
    {
     "data": {
      "text/plain": [
       "array([1.5 , 1.52, 1.54, 1.56, 1.58, 1.6 , 1.62, 1.64, 1.66, 1.68, 1.7 ,\n",
       "       1.72, 1.74, 1.76, 1.78, 1.8 , 1.82, 1.84, 1.86, 1.88, 1.9 , 1.92,\n",
       "       1.94, 1.96, 1.98, 2.  , 2.02, 2.04, 2.06, 2.08, 2.1 , 2.12, 2.14,\n",
       "       2.16, 2.18, 2.2 , 2.22, 2.24, 2.26, 2.28, 2.3 , 2.32, 2.34, 2.36,\n",
       "       2.38, 2.4 , 2.42, 2.44, 2.46, 2.48, 2.5 , 2.52, 2.54, 2.56, 2.58,\n",
       "       2.6 , 2.62, 2.64, 2.66, 2.68, 2.7 , 2.72, 2.74, 2.76, 2.78, 2.8 ,\n",
       "       2.82, 2.84, 2.86, 2.88, 2.9 , 2.92, 2.94, 2.96, 2.98, 3.  , 3.02,\n",
       "       3.04, 3.06, 3.08, 3.1 , 3.12, 3.14, 3.16, 3.18, 3.2 , 3.22, 3.24,\n",
       "       3.26, 3.28, 3.3 , 3.32, 3.34, 3.36, 3.38, 3.4 , 3.42, 3.44, 3.46,\n",
       "       3.48, 3.5 , 3.52, 3.54, 3.56, 3.58, 3.6 , 3.62, 3.64, 3.66, 3.68,\n",
       "       3.7 , 3.72, 3.74, 3.76, 3.78, 3.8 , 3.82, 3.84, 3.86, 3.88, 3.9 ,\n",
       "       3.92, 3.94, 3.96, 3.98, 4.  , 4.02, 4.04, 4.06, 4.08, 4.1 , 4.12,\n",
       "       4.14, 4.16, 4.18, 4.2 ])"
      ]
     },
     "execution_count": 44,
     "metadata": {},
     "output_type": "execute_result"
    }
   ],
   "source": [
    "# pass floating point numbers and fractional steps\n",
    "b = np.arange(1.5, 4.21, 0.02)\n",
    "b"
   ]
  },
  {
   "cell_type": "code",
   "execution_count": 45,
   "id": "c81713d5-820b-44b5-822b-5f8b11d38a99",
   "metadata": {},
   "outputs": [
    {
     "data": {
      "text/plain": [
       "dtype('float64')"
      ]
     },
     "execution_count": 45,
     "metadata": {},
     "output_type": "execute_result"
    }
   ],
   "source": [
    "# displays type of elements in array\n",
    "b.dtype"
   ]
  },
  {
   "cell_type": "code",
   "execution_count": 25,
   "id": "79cd274e-70f0-4862-83af-40403aac794e",
   "metadata": {},
   "outputs": [
    {
     "data": {
      "text/plain": [
       "'float64'"
      ]
     },
     "execution_count": 25,
     "metadata": {},
     "output_type": "execute_result"
    }
   ],
   "source": [
    "b.dtype.name"
   ]
  },
  {
   "cell_type": "code",
   "execution_count": 46,
   "id": "e6633968-6f80-4b24-8d1d-756d7457d4be",
   "metadata": {},
   "outputs": [
    {
     "data": {
      "text/plain": [
       "array([1.5, 3.5, 5.5, 7.5, 9.5])"
      ]
     },
     "execution_count": 46,
     "metadata": {},
     "output_type": "execute_result"
    }
   ],
   "source": [
    "# pass floating point numbers with integer steps\n",
    "c = np.arange(1.5, 10.21, 2)\n",
    "c"
   ]
  },
  {
   "cell_type": "code",
   "execution_count": 47,
   "id": "7bc5ab9f-9a90-4b3c-bcc1-c33608db841e",
   "metadata": {},
   "outputs": [
    {
     "data": {
      "text/plain": [
       "dtype('float64')"
      ]
     },
     "execution_count": 47,
     "metadata": {},
     "output_type": "execute_result"
    }
   ],
   "source": [
    "# type of array elements is float regardless of step type being an integer\n",
    "c.dtype"
   ]
  },
  {
   "cell_type": "code",
   "execution_count": 48,
   "id": "4b4357f4-0a02-4f95-8971-96a22352db96",
   "metadata": {},
   "outputs": [
    {
     "data": {
      "text/plain": [
       "(5,)"
      ]
     },
     "execution_count": 48,
     "metadata": {},
     "output_type": "execute_result"
    }
   ],
   "source": [
    "# gives a tuple of array dimensions and can be used to change the dimensions of an array.\n",
    "c.shape"
   ]
  },
  {
   "cell_type": "code",
   "execution_count": 51,
   "id": "ac5bcbc4-1d3a-4fa6-be33-61779601c9bd",
   "metadata": {},
   "outputs": [
    {
     "data": {
      "text/plain": [
       "array([[ 0,  1,  2,  3,  4],\n",
       "       [ 5,  6,  7,  8,  9],\n",
       "       [10, 11, 12, 13, 14]])"
      ]
     },
     "execution_count": 51,
     "metadata": {},
     "output_type": "execute_result"
    }
   ],
   "source": [
    "# reshape tool gives a new shape to an array without changing its data.\n",
    "# it creates a new array and does not modify the original array itself.\n",
    "\n",
    "a = np.arange(15).reshape(3, 5)\n",
    "a"
   ]
  },
  {
   "cell_type": "code",
   "execution_count": 52,
   "id": "21bdd09b-6b49-45aa-90d2-269646d18ed1",
   "metadata": {},
   "outputs": [
    {
     "data": {
      "text/plain": [
       "(3, 5)"
      ]
     },
     "execution_count": 52,
     "metadata": {},
     "output_type": "execute_result"
    }
   ],
   "source": [
    "a.shape"
   ]
  },
  {
   "cell_type": "code",
   "execution_count": 53,
   "id": "b412fd65-162a-4fa0-a0d6-477ee51f7ba3",
   "metadata": {},
   "outputs": [
    {
     "data": {
      "text/plain": [
       "array([[ 0],\n",
       "       [ 1],\n",
       "       [ 2],\n",
       "       [ 3],\n",
       "       [ 4],\n",
       "       [ 5],\n",
       "       [ 6],\n",
       "       [ 7],\n",
       "       [ 8],\n",
       "       [ 9],\n",
       "       [10],\n",
       "       [11],\n",
       "       [12],\n",
       "       [13],\n",
       "       [14]])"
      ]
     },
     "execution_count": 53,
     "metadata": {},
     "output_type": "execute_result"
    }
   ],
   "source": [
    "# displays 1 column, -1 tell numpy to figure out number of rows\n",
    "a.reshape(-1, 1)"
   ]
  },
  {
   "cell_type": "code",
   "execution_count": 58,
   "id": "09bcc524-a459-46d6-bd6b-d2b901b0d6b5",
   "metadata": {},
   "outputs": [
    {
     "data": {
      "text/plain": [
       "2"
      ]
     },
     "execution_count": 58,
     "metadata": {},
     "output_type": "execute_result"
    }
   ],
   "source": [
    "# ndim property is used to get an int representing the number of axes / array dimensions\n",
    "a.ndim"
   ]
  },
  {
   "cell_type": "code",
   "execution_count": 55,
   "id": "86e68b0b-dd60-4f9b-a415-3d6ac3e3abfb",
   "metadata": {},
   "outputs": [
    {
     "data": {
      "text/plain": [
       "1"
      ]
     },
     "execution_count": 55,
     "metadata": {},
     "output_type": "execute_result"
    }
   ],
   "source": [
    "# c is 1 dimensional\n",
    "c.ndim"
   ]
  },
  {
   "cell_type": "code",
   "execution_count": 59,
   "id": "44885222-8ffc-441b-92c2-bbb5492bfdb5",
   "metadata": {},
   "outputs": [
    {
     "data": {
      "text/plain": [
       "4"
      ]
     },
     "execution_count": 59,
     "metadata": {},
     "output_type": "execute_result"
    }
   ],
   "source": [
    "# returns the size (in bytes) of each element array\n",
    "a.itemsize"
   ]
  },
  {
   "cell_type": "code",
   "execution_count": 62,
   "id": "931c8db7-660e-427d-a96f-6b28f7f4e11a",
   "metadata": {},
   "outputs": [
    {
     "data": {
      "text/plain": [
       "15"
      ]
     },
     "execution_count": 62,
     "metadata": {},
     "output_type": "execute_result"
    }
   ],
   "source": [
    "# number of elements in array\n",
    "# c elements are integer numbers\n",
    "\n",
    "a.size"
   ]
  },
  {
   "cell_type": "code",
   "execution_count": 63,
   "id": "c77facab-4fb8-4881-96e5-2a1651e72767",
   "metadata": {},
   "outputs": [
    {
     "data": {
      "text/plain": [
       "8"
      ]
     },
     "execution_count": 63,
     "metadata": {},
     "output_type": "execute_result"
    }
   ],
   "source": [
    "# returns the size (in bytes) of each element array\n",
    "# c elements are floating point numbers\n",
    "\n",
    "c.itemsize"
   ]
  },
  {
   "cell_type": "code",
   "execution_count": 64,
   "id": "028c72b9-f6ca-4758-92e5-1277f245cb91",
   "metadata": {},
   "outputs": [
    {
     "data": {
      "text/plain": [
       "numpy.ndarray"
      ]
     },
     "execution_count": 64,
     "metadata": {},
     "output_type": "execute_result"
    }
   ],
   "source": [
    "# identifies the type\n",
    "type(a)"
   ]
  },
  {
   "cell_type": "code",
   "execution_count": 65,
   "id": "e028a588-8e3b-4bcd-a74c-065389572daf",
   "metadata": {},
   "outputs": [
    {
     "data": {
      "text/plain": [
       "numpy.ndarray"
      ]
     },
     "execution_count": 65,
     "metadata": {},
     "output_type": "execute_result"
    }
   ],
   "source": [
    "type(c)"
   ]
  },
  {
   "cell_type": "code",
   "execution_count": 67,
   "id": "8ffde555-6673-4733-9b64-dec2b0c08136",
   "metadata": {},
   "outputs": [
    {
     "data": {
      "text/plain": [
       "array([6, 7, 8])"
      ]
     },
     "execution_count": 67,
     "metadata": {},
     "output_type": "execute_result"
    }
   ],
   "source": [
    "d = np.array([6, 7, 8])\n",
    "d"
   ]
  },
  {
   "cell_type": "code",
   "execution_count": 68,
   "id": "3fc95c92-2702-4cce-877e-b410a3e6a9c0",
   "metadata": {},
   "outputs": [
    {
     "data": {
      "text/plain": [
       "numpy.ndarray"
      ]
     },
     "execution_count": 68,
     "metadata": {},
     "output_type": "execute_result"
    }
   ],
   "source": [
    "type(d)"
   ]
  },
  {
   "cell_type": "code",
   "execution_count": 69,
   "id": "aebdfebc-9a63-4411-8419-4020f855083a",
   "metadata": {},
   "outputs": [
    {
     "data": {
      "text/plain": [
       "9"
      ]
     },
     "execution_count": 69,
     "metadata": {},
     "output_type": "execute_result"
    }
   ],
   "source": [
    "num = 9\n",
    "num"
   ]
  },
  {
   "cell_type": "code",
   "execution_count": 70,
   "id": "7bf729cd-576e-4ff1-bb7f-51ded56dd202",
   "metadata": {},
   "outputs": [
    {
     "data": {
      "text/plain": [
       "int"
      ]
     },
     "execution_count": 70,
     "metadata": {},
     "output_type": "execute_result"
    }
   ],
   "source": [
    "# displays num as an integer type\n",
    "type(num)"
   ]
  },
  {
   "cell_type": "code",
   "execution_count": null,
   "id": "47b8d5bc-3418-403f-b1bc-6d85b0265ab3",
   "metadata": {},
   "outputs": [],
   "source": []
  },
  {
   "cell_type": "code",
   "execution_count": 72,
   "id": "696efa0c-0440-454a-9b4e-0fd925b546b7",
   "metadata": {},
   "outputs": [
    {
     "data": {
      "text/plain": [
       "array([0. , 0.1, 0.2, 0.3, 0.4, 0.5, 0.6, 0.7, 0.8, 0.9, 1. , 1.1, 1.2,\n",
       "       1.3, 1.4, 1.5, 1.6, 1.7, 1.8, 1.9, 2. , 2.1, 2.2, 2.3, 2.4, 2.5,\n",
       "       2.6, 2.7, 2.8, 2.9, 3. , 3.1, 3.2, 3.3, 3.4, 3.5, 3.6, 3.7, 3.8,\n",
       "       3.9, 4. , 4.1, 4.2, 4.3, 4.4, 4.5, 4.6, 4.7, 4.8, 4.9, 5. , 5.1,\n",
       "       5.2, 5.3, 5.4, 5.5, 5.6, 5.7, 5.8, 5.9, 6. , 6.1, 6.2, 6.3, 6.4,\n",
       "       6.5, 6.6, 6.7, 6.8, 6.9, 7. , 7.1, 7.2, 7.3, 7.4, 7.5, 7.6, 7.7,\n",
       "       7.8, 7.9, 8. , 8.1, 8.2, 8.3, 8.4, 8.5, 8.6, 8.7, 8.8, 8.9, 9. ,\n",
       "       9.1, 9.2, 9.3, 9.4, 9.5, 9.6, 9.7, 9.8, 9.9])"
      ]
     },
     "execution_count": 72,
     "metadata": {},
     "output_type": "execute_result"
    }
   ],
   "source": [
    "# list between 0 and 10 with increments of 0.1\n",
    "x = np.arange(0.0, 10.0, 0.1)\n",
    "x"
   ]
  },
  {
   "cell_type": "code",
   "execution_count": 74,
   "id": "5f219566-a541-4e6b-ae57-99baf3a21e4f",
   "metadata": {},
   "outputs": [
    {
     "data": {
      "text/plain": [
       "array([0.000e+00, 1.000e-02, 4.000e-02, 9.000e-02, 1.600e-01, 2.500e-01,\n",
       "       3.600e-01, 4.900e-01, 6.400e-01, 8.100e-01, 1.000e+00, 1.210e+00,\n",
       "       1.440e+00, 1.690e+00, 1.960e+00, 2.250e+00, 2.560e+00, 2.890e+00,\n",
       "       3.240e+00, 3.610e+00, 4.000e+00, 4.410e+00, 4.840e+00, 5.290e+00,\n",
       "       5.760e+00, 6.250e+00, 6.760e+00, 7.290e+00, 7.840e+00, 8.410e+00,\n",
       "       9.000e+00, 9.610e+00, 1.024e+01, 1.089e+01, 1.156e+01, 1.225e+01,\n",
       "       1.296e+01, 1.369e+01, 1.444e+01, 1.521e+01, 1.600e+01, 1.681e+01,\n",
       "       1.764e+01, 1.849e+01, 1.936e+01, 2.025e+01, 2.116e+01, 2.209e+01,\n",
       "       2.304e+01, 2.401e+01, 2.500e+01, 2.601e+01, 2.704e+01, 2.809e+01,\n",
       "       2.916e+01, 3.025e+01, 3.136e+01, 3.249e+01, 3.364e+01, 3.481e+01,\n",
       "       3.600e+01, 3.721e+01, 3.844e+01, 3.969e+01, 4.096e+01, 4.225e+01,\n",
       "       4.356e+01, 4.489e+01, 4.624e+01, 4.761e+01, 4.900e+01, 5.041e+01,\n",
       "       5.184e+01, 5.329e+01, 5.476e+01, 5.625e+01, 5.776e+01, 5.929e+01,\n",
       "       6.084e+01, 6.241e+01, 6.400e+01, 6.561e+01, 6.724e+01, 6.889e+01,\n",
       "       7.056e+01, 7.225e+01, 7.396e+01, 7.569e+01, 7.744e+01, 7.921e+01,\n",
       "       8.100e+01, 8.281e+01, 8.464e+01, 8.649e+01, 8.836e+01, 9.025e+01,\n",
       "       9.216e+01, 9.409e+01, 9.604e+01, 9.801e+01])"
      ]
     },
     "execution_count": 74,
     "metadata": {},
     "output_type": "execute_result"
    }
   ],
   "source": [
    "# plot squared function\n",
    "y = x**2\n",
    "y"
   ]
  },
  {
   "cell_type": "code",
   "execution_count": 79,
   "id": "ee006ac7-9862-4a8e-89dc-9e1c33e2cec6",
   "metadata": {},
   "outputs": [
    {
     "data": {
      "text/plain": [
       "array([ 0. ,  0.1,  0.2,  0.3,  0.4,  0.5,  0.6,  0.7,  0.8,  0.9,  1. ,\n",
       "        1.1,  1.2,  1.3,  1.4,  1.5,  1.6,  1.7,  1.8,  1.9,  2. ,  2.1,\n",
       "        2.2,  2.3,  2.4,  2.5,  2.6,  2.7,  2.8,  2.9,  3. ,  3.1,  3.2,\n",
       "        3.3,  3.4,  3.5,  3.6,  3.7,  3.8,  3.9,  4. ,  4.1,  4.2,  4.3,\n",
       "        4.4,  4.5,  4.6,  4.7,  4.8,  4.9,  5. ,  5.1,  5.2,  5.3,  5.4,\n",
       "        5.5,  5.6,  5.7,  5.8,  5.9,  6. ,  6.1,  6.2,  6.3,  6.4,  6.5,\n",
       "        6.6,  6.7,  6.8,  6.9,  7. ,  7.1,  7.2,  7.3,  7.4,  7.5,  7.6,\n",
       "        7.7,  7.8,  7.9,  8. ,  8.1,  8.2,  8.3,  8.4,  8.5,  8.6,  8.7,\n",
       "        8.8,  8.9,  9. ,  9.1,  9.2,  9.3,  9.4,  9.5,  9.6,  9.7,  9.8,\n",
       "        9.9, 10. ])"
      ]
     },
     "execution_count": 79,
     "metadata": {},
     "output_type": "execute_result"
    }
   ],
   "source": [
    "# creates numeric sequences, similar to the NumPy arange function,\n",
    "# in that it creates sequences of evenly spaced numbers structured as a NumPy array\n",
    "\n",
    "#np.linspace(0.0, 10.0, 100) # at 100\n",
    "np.linspace(0.0, 10.0, 101) # at 101"
   ]
  },
  {
   "cell_type": "code",
   "execution_count": 81,
   "id": "a73fd839-6140-4964-b431-6c96fb9fff1d",
   "metadata": {},
   "outputs": [
    {
     "data": {
      "text/plain": [
       "array([0., 0., 0.])"
      ]
     },
     "execution_count": 81,
     "metadata": {},
     "output_type": "execute_result"
    }
   ],
   "source": [
    "# create an all zero's array - takes a single parameter, returns floating point numbers\n",
    "np.zeros(3)"
   ]
  },
  {
   "cell_type": "code",
   "execution_count": 82,
   "id": "ada34d89-ee69-4865-b651-07ecdc791c08",
   "metadata": {},
   "outputs": [
    {
     "data": {
      "text/plain": [
       "array([[0., 0., 0.],\n",
       "       [0., 0., 0.],\n",
       "       [0., 0., 0.]])"
      ]
     },
     "execution_count": 82,
     "metadata": {},
     "output_type": "execute_result"
    }
   ],
   "source": [
    "# pass tuple to create multi-dimensional array\n",
    "np.zeros((3, 3))"
   ]
  },
  {
   "cell_type": "code",
   "execution_count": 85,
   "id": "f3b23418-8dba-4b6a-bd37-e16810034b58",
   "metadata": {},
   "outputs": [
    {
     "data": {
      "text/plain": [
       "array([1., 1., 1.])"
      ]
     },
     "execution_count": 85,
     "metadata": {},
     "output_type": "execute_result"
    }
   ],
   "source": [
    "# create an all 1's array - takes a single parameter\n",
    "np.ones(3)"
   ]
  },
  {
   "cell_type": "code",
   "execution_count": 90,
   "id": "0370713f-8f23-4786-9254-11146bd020d5",
   "metadata": {},
   "outputs": [
    {
     "data": {
      "text/plain": [
       "array([[1., 1., 1., 1., 1.],\n",
       "       [1., 1., 1., 1., 1.],\n",
       "       [1., 1., 1., 1., 1.]])"
      ]
     },
     "execution_count": 90,
     "metadata": {},
     "output_type": "execute_result"
    }
   ],
   "source": [
    "# create an all 1's array - takes a single parameter\n",
    "j = np.ones((3, 5))\n",
    "j"
   ]
  },
  {
   "cell_type": "code",
   "execution_count": 91,
   "id": "abbf3651-17d8-4392-89ea-4c3e610a1baf",
   "metadata": {},
   "outputs": [
    {
     "data": {
      "text/plain": [
       "dtype('float64')"
      ]
     },
     "execution_count": 91,
     "metadata": {},
     "output_type": "execute_result"
    }
   ],
   "source": [
    "# displays floating point\n",
    "j.dtype"
   ]
  },
  {
   "cell_type": "code",
   "execution_count": 92,
   "id": "73f2f8e8-8c6f-44fa-ac8a-df8aaa15111b",
   "metadata": {},
   "outputs": [
    {
     "data": {
      "text/plain": [
       "array([[1., 0., 0.],\n",
       "       [0., 1., 0.],\n",
       "       [0., 0., 1.]])"
      ]
     },
     "execution_count": 92,
     "metadata": {},
     "output_type": "execute_result"
    }
   ],
   "source": [
    "# idenity matrix\n",
    "i = np.eye(3)\n",
    "i"
   ]
  },
  {
   "cell_type": "code",
   "execution_count": 95,
   "id": "f824ed51-3d0c-4f4a-9e08-f2580e8f209e",
   "metadata": {},
   "outputs": [
    {
     "data": {
      "text/plain": [
       "dtype('float64')"
      ]
     },
     "execution_count": 95,
     "metadata": {},
     "output_type": "execute_result"
    }
   ],
   "source": [
    "i.dtype"
   ]
  },
  {
   "cell_type": "code",
   "execution_count": 97,
   "id": "5a7a3d0f-c8de-4342-844c-019a1528656c",
   "metadata": {},
   "outputs": [
    {
     "data": {
      "text/plain": [
       "array([[1, 0, 0],\n",
       "       [0, 1, 0],\n",
       "       [0, 0, 1]], dtype=int64)"
      ]
     },
     "execution_count": 97,
     "metadata": {},
     "output_type": "execute_result"
    }
   ],
   "source": [
    "# cast i to integer array type\n",
    "i.astype('int64')"
   ]
  },
  {
   "cell_type": "markdown",
   "id": "c5d9a7e3-a978-4635-9c7c-0f52710195e4",
   "metadata": {},
   "source": [
    "***\n",
    "### Array Creation\n",
    "__There are several ways to create arrays__\n",
    "\n",
    "Arrays can be created from a regular Python list or tuple using the <font color='red'>array</font> function. The type of the resulting array is deduced from the type of the elements in the sequences."
   ]
  },
  {
   "cell_type": "code",
   "execution_count": 111,
   "id": "2e02e402-eea2-4f08-be6c-ad8b53aa6321",
   "metadata": {},
   "outputs": [
    {
     "data": {
      "text/plain": [
       "array([2, 3, 4])"
      ]
     },
     "execution_count": 111,
     "metadata": {},
     "output_type": "execute_result"
    }
   ],
   "source": [
    "# create array using array funtion, provides a single sequence within the square brackets \n",
    "x = np.array([2, 3, 4])\n",
    "x"
   ]
  },
  {
   "cell_type": "code",
   "execution_count": 107,
   "id": "1d74c2cf-e1ee-4594-a796-5b7034a6ca3d",
   "metadata": {},
   "outputs": [
    {
     "data": {
      "text/plain": [
       "dtype('int32')"
      ]
     },
     "execution_count": 107,
     "metadata": {},
     "output_type": "execute_result"
    }
   ],
   "source": [
    "x.dtype"
   ]
  },
  {
   "cell_type": "code",
   "execution_count": 108,
   "id": "a414796f-1d08-4176-8c30-27f80bf8f1b2",
   "metadata": {},
   "outputs": [
    {
     "data": {
      "text/plain": [
       "array([2, 3, 4], dtype=int64)"
      ]
     },
     "execution_count": 108,
     "metadata": {},
     "output_type": "execute_result"
    }
   ],
   "source": [
    "x.astype('int64')"
   ]
  },
  {
   "cell_type": "code",
   "execution_count": 109,
   "id": "05ecdfc7-bd7a-49d8-b211-48a4c685d38e",
   "metadata": {},
   "outputs": [
    {
     "data": {
      "text/plain": [
       "array([1.2, 3.5, 5.1])"
      ]
     },
     "execution_count": 109,
     "metadata": {},
     "output_type": "execute_result"
    }
   ],
   "source": [
    "y = np.array([1.2, 3.5, 5.1])\n",
    "y"
   ]
  },
  {
   "cell_type": "code",
   "execution_count": 110,
   "id": "7818d989-3d50-421c-aa73-4f9e1f36efc4",
   "metadata": {},
   "outputs": [
    {
     "data": {
      "text/plain": [
       "dtype('float64')"
      ]
     },
     "execution_count": 110,
     "metadata": {},
     "output_type": "execute_result"
    }
   ],
   "source": [
    "y.dtype"
   ]
  },
  {
   "cell_type": "markdown",
   "id": "e7e48547-21b6-4ff2-a1e6-04146e3facfe",
   "metadata": {},
   "source": [
    "A frequent error consists in calling <font color='red'>array</font> with multiple arguments, rather than providing a single sequence as an argument."
   ]
  },
  {
   "cell_type": "code",
   "execution_count": 114,
   "id": "6aafb354-27f4-4a8c-abce-a1e685236290",
   "metadata": {},
   "outputs": [],
   "source": [
    "# wrong\n",
    "#a = np.array(1, 2, 3, 4) # commented out / uncomment to see error"
   ]
  },
  {
   "cell_type": "markdown",
   "id": "2abf3368-cece-423d-8dca-8b7b8205fb29",
   "metadata": {},
   "source": [
    "<font color='red'>array</font> transforms sequences of sequences into two-dimensional arrays, sequences of sequences of sequences into three-dimensional arrays, and so on."
   ]
  },
  {
   "cell_type": "code",
   "execution_count": 116,
   "id": "5007abb8-fa09-4406-bd49-a323671c2233",
   "metadata": {},
   "outputs": [
    {
     "data": {
      "text/plain": [
       "array([[1.5, 2. , 3. ],\n",
       "       [4. , 5. , 6. ]])"
      ]
     },
     "execution_count": 116,
     "metadata": {},
     "output_type": "execute_result"
    }
   ],
   "source": [
    "# sequences of sequences into 2-dimensional array\n",
    "b = np.array([(1.5, 2, 3), (4, 5, 6)])\n",
    "b"
   ]
  },
  {
   "cell_type": "code",
   "execution_count": 117,
   "id": "7ba12963-1a50-456e-a303-9fe5d354c2d4",
   "metadata": {},
   "outputs": [
    {
     "data": {
      "text/plain": [
       "dtype('float64')"
      ]
     },
     "execution_count": 117,
     "metadata": {},
     "output_type": "execute_result"
    }
   ],
   "source": [
    "# array is deemed a float type\n",
    "b.dtype"
   ]
  },
  {
   "cell_type": "markdown",
   "id": "e9865055-9197-4be8-9c54-9c610155dc5a",
   "metadata": {},
   "source": [
    "The type of the array can also be explicitly specified at creation time"
   ]
  },
  {
   "cell_type": "code",
   "execution_count": 118,
   "id": "0b62b8b2-b524-4ab0-aa95-4a2bf9bbfb22",
   "metadata": {},
   "outputs": [
    {
     "data": {
      "text/plain": [
       "array([[1.+0.j, 2.+0.j],\n",
       "       [3.+0.j, 4.+0.j]])"
      ]
     },
     "execution_count": 118,
     "metadata": {},
     "output_type": "execute_result"
    }
   ],
   "source": [
    "# complex numbers\n",
    "c = np.array([[1, 2], [3, 4]], dtype=complex)\n",
    "c"
   ]
  },
  {
   "cell_type": "code",
   "execution_count": 119,
   "id": "05cccf3e-b4a8-4719-bd17-043348066ee0",
   "metadata": {},
   "outputs": [
    {
     "data": {
      "text/plain": [
       "dtype('complex128')"
      ]
     },
     "execution_count": 119,
     "metadata": {},
     "output_type": "execute_result"
    }
   ],
   "source": [
    "# display type\n",
    "c.dtype"
   ]
  },
  {
   "cell_type": "markdown",
   "id": "77353548-7274-454f-8c75-8e4fbbdd0ad4",
   "metadata": {},
   "source": [
    "When the elements of an array are originally unknown, but its size is known. Can use one of several functions to create arrays with initial placeholder content. These minimize the necessity of growing arrays, an expensive operation."
   ]
  },
  {
   "cell_type": "code",
   "execution_count": 125,
   "id": "8d6473e4-cc1e-4d0c-a049-efc8b470cebc",
   "metadata": {},
   "outputs": [
    {
     "data": {
      "text/plain": [
       "array([[0., 0., 0., 0.],\n",
       "       [0., 0., 0., 0.],\n",
       "       [0., 0., 0., 0.]])"
      ]
     },
     "execution_count": 125,
     "metadata": {},
     "output_type": "execute_result"
    }
   ],
   "source": [
    "# the function zeros creates an array full of zeros\n",
    "np.zeros((3, 4)) # rows, columns"
   ]
  },
  {
   "cell_type": "code",
   "execution_count": 126,
   "id": "dea7bfe1-8156-42b5-a638-1b40c3c9b6a6",
   "metadata": {},
   "outputs": [
    {
     "data": {
      "text/plain": [
       "array([[[1, 1, 1, 1],\n",
       "        [1, 1, 1, 1],\n",
       "        [1, 1, 1, 1]],\n",
       "\n",
       "       [[1, 1, 1, 1],\n",
       "        [1, 1, 1, 1],\n",
       "        [1, 1, 1, 1]]], dtype=int16)"
      ]
     },
     "execution_count": 126,
     "metadata": {},
     "output_type": "execute_result"
    }
   ],
   "source": [
    "# the function ones creates an array full of ones - can specify dtype on creation\n",
    "np.ones((2, 3, 4), dtype=np.int16) # 2 arrays, rows, columns"
   ]
  },
  {
   "cell_type": "code",
   "execution_count": 127,
   "id": "0756613a-d699-46f5-8e6c-5014531ee1e1",
   "metadata": {},
   "outputs": [
    {
     "data": {
      "text/plain": [
       "array([[1.5, 2. , 3. ],\n",
       "       [4. , 5. , 6. ]])"
      ]
     },
     "execution_count": 127,
     "metadata": {},
     "output_type": "execute_result"
    }
   ],
   "source": [
    "# the function empty creates an array whose initial content is random\n",
    "# and depends on the state of the memory\n",
    "np.empty((2, 3))"
   ]
  },
  {
   "cell_type": "markdown",
   "id": "c67fda66-f06c-4a3a-8a81-ca2627681a38",
   "metadata": {},
   "source": [
    "The <span style=color='red'>arange</span> function creates sequences of numbers which is analogous to the Python built-in <font color='red'>range</font>, but returns an array."
   ]
  },
  {
   "cell_type": "code",
   "execution_count": 130,
   "id": "aab259c4-612a-464b-8a35-81d7e15d14db",
   "metadata": {},
   "outputs": [
    {
     "data": {
      "text/plain": [
       "array([10, 15, 20, 25])"
      ]
     },
     "execution_count": 130,
     "metadata": {},
     "output_type": "execute_result"
    }
   ],
   "source": [
    "# pass start, end, and step values respectively - end is exclusive\n",
    "np.arange(10, 30, 5)"
   ]
  },
  {
   "cell_type": "code",
   "execution_count": 132,
   "id": "f8a992d5-8c9d-4585-a2ac-140a8fac1b95",
   "metadata": {},
   "outputs": [
    {
     "data": {
      "text/plain": [
       "array([0. , 0.3, 0.6, 0.9, 1.2, 1.5, 1.8])"
      ]
     },
     "execution_count": 132,
     "metadata": {},
     "output_type": "execute_result"
    }
   ],
   "source": [
    "# pass start, end, and floating step\n",
    "np.arange(0, 2, 0.3)"
   ]
  },
  {
   "cell_type": "markdown",
   "id": "42809902-97cc-4407-846c-49703a1bfcc5",
   "metadata": {},
   "source": [
    "When using <font color='red'>arange</font> with floating point numbers, it is not possible to predict the number of elements obtained, due to the finite floating point precision. Better to use the function <font color='red'>linspace</font> as it takes the number of elements that we want, instead of the step."
   ]
  },
  {
   "cell_type": "code",
   "execution_count": 136,
   "id": "3ca25b79-98e0-4a88-813b-f06a9e09714d",
   "metadata": {},
   "outputs": [
    {
     "data": {
      "text/plain": [
       "array([0.  , 0.25, 0.5 , 0.75, 1.  , 1.25, 1.5 , 1.75, 2.  ])"
      ]
     },
     "execution_count": 136,
     "metadata": {},
     "output_type": "execute_result"
    }
   ],
   "source": [
    "# displays 9 number from 0 to 2\n",
    "np.linspace(0, 2, 9)"
   ]
  },
  {
   "cell_type": "code",
   "execution_count": 151,
   "id": "bff74610-1c55-4944-aa0a-44ebe5a45f00",
   "metadata": {},
   "outputs": [
    {
     "data": {
      "text/plain": [
       "array([0.        , 0.6981317 , 1.3962634 , 2.0943951 , 2.7925268 ,\n",
       "       3.4906585 , 4.1887902 , 4.88692191, 5.58505361, 6.28318531])"
      ]
     },
     "execution_count": 151,
     "metadata": {},
     "output_type": "execute_result"
    }
   ],
   "source": [
    "from numpy import pi\n",
    "\n",
    "# create array with many elements - useful to evaluate function at lots of points\n",
    "x = np.linspace(0, 2 * pi, 10) # at 10 elements\n",
    "#x = np.linspace(0, 2 * pi, 100) # at 100 elements\n",
    "x"
   ]
  },
  {
   "cell_type": "code",
   "execution_count": 152,
   "id": "49fa1f53-7884-4373-87d8-c74f8732bd95",
   "metadata": {},
   "outputs": [
    {
     "data": {
      "text/plain": [
       "array([ 0.00000000e+00,  6.42787610e-01,  9.84807753e-01,  8.66025404e-01,\n",
       "        3.42020143e-01, -3.42020143e-01, -8.66025404e-01, -9.84807753e-01,\n",
       "       -6.42787610e-01, -2.44929360e-16])"
      ]
     },
     "execution_count": 152,
     "metadata": {},
     "output_type": "execute_result"
    }
   ],
   "source": [
    "# evaluate function at many different points\n",
    "f = np.sin(x)\n",
    "f"
   ]
  },
  {
   "cell_type": "markdown",
   "id": "c8cc4dad-4438-4680-a107-4a8b83cca1ab",
   "metadata": {},
   "source": [
    "***\n",
    "## Printing Arrays"
   ]
  },
  {
   "cell_type": "code",
   "execution_count": null,
   "id": "a123fa15-46af-4fe9-8ff8-3b5dc68b8760",
   "metadata": {},
   "outputs": [],
   "source": []
  },
  {
   "cell_type": "code",
   "execution_count": null,
   "id": "a5ec18e0-0777-47a7-8fec-c9b2be23f059",
   "metadata": {},
   "outputs": [],
   "source": []
  },
  {
   "cell_type": "code",
   "execution_count": null,
   "id": "0b5564b6-2c4d-4c24-ad5e-69fd91d1b0b3",
   "metadata": {},
   "outputs": [],
   "source": []
  },
  {
   "cell_type": "markdown",
   "id": "b3d0ac4e-7356-4217-b9ce-07f3b6174953",
   "metadata": {},
   "source": [
    "### End of NumPy Quickstart\n",
    "\n",
    "***"
   ]
  },
  {
   "cell_type": "markdown",
   "id": "bc4fe82d-e2ae-4a2c-bc58-3347a60b29ca",
   "metadata": {},
   "source": [
    "## NumPy Tutorial: Your First Steps Into Data Science in Python\n",
    "[Real Python](https://realpython.com/numpy-tutorial/)"
   ]
  },
  {
   "cell_type": "code",
   "execution_count": 180,
   "id": "13c97d15-e351-4485-bebe-cf6e36c56654",
   "metadata": {},
   "outputs": [],
   "source": [
    "CURVE_CENTER = 80"
   ]
  },
  {
   "cell_type": "code",
   "execution_count": 181,
   "id": "6beab507-8f7c-4e1c-bfe8-74a4c9a7123f",
   "metadata": {},
   "outputs": [],
   "source": [
    "grades = np.array([72, 35, 64, 88, 51, 90, 74, 12])"
   ]
  },
  {
   "cell_type": "code",
   "execution_count": 182,
   "id": "a443d70b-4e1b-496b-8293-0fb3301fb531",
   "metadata": {},
   "outputs": [],
   "source": [
    "def curve(grades):\n",
    "    average = grades.mean()\n",
    "    change = CURVE_CENTER - average\n",
    "    new_grades = grades + change\n",
    "    return np.clip(new_grades, grades, 100)"
   ]
  },
  {
   "cell_type": "code",
   "execution_count": 183,
   "id": "b04c5ace-4da2-4cd3-820f-3b89259d14e6",
   "metadata": {},
   "outputs": [
    {
     "data": {
      "text/plain": [
       "array([ 91.25,  54.25,  83.25, 100.  ,  70.25, 100.  ,  93.25,  31.25])"
      ]
     },
     "execution_count": 183,
     "metadata": {},
     "output_type": "execute_result"
    }
   ],
   "source": [
    "curve(grades)"
   ]
  },
  {
   "cell_type": "code",
   "execution_count": null,
   "id": "d350b449-2501-4493-924b-d9af1f1f374c",
   "metadata": {},
   "outputs": [],
   "source": []
  },
  {
   "cell_type": "code",
   "execution_count": null,
   "id": "b0e1ba32-e46d-4274-bbbb-a5ecc0ae8f29",
   "metadata": {},
   "outputs": [],
   "source": []
  },
  {
   "cell_type": "code",
   "execution_count": null,
   "id": "f11f844f-cd85-4e94-ae31-1e4000a1dbc7",
   "metadata": {},
   "outputs": [],
   "source": []
  },
  {
   "cell_type": "code",
   "execution_count": null,
   "id": "5e36335d-d0fa-4ba3-abaf-f28eb49d9d85",
   "metadata": {},
   "outputs": [],
   "source": []
  },
  {
   "cell_type": "code",
   "execution_count": null,
   "id": "33cacb46-4b35-475b-9225-6c5768a80d21",
   "metadata": {},
   "outputs": [],
   "source": []
  },
  {
   "cell_type": "code",
   "execution_count": null,
   "id": "39401390-be1a-4a08-84b4-898efd25d97d",
   "metadata": {},
   "outputs": [],
   "source": []
  },
  {
   "cell_type": "code",
   "execution_count": null,
   "id": "c58c8023-976e-4c70-8a86-863fd8bd28d9",
   "metadata": {},
   "outputs": [],
   "source": []
  }
 ],
 "metadata": {
  "kernelspec": {
   "display_name": "Python 3",
   "language": "python",
   "name": "python3"
  },
  "language_info": {
   "codemirror_mode": {
    "name": "ipython",
    "version": 3
   },
   "file_extension": ".py",
   "mimetype": "text/x-python",
   "name": "python",
   "nbconvert_exporter": "python",
   "pygments_lexer": "ipython3",
   "version": "3.8.8"
  }
 },
 "nbformat": 4,
 "nbformat_minor": 5
}
